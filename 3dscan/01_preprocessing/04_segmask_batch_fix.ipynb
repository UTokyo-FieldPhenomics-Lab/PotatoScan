{
 "cells": [
  {
   "cell_type": "markdown",
   "metadata": {},
   "source": [
    "Copy and remove masks to cooperate with metashape\n",
    "\n",
    "Please ignore this notebook"
   ]
  },
  {
   "cell_type": "code",
   "execution_count": 1,
   "metadata": {},
   "outputs": [],
   "source": [
    "import os\n",
    "import shutil"
   ]
  },
  {
   "cell_type": "code",
   "execution_count": 2,
   "metadata": {},
   "outputs": [],
   "source": [
    "working_directory = r\"/home/crest/z/hwang_Pro/data/2023_hokkaido_potato\""
   ]
  },
  {
   "cell_type": "code",
   "execution_count": 3,
   "metadata": {},
   "outputs": [],
   "source": [
    "img_folder = os.path.join(working_directory, 'images')\n",
    "mask_folder = os.path.join(working_directory, 'masks')"
   ]
  },
  {
   "cell_type": "code",
   "execution_count": 13,
   "metadata": {},
   "outputs": [],
   "source": [
    "for foldername, subfolders, filenames in os.walk(mask_folder):\n",
    "    if 'preview' in foldername:\n",
    "        continue\n",
    "    for filename in filenames:\n",
    "        file_path = os.path.join(foldername, filename)\n",
    "\n",
    "        to_file_path = file_path.replace('masks', 'images')\n",
    "        if '.JPG' in file_path:\n",
    "            to_file_path = to_file_path.replace('.JPG', '.png')\n",
    "                \n",
    "        shutil.copy(file_path, to_file_path)"
   ]
  },
  {
   "cell_type": "code",
   "execution_count": 15,
   "metadata": {},
   "outputs": [],
   "source": [
    "for foldername, subfolders, filenames in os.walk(img_folder):\n",
    "    for filename in filenames:\n",
    "        file_path = os.path.join(foldername, filename)\n",
    "\n",
    "        if '.png' in file_path:\n",
    "            os.remove(file_path)"
   ]
  },
  {
   "cell_type": "code",
   "execution_count": null,
   "metadata": {},
   "outputs": [],
   "source": []
  }
 ],
 "metadata": {
  "kernelspec": {
   "display_name": "potatoscan",
   "language": "python",
   "name": "python3"
  },
  "language_info": {
   "codemirror_mode": {
    "name": "ipython",
    "version": 3
   },
   "file_extension": ".py",
   "mimetype": "text/x-python",
   "name": "python",
   "nbconvert_exporter": "python",
   "pygments_lexer": "ipython3",
   "version": "3.9.18"
  },
  "orig_nbformat": 4
 },
 "nbformat": 4,
 "nbformat_minor": 2
}
