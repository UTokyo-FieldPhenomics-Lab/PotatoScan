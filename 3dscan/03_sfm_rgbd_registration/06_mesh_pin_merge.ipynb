{
 "cells": [
  {
   "cell_type": "code",
   "execution_count": 1,
   "metadata": {},
   "outputs": [
    {
     "name": "stdout",
     "output_type": "stream",
     "text": [
      "Jupyter environment detected. Enabling Open3D WebVisualizer.\n",
      "[Open3D INFO] WebRTC GUI backend enabled.\n",
      "[Open3D INFO] WebRTCWindowSystem: HTTP handshake server disabled.\n"
     ]
    }
   ],
   "source": [
    "import pathlib\n",
    "import numpy as np\n",
    "import skimage\n",
    "import plotly.graph_objects as go\n",
    "\n",
    "from scipy.spatial import ConvexHull\n",
    "\n",
    "import matplotlib.pyplot as plt\n",
    "from matplotlib.path import Path as pltpath\n",
    "from matplotlib.gridspec import GridSpec\n",
    "from matplotlib.colors import ListedColormap\n",
    "import matplotlib.colors as mcolors\n",
    "import matplotlib.cm as mcm\n",
    "\n",
    "\n",
    "import open3d as o3d\n",
    "from copy import deepcopy"
   ]
  },
  {
   "cell_type": "markdown",
   "metadata": {},
   "source": [
    "# SfM Pin segmentation"
   ]
  },
  {
   "cell_type": "code",
   "execution_count": 5,
   "metadata": {},
   "outputs": [],
   "source": [
    "def get_ref_color(ref_folder='./pin_ref/'):\n",
    "\n",
    "    ref_color_folder = pathlib.Path(ref_folder)\n",
    "\n",
    "    ref_color_rgb = []\n",
    "    ref_color_hsv = {}\n",
    "\n",
    "    for i in range(1,11):\n",
    "\n",
    "        ref_img_path = ref_color_folder / f\"{i}.png\"\n",
    "\n",
    "        ref_color_imarray = plt.imread( str(ref_img_path) )\n",
    "\n",
    "        mask = ref_color_imarray[:,:,3] == 1\n",
    "\n",
    "        ref_color_masked = ref_color_imarray[mask]\n",
    "\n",
    "        ref_color_rgb.append(np.median(ref_color_masked[:,0:3], axis=0))\n",
    "        ref_color_hsv[str(i)] = np.median(skimage.color.rgb2hsv(ref_color_masked[:,0:3]), axis=0)\n",
    "\n",
    "    # custom_colormap = ListedColormap(np.asarray(ref_color_rgb))\n",
    "\n",
    "    return ref_color_hsv\n",
    "\n",
    "def get_hull_volume(o3d_pcd):\n",
    "    pin_hull = o3d_pcd.compute_convex_hull()[0]\n",
    "    hull_volume = pin_hull.get_volume() * 1000 ** 3 # mm3\n",
    "\n",
    "    return hull_volume\n",
    "\n",
    "def iter_hull_volume_by_thresh(sfm_pcd, color_distance_norm, thresh):\n",
    "\n",
    "    pin_idx = np.where(color_distance_norm < thresh)[0]\n",
    "\n",
    "    # calculate volume, if too large needs denoise\n",
    "    pin_pcd = sfm_pcd.select_by_index(pin_idx)\n",
    "    hull_volume = get_hull_volume(pin_pcd) # mm3\n",
    "\n",
    "    return hull_volume, pin_idx\n",
    "\n",
    "def hsv_ref_pin(\n",
    "    sfm_pcd_folder, potato_id, \n",
    "    ref_color_hsv, thresh=None, # for color diff\n",
    "    nb_points=40, radius=0.005, # for denoise\n",
    "    visualize=False\n",
    "):\n",
    "    # get the sfm pcd\n",
    "    sfm_pcd_path = sfm_pcd_folder / f\"{potato_id}_30000.ply\"\n",
    "    sfm_pcd = o3d.io.read_point_cloud( str(sfm_pcd_path) )\n",
    "\n",
    "    colors = np.asarray(sfm_pcd.colors)\n",
    "\n",
    "    colors_hsv = skimage.color.rgb2hsv(colors)\n",
    "\n",
    "    \n",
    "    # color_distance = abs(colors_hsv - ref_color_hsv[ potato_id.split('-')[-1] ]).sum(axis=1)\n",
    "    color_distance_diff = abs(colors_hsv - ref_color_hsv[ potato_id.split('-')[-1] ])\n",
    "    # hue -> circular distances\n",
    "    need_hue_reverse = color_distance_diff[:,0] > 0.5\n",
    "    color_distance_diff[need_hue_reverse, 0] = 1 - color_distance_diff[need_hue_reverse, 0]\n",
    "\n",
    "    color_distance_weight = color_distance_diff * np.array([0.5,0.1,0.3])  # hsv weight\n",
    "    color_distance = color_distance_weight.sum(axis=1)\n",
    "\n",
    "    # 定义一个Normalize对象，用于将数据值归一化到[0, 1]的范围\n",
    "    norm = mcolors.Normalize(vmin=np.min(color_distance), vmax=np.max(color_distance))\n",
    "\n",
    "    color_distance_norm = norm(color_distance)\n",
    "\n",
    "    # manually set the threshold\n",
    "    if thresh is not None:\n",
    "        hull_volume, pin_idx = iter_hull_volume_by_thresh(sfm_pcd, color_distance_norm, thresh)\n",
    "    \n",
    "    # looping the thresh to denoise\n",
    "    else:\n",
    "        thresh = 0.35\n",
    "        hull_volume, pin_idx = iter_hull_volume_by_thresh(sfm_pcd, color_distance_norm, thresh)\n",
    "\n",
    "        while hull_volume > 60:\n",
    "            print(f\"Thresh={thresh} get pin convex hull volumn {hull_volume} > 60, denoise first\")\n",
    "            pin_pcd = sfm_pcd.select_by_index(pin_idx)\n",
    "            keeped, keeped_idx = pin_pcd.remove_radius_outlier(nb_points=nb_points, radius=radius)\n",
    "\n",
    "            denoised_volume = get_hull_volume(keeped)\n",
    "\n",
    "            if denoised_volume > 60:  # still > 50 after denoising\n",
    "                thresh -= 0.05\n",
    "\n",
    "                if thresh <0:\n",
    "                    raise ValueError(\"Threshold can not below 0\")\n",
    "\n",
    "                hull_volume, pin_idx = iter_hull_volume_by_thresh(sfm_pcd, color_distance_norm, thresh)\n",
    "            else:\n",
    "                hull_volume = denoised_volume\n",
    "                pin_idx = pin_idx[keeped_idx]\n",
    "                print(f\"Stop at thresh={thresh} with hull volume = {hull_volume} after denoising\")\n",
    "                break\n",
    "        else:\n",
    "            print(f\"Stop at thresh={thresh} with hull volume = {hull_volume}\")\n",
    "\n",
    "    if visualize:\n",
    "        # 选择一个colormap\n",
    "        colormap = plt.cm.viridis\n",
    "\n",
    "        # 使用colormap和Normalize对象将数据值映射到颜色\n",
    "        color_array = colormap(norm(color_distance))\n",
    "        sfm_pcd_cm = deepcopy(sfm_pcd)\n",
    "        sfm_pcd_cm.colors = o3d.utility.Vector3dVector(color_array[:,0:3])\n",
    "\n",
    "        # add offsets\n",
    "        xyz = np.asarray(sfm_pcd_cm.points) + np.array([0.1, 0, 0])\n",
    "        sfm_pcd_cm.points = o3d.utility.Vector3dVector(xyz)\n",
    "\n",
    "        pin_pcd = sfm_pcd.select_by_index(pin_idx)\n",
    "        if potato_id.split('-')[-1] == '3': # red pin\n",
    "            pin_pcd.paint_uniform_color([0,1,0])\n",
    "        else:\n",
    "            pin_pcd.paint_uniform_color([1,0,0])\n",
    "        \n",
    "\n",
    "        o3d.visualization.draw_geometries([sfm_pcd, sfm_pcd_cm, pin_pcd], window_name=f\"{potato_id} | thresh={thresh}\")\n",
    "\n",
    "    return pin_idx, sfm_pcd\n",
    "        "
   ]
  },
  {
   "cell_type": "code",
   "execution_count": 3,
   "metadata": {},
   "outputs": [],
   "source": [
    "sfm_pcd_folder = pathlib.Path(r'/home/crest/w/hwang_Pro/datasets/3DPotatoTwin/2_SfM/2_pcd')"
   ]
  },
  {
   "cell_type": "code",
   "execution_count": 6,
   "metadata": {},
   "outputs": [],
   "source": [
    "ref_color_hsv = get_ref_color('./pin_ref/')"
   ]
  },
  {
   "cell_type": "markdown",
   "metadata": {},
   "source": [
    "Get the sfm pin"
   ]
  },
  {
   "cell_type": "code",
   "execution_count": 163,
   "metadata": {},
   "outputs": [
    {
     "name": "stdout",
     "output_type": "stream",
     "text": [
      "Thresh=0.35 get pin convex hull volumn 96018.77215018909 > 60, denoise first\n",
      "Thresh=0.3 get pin convex hull volumn 92337.85037083642 > 60, denoise first\n",
      "Thresh=0.25 get pin convex hull volumn 66611.87525249117 > 60, denoise first\n",
      "Thresh=0.2 get pin convex hull volumn 3900.371686427297 > 60, denoise first\n",
      "Stop at thresh=0.2 with hull volume = 57.30333822858869 after denoising\n"
     ]
    }
   ],
   "source": [
    "sfm_pin_idx, sfm_pcd = hsv_ref_pin(sfm_pcd_folder, 'R3-3', ref_color_hsv, visualize=True)\n",
    "sfm_pin_pcd = sfm_pcd.select_by_index(sfm_pin_idx)"
   ]
  },
  {
   "cell_type": "markdown",
   "metadata": {},
   "source": [
    "# RGBD pin segmentation"
   ]
  },
  {
   "cell_type": "code",
   "execution_count": 8,
   "metadata": {},
   "outputs": [],
   "source": [
    "from pin_regions import RgbdPinFetcher"
   ]
  },
  {
   "cell_type": "code",
   "execution_count": 9,
   "metadata": {},
   "outputs": [],
   "source": [
    "rgbd_root = pathlib.Path(r'/home/crest/w/hwang_Pro/datasets/3DPotatoTwin')"
   ]
  },
  {
   "cell_type": "code",
   "execution_count": 161,
   "metadata": {},
   "outputs": [
    {
     "name": "stdout",
     "output_type": "stream",
     "text": [
      "loading annotations into memory...\n",
      "Done (t=0.16s)\n",
      "creating index...\n",
      "index created!\n"
     ]
    }
   ],
   "source": [
    "rgbd_fetcher = RgbdPinFetcher(rgbd_root)"
   ]
  },
  {
   "cell_type": "code",
   "execution_count": 164,
   "metadata": {},
   "outputs": [],
   "source": [
    "rgbd_pcd, rgbd_pin_pcd = rgbd_fetcher.get('R3-3', True)"
   ]
  },
  {
   "cell_type": "markdown",
   "metadata": {},
   "source": [
    "# find the pin center point\n",
    "\n",
    "convex hull -> center"
   ]
  },
  {
   "cell_type": "code",
   "execution_count": 12,
   "metadata": {},
   "outputs": [],
   "source": [
    "sfm_pin_hull, sfm_pin_hull_idx = sfm_pin_pcd.compute_convex_hull()\n",
    "rgbd_pin_hull, rgbd_pin_hull_idx = rgbd_pin_pcd.compute_convex_hull()"
   ]
  },
  {
   "cell_type": "code",
   "execution_count": 160,
   "metadata": {},
   "outputs": [],
   "source": [
    "o3d.visualization.draw_geometries([sfm_pin_hull, sfm_pin_pcd])"
   ]
  },
  {
   "cell_type": "code",
   "execution_count": 14,
   "metadata": {},
   "outputs": [],
   "source": [
    "rgbd_pin_hull_center = rgbd_pin_hull.get_center()\n",
    "sfm_pin_hull_center = sfm_pin_hull.get_center()"
   ]
  },
  {
   "cell_type": "markdown",
   "metadata": {},
   "source": [
    "When the pin is not correctly segmented, the center of convexhull may not the circle center.\n",
    "\n",
    "Solution: \n",
    "1. bounding box -> find the base plane\n",
    "2. project points to base plane\n",
    "3. circular regression on the projected points\n",
    "4. get the circle center (x,y) of on the projected plane\n",
    "5. get the actual points of the circle center"
   ]
  },
  {
   "cell_type": "markdown",
   "metadata": {},
   "source": [
    "### 1) get bounding box size"
   ]
  },
  {
   "cell_type": "code",
   "execution_count": 54,
   "metadata": {},
   "outputs": [],
   "source": [
    "# get bounding box size\n",
    "sfm_pin_hull_obb = sfm_pin_hull.get_oriented_bounding_box()"
   ]
  },
  {
   "cell_type": "code",
   "execution_count": 55,
   "metadata": {},
   "outputs": [
    {
     "data": {
      "text/plain": [
       "<bound method PyCapsule.scale of OrientedBoundingBox: center: (0.00506515, -0.0226995, 0.104844), extent: 0.00986755, 0.00808877, 0.00196617)>"
      ]
     },
     "execution_count": 55,
     "metadata": {},
     "output_type": "execute_result"
    }
   ],
   "source": [
    "sfm_pin_hull_obb.scale"
   ]
  },
  {
   "cell_type": "code",
   "execution_count": 56,
   "metadata": {},
   "outputs": [
    {
     "data": {
      "text/plain": [
       "array([0.00986755, 0.00808877, 0.00196617])"
      ]
     },
     "execution_count": 56,
     "metadata": {},
     "output_type": "execute_result"
    }
   ],
   "source": [
    "sfm_pin_hull_obb.extent"
   ]
  },
  {
   "cell_type": "markdown",
   "metadata": {},
   "source": [
    "### 2) project points to base plane"
   ]
  },
  {
   "cell_type": "code",
   "execution_count": 57,
   "metadata": {},
   "outputs": [
    {
     "data": {
      "text/plain": [
       "array([ 0.07642455, -0.99317705,  0.08808312])"
      ]
     },
     "execution_count": 57,
     "metadata": {},
     "output_type": "execute_result"
    }
   ],
   "source": [
    "# 获取边界框的三个轴的长度\n",
    "extents = sfm_pin_hull_obb.extent\n",
    "\n",
    "# 找到最短边和对应的索引\n",
    "min_extent_idx = np.argmin(extents)\n",
    "min_extent_length = extents[min_extent_idx]\n",
    "\n",
    "# 获取对应于最短边的轴\n",
    "min_extent_vector = sfm_pin_hull_obb.R[:, min_extent_idx]\n",
    "\n",
    "min_extent_vector"
   ]
  },
  {
   "cell_type": "markdown",
   "metadata": {},
   "source": [
    "Project pin points to that plane"
   ]
  },
  {
   "cell_type": "code",
   "execution_count": 58,
   "metadata": {},
   "outputs": [],
   "source": [
    "# 获取边界框的中心，作为平面上的一个点\n",
    "plane_point = sfm_pin_hull_obb.center\n",
    "\n",
    "# 初始化一个空的点云来存储投影点\n",
    "projected_points = []\n",
    "\n",
    "# 对于点云中的每个点\n",
    "for point in np.asarray(sfm_pin_pcd.points):\n",
    "    # 计算点到平面的向量\n",
    "    point_to_plane_vec = point - plane_point\n",
    "    \n",
    "    # 计算点到平面的距离（投影到法向量上）\n",
    "    distance = np.dot(point_to_plane_vec, min_extent_vector)\n",
    "    \n",
    "    # 计算投影点\n",
    "    projected_point = point - distance * min_extent_vector\n",
    "    \n",
    "    # 添加到投影点列表中\n",
    "    projected_points.append(projected_point)\n",
    "\n",
    "# 将投影点列表转换为Open3D点云\n",
    "projected_cloud = o3d.geometry.PointCloud()\n",
    "projected_cloud.points = o3d.utility.Vector3dVector(projected_points)\n",
    "projected_cloud = projected_cloud.paint_uniform_color([0,0,1])"
   ]
  },
  {
   "cell_type": "code",
   "execution_count": 59,
   "metadata": {},
   "outputs": [],
   "source": [
    "o3d.visualization.draw_geometries([sfm_pin_pcd, projected_cloud])"
   ]
  },
  {
   "cell_type": "markdown",
   "metadata": {},
   "source": [
    "---\n",
    "\n",
    "### 3)-5) circular regression"
   ]
  },
  {
   "cell_type": "code",
   "execution_count": 101,
   "metadata": {},
   "outputs": [],
   "source": [
    "from scipy.spatial import ConvexHull\n",
    "from scipy.optimize import minimize\n",
    "from scipy.spatial.transform import Rotation\n",
    "\n",
    "from circle_fit import taubinSVD, hyperLSQ"
   ]
  },
  {
   "cell_type": "code",
   "execution_count": 102,
   "metadata": {},
   "outputs": [],
   "source": [
    "# def project_points_to_plane(points, plane_normal, plane_point):\n",
    "#     # 找到对应于最短边的轴的旋转矩阵\n",
    "#     R = np.eye(3)\n",
    "#     R[:, 2] = plane_normal\n",
    "\n",
    "#     # 旋转点以对齐最短边所在的轴与z轴\n",
    "#     rotated_points = np.dot(points - plane_point, R)\n",
    "\n",
    "#     # 删除z坐标，因为所有点都在平面上\n",
    "#     # points_2d = rotated_points[:, :2]\n",
    "#     # points_2d = rotated_points[:, 1:]\n",
    "#     points_2d = np.c_[rotated_points[:, 0], rotated_points[:, -1]]\n",
    "\n",
    "#     return points_2d\n",
    "\n",
    "def project_points_to_plane(points, plane_normal, plane_point):\n",
    "    # 确保法向量是单位向量\n",
    "    plane_normal = plane_normal / np.linalg.norm(plane_normal)\n",
    "\n",
    "    # 计算法向量与Z轴之间的旋转\n",
    "    z_axis = np.array([0, 0, 1])\n",
    "    rotation_vector = np.cross(plane_normal, z_axis)\n",
    "    rotation_angle = np.arccos(np.clip(np.dot(plane_normal, z_axis), -1.0, 1.0))\n",
    "    \n",
    "    # 如果法向量和Z轴不平行，则计算旋转矩阵\n",
    "    if np.linalg.norm(rotation_vector) != 0:\n",
    "        rotation_vector = rotation_vector / np.linalg.norm(rotation_vector)\n",
    "        rotation_vector *= rotation_angle\n",
    "        rotation = Rotation.from_rotvec(rotation_vector)\n",
    "        rotation_matrix = rotation.as_matrix()\n",
    "    else:\n",
    "        # 如果法向量已经与Z轴平行，则不需要旋转\n",
    "        rotation_matrix = np.eye(3) if np.dot(plane_normal, z_axis) > 0 else np.eye(3) * np.array([-1, -1, 1])\n",
    "    \n",
    "    # 将点云平移到平面点所在位置\n",
    "    translated_points = points - plane_point\n",
    "\n",
    "    # 旋转点云，使法向量与Z轴对齐\n",
    "    rotated_points = np.dot(translated_points, rotation_matrix)\n",
    "\n",
    "    # 删除Z坐标，得到二维投影\n",
    "    projected_points_2d = rotated_points[:, :2]\n",
    "    \n",
    "    return projected_points_2d, rotation_matrix\n",
    "\n",
    "\n",
    "def fit_circle_to_convex_hull(points_2d, visualize=False):\n",
    "    \"\"\"平面圆拟合\"\"\"\n",
    "\n",
    "    # 获取凸包的顶点\n",
    "    hull = ConvexHull(points_2d)\n",
    "    hull_points = points_2d[hull.vertices]\n",
    "\n",
    "    # xc, yc, r, sigma = taubinSVD(hull_points)\n",
    "    xc, yc, r, sigma = hyperLSQ(hull_points)\n",
    "\n",
    "    if visualize:\n",
    "        fig, ax = plt.subplots(1, 1, figsize=(4,4))\n",
    "        ax.scatter(*points_2d.T, color='k', s=0.1, alpha=0.3)\n",
    "        ax.scatter(*hull_points.T, color='r')\n",
    "        ax.scatter([xc], [yc], color='green')\n",
    "        plt.axis('equal')\n",
    "        plt.show()\n",
    "\n",
    "    return (xc, yc), r, sigma\n",
    "    \n",
    "# def create_circle_mesh(center, radius, normal, num_segments=100):\n",
    "def create_circle_mesh(center, radius, rotation_matrix, num_segments=100):\n",
    "    # 创建圆形的网格\n",
    "    points = []\n",
    "    indices = []\n",
    "    \n",
    "    # 中心点\n",
    "    points.append(center)\n",
    "    # 计算圆周上的点\n",
    "    for i in range(num_segments):\n",
    "        angle = 2 * np.pi * i / num_segments\n",
    "        offset = np.array([np.cos(angle)*radius, np.sin(angle)*radius, 0])\n",
    "        # 旋转以匹配法向量方向\n",
    "        # R = o3d.geometry.get_rotation_matrix_from_axis_angle(normal)\n",
    "        R = rotation_matrix\n",
    "        rotated_offset = R.dot(offset)\n",
    "        points.append(center + rotated_offset)\n",
    "        if i != 0:\n",
    "            # 每个三角形的索引\n",
    "            indices.append([0, i, i+1])\n",
    "    # 最后一个三角形的索引\n",
    "    indices.append([0, num_segments, 1])\n",
    "    \n",
    "    # 创建三角网格\n",
    "    mesh = o3d.geometry.TriangleMesh()\n",
    "    mesh.vertices = o3d.utility.Vector3dVector(points)\n",
    "    mesh.triangles = o3d.utility.Vector3iVector(indices)\n",
    "    mesh.compute_vertex_normals()\n",
    "\n",
    "    mesh_lineset = o3d.geometry.LineSet.create_from_triangle_mesh(mesh)\n",
    "    \n",
    "    return mesh_lineset"
   ]
  },
  {
   "cell_type": "code",
   "execution_count": 107,
   "metadata": {},
   "outputs": [
    {
     "data": {
      "image/png": "[encoded data removed]",
      "text/plain": [
       "<Figure size 400x400 with 1 Axes>"
      ]
     },
     "metadata": {},
     "output_type": "display_data"
    }
   ],
   "source": [
    "# get bounding box size\n",
    "sfm_pin_hull_obb = sfm_pin_hull.get_oriented_bounding_box()\n",
    "\n",
    "# 获取边界框的三个轴的长度\n",
    "extents = sfm_pin_hull_obb.extent\n",
    "\n",
    "# 找到最短边和对应的索引\n",
    "min_extent_idx = np.argmin(extents)\n",
    "min_extent_length = extents[min_extent_idx]\n",
    "\n",
    "# 获取对应于最短边的轴\n",
    "min_extent_vector = sfm_pin_hull_obb.R[:, min_extent_idx]\n",
    "\n",
    "# 获取边界框的中心，作为平面上的一个点\n",
    "plane_point = sfm_pin_hull_obb.center\n",
    "\n",
    "# 投影到最短边对应的平面上\n",
    "points_3d = np.asarray(sfm_pin_pcd.points)\n",
    "points_2d, rotation_matrix = project_points_to_plane(points_3d, min_extent_vector, plane_point)\n",
    "\n",
    "# 计算2D点集的凸包，并拟合圆\n",
    "circle_center_2d, circle_radius, sigma = fit_circle_to_convex_hull(points_2d, visualize=True)\n",
    "\n",
    "# 将2D圆心转换回3D空间坐标\n",
    "# circle_center_3d = np.dot(np.append(circle_center_2d, 0), sfm_pin_hull_obb.R.T) + plane_point\n",
    "circle_center_3d = np.dot(np.append(circle_center_2d, 0), rotation_matrix.T) + plane_point\n",
    "\n",
    "# 初始化一个空的点云来存储投影点\n",
    "projected_points = []\n",
    "\n",
    "# 投影点云中的每个点到平面上\n",
    "for point in np.asarray(sfm_pin_pcd.points):\n",
    "    # 计算点到平面的向量\n",
    "    point_to_plane_vec = point - plane_point\n",
    "    \n",
    "    # 计算点到平面的距离（投影到法向量上）\n",
    "    distance = np.dot(point_to_plane_vec, min_extent_vector)\n",
    "    \n",
    "    # 计算投影点\n",
    "    projected_point = point - distance * min_extent_vector\n",
    "    \n",
    "    # 添加到投影点列表中\n",
    "    projected_points.append(projected_point)\n",
    "\n",
    "# 将投影点列表转换为Open3D点云\n",
    "projected_cloud = o3d.geometry.PointCloud()\n",
    "projected_cloud.points = o3d.utility.Vector3dVector(projected_points)\n",
    "projected_cloud = projected_cloud.paint_uniform_color([0,0,1])\n",
    "\n",
    "# 创建一个圆形网格\n",
    "# circle_mesh = create_circle_mesh(circle_center_3d, circle_radius, min_extent_vector)\n",
    "circle_mesh = create_circle_mesh(circle_center_3d, circle_radius, rotation_matrix.T)"
   ]
  },
  {
   "cell_type": "code",
   "execution_count": 108,
   "metadata": {},
   "outputs": [],
   "source": [
    "o3d.visualization.draw_geometries([circle_mesh, sfm_pin_hull_obb, sfm_pin_pcd, projected_cloud])"
   ]
  },
  {
   "cell_type": "markdown",
   "metadata": {},
   "source": [
    "pack to function"
   ]
  },
  {
   "cell_type": "code",
   "execution_count": 119,
   "metadata": {},
   "outputs": [],
   "source": [
    "def find_pin_center(pin_pcd, visualize=False):\n",
    "    pin_hull, hull_idx = pin_pcd.compute_convex_hull()\n",
    "    \n",
    "    # get bounding box size\n",
    "    hull_obb = pin_hull.get_oriented_bounding_box()\n",
    "\n",
    "    # 获取边界框的三个轴的长度\n",
    "    extents = hull_obb.extent\n",
    "\n",
    "    # 找到最短边和对应的索引\n",
    "    min_extent_idx = np.argmin(extents)\n",
    "    min_extent_length = extents[min_extent_idx]\n",
    "\n",
    "    # 获取对应于最短边的轴\n",
    "    min_extent_vector = hull_obb.R[:, min_extent_idx]\n",
    "\n",
    "    # 获取边界框的中心，作为平面上的一个点\n",
    "    plane_point = hull_obb.center\n",
    "\n",
    "    # 投影到最短边对应的平面上\n",
    "    points_3d = np.asarray(pin_pcd.points)\n",
    "    points_2d, rotation_matrix = project_points_to_plane(points_3d, min_extent_vector, plane_point)\n",
    "\n",
    "    # 计算2D点集的凸包，并拟合圆\n",
    "    circle_center_2d, circle_radius, sigma = fit_circle_to_convex_hull(points_2d, visualize)\n",
    "\n",
    "    # 将2D圆心转换回3D空间坐标\n",
    "    circle_center_3d = np.dot(np.append(circle_center_2d, 0), rotation_matrix.T) + plane_point\n",
    "\n",
    "    if visualize:\n",
    "        # 初始化一个空的点云来存储投影点\n",
    "        projected_points = []\n",
    "\n",
    "        # 投影点云中的每个点到平面上\n",
    "        for point in np.asarray(pin_pcd.points):\n",
    "            # 计算点到平面的向量\n",
    "            point_to_plane_vec = point - plane_point\n",
    "            \n",
    "            # 计算点到平面的距离（投影到法向量上）\n",
    "            distance = np.dot(point_to_plane_vec, min_extent_vector)\n",
    "            \n",
    "            # 计算投影点\n",
    "            projected_point = point - distance * min_extent_vector\n",
    "            \n",
    "            # 添加到投影点列表中\n",
    "            projected_points.append(projected_point)\n",
    "\n",
    "        # 将投影点列表转换为Open3D点云\n",
    "        projected_cloud = o3d.geometry.PointCloud()\n",
    "        projected_cloud.points = o3d.utility.Vector3dVector(projected_points)\n",
    "        projected_cloud = projected_cloud.paint_uniform_color([0,0,1])\n",
    "\n",
    "        # 创建一个圆形网格\n",
    "        circle_mesh = create_circle_mesh(circle_center_3d, circle_radius, rotation_matrix.T)\n",
    "\n",
    "        o3d.visualization.draw_geometries([circle_mesh, pin_pcd, hull_obb, projected_cloud])\n",
    "\n",
    "    return circle_center_3d, circle_radius, sigma"
   ]
  },
  {
   "cell_type": "code",
   "execution_count": 120,
   "metadata": {},
   "outputs": [
    {
     "data": {
      "image/png": "[encoded data removed]",
      "text/plain": [
       "<Figure size 400x400 with 1 Axes>"
      ]
     },
     "metadata": {},
     "output_type": "display_data"
    }
   ],
   "source": [
    "sfm_pin_ctr, sfm_pin_r, sfm_pin_sigma = find_pin_center(sfm_pin_pcd, visualize=True)"
   ]
  },
  {
   "cell_type": "code",
   "execution_count": 116,
   "metadata": {},
   "outputs": [
    {
     "data": {
      "image/png": "[encoded data removed]",
      "text/plain": [
       "<Figure size 400x400 with 1 Axes>"
      ]
     },
     "metadata": {},
     "output_type": "display_data"
    }
   ],
   "source": [
    "rgbd_pin_ctr, rgbd_pin_r, rgbd_pin_sigma = find_pin_center(rgbd_pin_pcd, visualize=True)"
   ]
  },
  {
   "cell_type": "markdown",
   "metadata": {},
   "source": [
    "Test new point to plane function"
   ]
  },
  {
   "cell_type": "code",
   "execution_count": 131,
   "metadata": {},
   "outputs": [],
   "source": [
    "def project_to_plane(points, plane_point, plane_normal):\n",
    "    # 归一化平面法线\n",
    "    plane_normal = plane_normal / np.linalg.norm(plane_normal)\n",
    "    \n",
    "    # 初始化三维投影点数组\n",
    "    points_proj_3d = []\n",
    "    \n",
    "    # 初始化二维坐标点数组\n",
    "    points_proj_2d = []\n",
    "    \n",
    "    # 计算平面的两个基向量\n",
    "    if not np.allclose(plane_normal, [1, 0, 0]):\n",
    "        u = np.cross(plane_normal, [1, 0, 0])\n",
    "    else:\n",
    "        u = np.cross(plane_normal, [0, 1, 0])\n",
    "    u = u / np.linalg.norm(u)\n",
    "    v = np.cross(plane_normal, u)\n",
    "    \n",
    "    # 对每个点进行投影\n",
    "    for point in points:\n",
    "        # 计算从平面点到当前点的向量\n",
    "        vec = point - plane_point\n",
    "        \n",
    "        # 计算这个向量在平面法向量上的投影长度\n",
    "        dist = np.dot(vec, plane_normal)\n",
    "        \n",
    "        # 计算三维空间中的投影点\n",
    "        proj_point_3d = point - dist * plane_normal\n",
    "        points_proj_3d.append(proj_point_3d)\n",
    "        \n",
    "        # 计算二维平面上的坐标\n",
    "        x = np.dot(proj_point_3d - plane_point, u)\n",
    "        y = np.dot(proj_point_3d - plane_point, v)\n",
    "        points_proj_2d.append((x, y))\n",
    "    \n",
    "    return np.array(points_proj_3d), np.array(points_proj_2d), (u,v)\n",
    "\n",
    "\n",
    "def project_to_plane_vectorized(points, plane_point, plane_normal):\n",
    "    # 归一化平面法线\n",
    "    plane_normal = plane_normal / np.linalg.norm(plane_normal)\n",
    "    \n",
    "    # 计算平面的两个基向量\n",
    "    if not np.allclose(plane_normal, [1, 0, 0]):\n",
    "        u = np.cross(plane_normal, [1, 0, 0])\n",
    "    else:\n",
    "        u = np.cross(plane_normal, [0, 1, 0])\n",
    "    u = u / np.linalg.norm(u)\n",
    "    v = np.cross(plane_normal, u)\n",
    "    \n",
    "    # 计算从平面点到所有点的向量\n",
    "    vecs = points - plane_point\n",
    "    \n",
    "    # 计算这些向量在平面法向量上的投影长度\n",
    "    dists = np.dot(vecs, plane_normal).reshape(-1, 1)\n",
    "    \n",
    "    # 计算三维空间中的投影点\n",
    "    proj_points_3d = points - dists * plane_normal\n",
    "    \n",
    "    # 计算二维平面上的坐标\n",
    "    x_coords = np.dot(proj_points_3d - plane_point, u)\n",
    "    y_coords = np.dot(proj_points_3d - plane_point, v)\n",
    "    \n",
    "    points_proj_2d = np.column_stack((x_coords, y_coords))\n",
    "    \n",
    "    return proj_points_3d, points_proj_2d, (u,v)\n",
    "\n",
    "def convert_2d_to_3d(points_2d, plane_point, u, v):\n",
    "    # 将二维坐标转换为三维坐标\n",
    "    points_3d = plane_point + points_2d[:, 0, np.newaxis] * u + points_2d[:, 1, np.newaxis] * v\n",
    "    return points_3d"
   ]
  },
  {
   "cell_type": "code",
   "execution_count": 122,
   "metadata": {},
   "outputs": [],
   "source": [
    "# 示例数据\n",
    "points_3d = np.array([[1, 2, 3], [4, 5, 6], [7, 8, 9]])  # 三维点云\n",
    "plane_point = np.array([1, 2, 3])  # 平面上的一点\n",
    "plane_normal = np.array([0, 0, 1])  # 平面的法线向量"
   ]
  },
  {
   "cell_type": "code",
   "execution_count": 132,
   "metadata": {},
   "outputs": [
    {
     "name": "stdout",
     "output_type": "stream",
     "text": [
      "Projected 3D Coordinates:\n",
      " [[1. 2. 3.]\n",
      " [4. 5. 3.]\n",
      " [7. 8. 3.]]\n",
      "Projected 2D Coordinates:\n",
      " [[ 0.  0.]\n",
      " [ 3. -3.]\n",
      " [ 6. -6.]]\n"
     ]
    }
   ],
   "source": [
    "# 执行投影\n",
    "points_proj_3d, points_proj_2d, uv = project_to_plane(points_3d, plane_point, plane_normal)\n",
    "print(\"Projected 3D Coordinates:\\n\", points_proj_3d)\n",
    "print(\"Projected 2D Coordinates:\\n\", points_proj_2d)"
   ]
  },
  {
   "cell_type": "code",
   "execution_count": 133,
   "metadata": {},
   "outputs": [
    {
     "name": "stdout",
     "output_type": "stream",
     "text": [
      "Projected 3D Coordinates:\n",
      " [[1. 2. 3.]\n",
      " [4. 5. 3.]\n",
      " [7. 8. 3.]]\n",
      "Projected 2D Coordinates:\n",
      " [[ 0.  0.]\n",
      " [ 3. -3.]\n",
      " [ 6. -6.]]\n"
     ]
    }
   ],
   "source": [
    "points_proj_3d, points_proj_2d, uv = project_to_plane_vectorized(points_3d, plane_point, plane_normal)\n",
    "print(\"Projected 3D Coordinates:\\n\", points_proj_3d)\n",
    "print(\"Projected 2D Coordinates:\\n\", points_proj_2d)"
   ]
  },
  {
   "cell_type": "code",
   "execution_count": 134,
   "metadata": {},
   "outputs": [
    {
     "name": "stdout",
     "output_type": "stream",
     "text": [
      "2D Coordinates back to 3D:\n",
      " [[1. 2. 3.]\n",
      " [4. 5. 3.]\n",
      " [7. 8. 3.]]\n"
     ]
    }
   ],
   "source": [
    "points_back_to_3d = convert_2d_to_3d(points_proj_2d, plane_point, uv[0], uv[1])\n",
    "print(\"2D Coordinates back to 3D:\\n\", points_back_to_3d)"
   ]
  },
  {
   "cell_type": "code",
   "execution_count": 155,
   "metadata": {},
   "outputs": [],
   "source": [
    "def find_pin_center(pin_pcd, visualize=False):\n",
    "    pin_hull, hull_idx = pin_pcd.compute_convex_hull()\n",
    "    \n",
    "    # get bounding box size\n",
    "    hull_obb = pin_hull.get_oriented_bounding_box()\n",
    "\n",
    "    # 获取边界框的三个轴的长度\n",
    "    extents = hull_obb.extent\n",
    "\n",
    "    # 找到最短边和对应的索引\n",
    "    min_extent_idx = np.argmin(extents)\n",
    "    min_extent_length = extents[min_extent_idx]\n",
    "\n",
    "    # 获取对应于最短边的轴\n",
    "    min_extent_vector = hull_obb.R[:, min_extent_idx]\n",
    "\n",
    "    # 获取边界框的中心，作为平面上的一个点\n",
    "    plane_point = hull_obb.center\n",
    "\n",
    "    # 投影到最短边对应的平面上\n",
    "    points_3d = np.asarray(pin_pcd.points)\n",
    "    points_proj_3d, points_proj_2d, uv = project_to_plane_vectorized(points_3d, plane_point, min_extent_vector)\n",
    "\n",
    "    # 计算2D点集的凸包，并拟合圆\n",
    "    circle_center_2d, circle_radius, sigma = fit_circle_to_convex_hull(points_proj_2d, visualize)\n",
    "\n",
    "    # 将2D圆心转换回3D空间坐标\n",
    "    circle_center_3d = convert_2d_to_3d(np.asarray([circle_center_2d]), plane_point, uv[0], uv[1])\n",
    "    circle_center_3d = circle_center_3d[0]\n",
    "\n",
    "    if visualize:\n",
    "\n",
    "        # 将投影点列表转换为Open3D点云\n",
    "        projected_cloud = o3d.geometry.PointCloud()\n",
    "        projected_cloud.points = o3d.utility.Vector3dVector(points_proj_3d)\n",
    "        projected_cloud = projected_cloud.paint_uniform_color([0,0,1])\n",
    "\n",
    "        # 创建一个圆形网格\n",
    "        circle_mesh = create_circle_mesh(circle_center_2d, circle_radius, plane_point, uv)\n",
    "\n",
    "        o3d.visualization.draw_geometries([circle_mesh, pin_pcd, hull_obb, projected_cloud])\n",
    "\n",
    "    return circle_center_3d, circle_radius, sigma"
   ]
  },
  {
   "cell_type": "code",
   "execution_count": 156,
   "metadata": {},
   "outputs": [],
   "source": [
    "def create_circle_mesh(center_2d, radius, plane_point, uv, num_segments=100):\n",
    "    # 创建圆形的网格\n",
    "    points = []\n",
    "    indices = []\n",
    "    \n",
    "    # 中心点\n",
    "    points.append(center_2d)\n",
    "    # 计算圆周上的点\n",
    "    for i in range(num_segments):\n",
    "        angle = 2 * np.pi * i / num_segments\n",
    "        offset = np.array([np.cos(angle)*radius, np.sin(angle)*radius])\n",
    "        points.append(center_2d + offset)\n",
    "        if i != 0:\n",
    "            # 每个三角形的索引\n",
    "            indices.append([0, i, i+1])\n",
    "    # 最后一个三角形的索引\n",
    "    indices.append([0, num_segments, 1])\n",
    "\n",
    "    # 转换为3d坐标\n",
    "    points = convert_2d_to_3d(np.asarray(points), plane_point, uv[0], uv[1])\n",
    "    \n",
    "    # 创建三角网格\n",
    "    mesh = o3d.geometry.TriangleMesh()\n",
    "    mesh.vertices = o3d.utility.Vector3dVector(points)\n",
    "    mesh.triangles = o3d.utility.Vector3iVector(indices)\n",
    "    mesh.compute_vertex_normals()\n",
    "\n",
    "    mesh_lineset = o3d.geometry.LineSet.create_from_triangle_mesh(mesh)\n",
    "    \n",
    "    return mesh_lineset"
   ]
  },
  {
   "cell_type": "code",
   "execution_count": 157,
   "metadata": {},
   "outputs": [
    {
     "data": {
      "image/png": "[encoded data removed]",
      "text/plain": [
       "<Figure size 400x400 with 1 Axes>"
      ]
     },
     "metadata": {},
     "output_type": "display_data"
    }
   ],
   "source": [
    "sfm_pin_ctr, sfm_pin_r, sfm_pin_sigma = find_pin_center(sfm_pin_pcd, visualize=True)"
   ]
  },
  {
   "cell_type": "code",
   "execution_count": 159,
   "metadata": {},
   "outputs": [
    {
     "data": {
      "image/png": "[encoded data removed]",
      "text/plain": [
       "<Figure size 400x400 with 1 Axes>"
      ]
     },
     "metadata": {},
     "output_type": "display_data"
    }
   ],
   "source": [
    "rgbd_pin_ctr, rgbd_pin_r, rgbd_pin_sigma = find_pin_center(rgbd_pin_pcd, visualize=True)"
   ]
  },
  {
   "cell_type": "markdown",
   "metadata": {},
   "source": [
    "# ICP registration directly (failed)"
   ]
  },
  {
   "cell_type": "markdown",
   "metadata": {},
   "source": [
    "Build kdtree"
   ]
  },
  {
   "cell_type": "code",
   "execution_count": 18,
   "metadata": {},
   "outputs": [],
   "source": [
    "rgbd_pcd_tree = o3d.geometry.KDTreeFlann(rgbd_pcd)\n",
    "sfm_pcd_tree = o3d.geometry.KDTreeFlann(sfm_pcd)"
   ]
  },
  {
   "cell_type": "code",
   "execution_count": 56,
   "metadata": {},
   "outputs": [],
   "source": [
    "[rgbd_k, rgbd_nbr_idx, _] = rgbd_pcd_tree.search_radius_vector_3d(rgbd_pin_hull_center, 0.03)\n",
    "[sfm_k,  sfm_nbr_idx,  _] = sfm_pcd_tree.search_radius_vector_3d(sfm_pin_hull_center, 0.03)"
   ]
  },
  {
   "cell_type": "code",
   "execution_count": 57,
   "metadata": {},
   "outputs": [],
   "source": [
    "rgbd_nbr_pcd = rgbd_pcd.select_by_index(rgbd_nbr_idx)\n",
    "sfm_nbr_pcd = sfm_pcd.select_by_index(sfm_nbr_idx)"
   ]
  },
  {
   "cell_type": "code",
   "execution_count": 58,
   "metadata": {},
   "outputs": [],
   "source": [
    "o3d.visualization.draw_geometries([rgbd_nbr_pcd, sfm_nbr_pcd])"
   ]
  },
  {
   "cell_type": "markdown",
   "metadata": {},
   "source": [
    "Some case may have back outlier?"
   ]
  },
  {
   "cell_type": "markdown",
   "metadata": {},
   "source": [
    "Use colored ICP registration:\n",
    "\n",
    "[Colored point cloud registration - Open3D primary (0cf605f) documentation](https://www.open3d.org/docs/latest/tutorial/pipelines/colored_pointcloud_registration.html)"
   ]
  },
  {
   "cell_type": "code",
   "execution_count": 26,
   "metadata": {},
   "outputs": [
    {
     "name": "stdout",
     "output_type": "stream",
     "text": [
      "3. Colored point cloud registration\n",
      "[50, 0.004, 0]\n",
      "3-1. Downsample with a voxel size 0.00\n",
      "3-2. Estimate normal.\n",
      "3-3. Applying colored point cloud registration\n"
     ]
    },
    {
     "ename": "RuntimeError",
     "evalue": "\u001b[1;31m[Open3D Error] (virtual Eigen::Matrix4d open3d::pipelines::registration::TransformationEstimationForColoredICP::ComputeTransformation(const open3d::geometry::PointCloud&, const open3d::geometry::PointCloud&, const CorrespondenceSet&) const) /root/Open3D/cpp/open3d/pipelines/registration/ColoredICP.cpp:104: No correspondences found between source and target pointcloud.\n\u001b[0;m",
     "output_type": "error",
     "traceback": [
      "\u001b[0;31m---------------------------------------------------------------------------\u001b[0m",
      "\u001b[0;31mRuntimeError\u001b[0m                              Traceback (most recent call last)",
      "Cell \u001b[0;32mIn[26], line 25\u001b[0m\n\u001b[1;32m     21\u001b[0m target_down\u001b[38;5;241m.\u001b[39mestimate_normals(\n\u001b[1;32m     22\u001b[0m     o3d\u001b[38;5;241m.\u001b[39mgeometry\u001b[38;5;241m.\u001b[39mKDTreeSearchParamHybrid(radius\u001b[38;5;241m=\u001b[39mradius \u001b[38;5;241m*\u001b[39m \u001b[38;5;241m2\u001b[39m, max_nn\u001b[38;5;241m=\u001b[39m\u001b[38;5;241m30\u001b[39m))\n\u001b[1;32m     24\u001b[0m \u001b[38;5;28mprint\u001b[39m(\u001b[38;5;124m\"\u001b[39m\u001b[38;5;124m3-3. Applying colored point cloud registration\u001b[39m\u001b[38;5;124m\"\u001b[39m)\n\u001b[0;32m---> 25\u001b[0m result_icp \u001b[38;5;241m=\u001b[39m \u001b[43mo3d\u001b[49m\u001b[38;5;241;43m.\u001b[39;49m\u001b[43mpipelines\u001b[49m\u001b[38;5;241;43m.\u001b[39;49m\u001b[43mregistration\u001b[49m\u001b[38;5;241;43m.\u001b[39;49m\u001b[43mregistration_colored_icp\u001b[49m\u001b[43m(\u001b[49m\n\u001b[1;32m     26\u001b[0m \u001b[43m    \u001b[49m\u001b[43msource_down\u001b[49m\u001b[43m,\u001b[49m\u001b[43m \u001b[49m\u001b[43mtarget_down\u001b[49m\u001b[43m,\u001b[49m\u001b[43m \u001b[49m\u001b[43mradius\u001b[49m\u001b[43m,\u001b[49m\u001b[43m \u001b[49m\u001b[43mcurrent_transformation\u001b[49m\u001b[43m,\u001b[49m\n\u001b[1;32m     27\u001b[0m \u001b[43m    \u001b[49m\u001b[43mo3d\u001b[49m\u001b[38;5;241;43m.\u001b[39;49m\u001b[43mpipelines\u001b[49m\u001b[38;5;241;43m.\u001b[39;49m\u001b[43mregistration\u001b[49m\u001b[38;5;241;43m.\u001b[39;49m\u001b[43mTransformationEstimationForColoredICP\u001b[49m\u001b[43m(\u001b[49m\u001b[43m)\u001b[49m\u001b[43m,\u001b[49m\n\u001b[1;32m     28\u001b[0m \u001b[43m    \u001b[49m\u001b[43mo3d\u001b[49m\u001b[38;5;241;43m.\u001b[39;49m\u001b[43mpipelines\u001b[49m\u001b[38;5;241;43m.\u001b[39;49m\u001b[43mregistration\u001b[49m\u001b[38;5;241;43m.\u001b[39;49m\u001b[43mICPConvergenceCriteria\u001b[49m\u001b[43m(\u001b[49m\u001b[43mrelative_fitness\u001b[49m\u001b[38;5;241;43m=\u001b[39;49m\u001b[38;5;241;43m1e-6\u001b[39;49m\u001b[43m,\u001b[49m\n\u001b[1;32m     29\u001b[0m \u001b[43m                                                      \u001b[49m\u001b[43mrelative_rmse\u001b[49m\u001b[38;5;241;43m=\u001b[39;49m\u001b[38;5;241;43m1e-6\u001b[39;49m\u001b[43m,\u001b[49m\n\u001b[1;32m     30\u001b[0m \u001b[43m                                                      \u001b[49m\u001b[43mmax_iteration\u001b[49m\u001b[38;5;241;43m=\u001b[39;49m\u001b[38;5;28;43miter\u001b[39;49m\u001b[43m)\u001b[49m\u001b[43m)\u001b[49m\n\u001b[1;32m     31\u001b[0m current_transformation \u001b[38;5;241m=\u001b[39m result_icp\u001b[38;5;241m.\u001b[39mtransformation\n\u001b[1;32m     32\u001b[0m \u001b[38;5;28mprint\u001b[39m(result_icp)\n",
      "\u001b[0;31mRuntimeError\u001b[0m: \u001b[1;31m[Open3D Error] (virtual Eigen::Matrix4d open3d::pipelines::registration::TransformationEstimationForColoredICP::ComputeTransformation(const open3d::geometry::PointCloud&, const open3d::geometry::PointCloud&, const CorrespondenceSet&) const) /root/Open3D/cpp/open3d/pipelines/registration/ColoredICP.cpp:104: No correspondences found between source and target pointcloud.\n\u001b[0;m"
     ]
    }
   ],
   "source": [
    "# colored pointcloud registration\n",
    "# This is implementation of following paper\n",
    "# J. Park, Q.-Y. Zhou, V. Koltun,\n",
    "# Colored Point Cloud Registration Revisited, ICCV 2017\n",
    "voxel_radius = np.asarray([0.04, 0.02, 0.01]) / 10\n",
    "max_iter = [50, 30, 14]\n",
    "current_transformation = np.identity(4)\n",
    "print(\"3. Colored point cloud registration\")\n",
    "for scale in range(3):\n",
    "    iter = max_iter[scale]\n",
    "    radius = voxel_radius[scale]\n",
    "    print([iter, radius, scale])\n",
    "\n",
    "    print(\"3-1. Downsample with a voxel size %.2f\" % radius)\n",
    "    source_down = rgbd_nbr_pcd.voxel_down_sample(radius)\n",
    "    target_down = sfm_nbr_pcd.voxel_down_sample(radius)\n",
    "\n",
    "    print(\"3-2. Estimate normal.\")\n",
    "    source_down.estimate_normals(\n",
    "        o3d.geometry.KDTreeSearchParamHybrid(radius=radius * 2, max_nn=30))\n",
    "    target_down.estimate_normals(\n",
    "        o3d.geometry.KDTreeSearchParamHybrid(radius=radius * 2, max_nn=30))\n",
    "\n",
    "    print(\"3-3. Applying colored point cloud registration\")\n",
    "    result_icp = o3d.pipelines.registration.registration_colored_icp(\n",
    "        source_down, target_down, radius, current_transformation,\n",
    "        o3d.pipelines.registration.TransformationEstimationForColoredICP(),\n",
    "        o3d.pipelines.registration.ICPConvergenceCriteria(relative_fitness=1e-6,\n",
    "                                                          relative_rmse=1e-6,\n",
    "                                                          max_iteration=iter))\n",
    "    current_transformation = result_icp.transformation\n",
    "    print(result_icp)\n",
    "# draw_registration_result_original_color(source, target,\n",
    "#                                         result_icp.transformation)\n",
    "\n"
   ]
  },
  {
   "cell_type": "code",
   "execution_count": 38,
   "metadata": {},
   "outputs": [
    {
     "name": "stdout",
     "output_type": "stream",
     "text": [
      "2. Point-to-plane ICP registration is applied on original point\n",
      "   clouds to refine the alignment. Distance threshold 0.02.\n",
      "   Compute the normals\n",
      "[[ 0.95867697 -0.25166147  0.1326837  -0.15782891]\n",
      " [ 0.19059818  0.91438097  0.35718311 -0.133633  ]\n",
      " [-0.21121268 -0.31713395  0.9245622  -0.15130292]\n",
      " [ 0.          0.          0.          1.        ]]\n"
     ]
    }
   ],
   "source": [
    "current_transformation = np.identity(4)\n",
    "print(\"2. Point-to-plane ICP registration is applied on original point\")\n",
    "print(\"   clouds to refine the alignment. Distance threshold 0.02.\")\n",
    "\n",
    "print(\"   Compute the normals\")\n",
    "\n",
    "rgbd_pcd.estimate_normals(search_param=o3d.geometry.KDTreeSearchParamHybrid(radius=0.1, max_nn=30))\n",
    "sfm_pcd.estimate_normals(search_param=o3d.geometry.KDTreeSearchParamHybrid(radius=0.1, max_nn=30))\n",
    "\n",
    "result_icp = o3d.pipelines.registration.registration_icp(\n",
    "    rgbd_pcd, sfm_pcd, 2, current_transformation,\n",
    "    o3d.pipelines.registration.TransformationEstimationPointToPoint())\n",
    "print(result_icp.transformation)\n",
    "# draw_registration_result_original_color(source, target,\n",
    "#                                         result_icp.transformation)"
   ]
  },
  {
   "cell_type": "code",
   "execution_count": 41,
   "metadata": {},
   "outputs": [],
   "source": [
    "def draw_registration_result(source, target, transformation):\n",
    "    source_temp = deepcopy(source)\n",
    "    target_temp = deepcopy(target)\n",
    "    source_temp.paint_uniform_color([1, 0.706, 0])\n",
    "    target_temp.paint_uniform_color([0, 0.651, 0.929])\n",
    "    source_temp.transform(transformation)\n",
    "    o3d.visualization.draw_geometries([source_temp, target_temp])"
   ]
  },
  {
   "cell_type": "code",
   "execution_count": 42,
   "metadata": {},
   "outputs": [],
   "source": [
    "draw_registration_result(rgbd_pcd, sfm_pcd, result_icp.transformation)"
   ]
  },
  {
   "cell_type": "markdown",
   "metadata": {},
   "source": [
    "above full pair not working"
   ]
  },
  {
   "cell_type": "code",
   "execution_count": 51,
   "metadata": {},
   "outputs": [
    {
     "name": "stdout",
     "output_type": "stream",
     "text": [
      "2. Point-to-plane ICP registration is applied on original point\n",
      "   clouds to refine the alignment. Distance threshold 0.02.\n",
      "   Compute the normals\n",
      "[[ 0.379157   -0.92233702  0.07439349  0.33443886]\n",
      " [ 0.05021021 -0.05977092 -0.99694853  0.52493279]\n",
      " [ 0.92396911  0.38173532  0.02364818 -0.26071623]\n",
      " [ 0.          0.          0.          1.        ]]\n"
     ]
    }
   ],
   "source": [
    "current_transformation = np.identity(4)\n",
    "print(\"2. Point-to-plane ICP registration is applied on original point\")\n",
    "print(\"   clouds to refine the alignment. Distance threshold 0.02.\")\n",
    "\n",
    "print(\"   Compute the normals\")\n",
    "\n",
    "rgbd_nbr_pcd.estimate_normals(search_param=o3d.geometry.KDTreeSearchParamHybrid(radius=0.1, max_nn=30))\n",
    "sfm_nbr_pcd.estimate_normals(search_param=o3d.geometry.KDTreeSearchParamHybrid(radius=0.1, max_nn=30))\n",
    "\n",
    "result_icp = o3d.pipelines.registration.registration_icp(\n",
    "    rgbd_nbr_pcd, sfm_nbr_pcd, 0.4, current_transformation,\n",
    "    o3d.pipelines.registration.TransformationEstimationPointToPlane())\n",
    "print(result_icp.transformation)\n",
    "draw_registration_result(rgbd_nbr_pcd, sfm_nbr_pcd, result_icp.transformation)"
   ]
  },
  {
   "cell_type": "markdown",
   "metadata": {},
   "source": [
    "# Elipsoid-Fit\n",
    "\n",
    "By openai\n",
    "\n",
    "Reference: https://github.com/rmsandu/Ellipsoid-Fit"
   ]
  },
  {
   "cell_type": "code",
   "execution_count": 172,
   "metadata": {},
   "outputs": [
    {
     "data": {
      "text/plain": [
       "array([[-0.0038192 , -0.01463392,  0.12344498],\n",
       "       [-0.02704081,  0.00965365,  0.08738249],\n",
       "       [ 0.00158402,  0.00851643,  0.06790314],\n",
       "       ...,\n",
       "       [-0.01005182,  0.02333051,  0.08275561],\n",
       "       [-0.0261647 ,  0.00949902,  0.10779854],\n",
       "       [ 0.02437466, -0.0025268 ,  0.08342717]])"
      ]
     },
     "execution_count": 172,
     "metadata": {},
     "output_type": "execute_result"
    }
   ],
   "source": [
    "points = np.asarray(sfm_pcd.points)\n",
    "points"
   ]
  },
  {
   "cell_type": "code",
   "execution_count": 169,
   "metadata": {},
   "outputs": [],
   "source": [
    "o3d.visualization.draw_geometries([sfm_pcd])"
   ]
  },
  {
   "cell_type": "code",
   "execution_count": 166,
   "metadata": {},
   "outputs": [],
   "source": [
    "# 椭球体方程的函数，需要优化的参数为椭球体的中心 (xc, yc, zc) 和轴 (a, b, c)\n",
    "def ellipsoid(params, points):\n",
    "    xc, yc, zc, a, b, c = params\n",
    "    x, y, z = points[:,0], points[:,1], points[:,2]\n",
    "    return ((x - xc)**2 / a**2 + (y - yc)**2 / b**2 + (z - zc)**2 / c**2 - 1)**2"
   ]
  },
  {
   "cell_type": "code",
   "execution_count": 170,
   "metadata": {},
   "outputs": [
    {
     "ename": "ValueError",
     "evalue": "Desired error not necessarily achieved due to precision loss.",
     "output_type": "error",
     "traceback": [
      "\u001b[0;31m---------------------------------------------------------------------------\u001b[0m",
      "\u001b[0;31mValueError\u001b[0m                                Traceback (most recent call last)",
      "Cell \u001b[0;32mIn[170], line 12\u001b[0m\n\u001b[1;32m     10\u001b[0m     \u001b[38;5;28mprint\u001b[39m(\u001b[38;5;124mf\u001b[39m\u001b[38;5;124m\"\u001b[39m\u001b[38;5;124mFitted Ellipsoid: xc=\u001b[39m\u001b[38;5;132;01m{\u001b[39;00mfitted_params[\u001b[38;5;241m0\u001b[39m]\u001b[38;5;132;01m}\u001b[39;00m\u001b[38;5;124m, yc=\u001b[39m\u001b[38;5;132;01m{\u001b[39;00mfitted_params[\u001b[38;5;241m1\u001b[39m]\u001b[38;5;132;01m}\u001b[39;00m\u001b[38;5;124m, zc=\u001b[39m\u001b[38;5;132;01m{\u001b[39;00mfitted_params[\u001b[38;5;241m2\u001b[39m]\u001b[38;5;132;01m}\u001b[39;00m\u001b[38;5;124m, a=\u001b[39m\u001b[38;5;132;01m{\u001b[39;00mfitted_params[\u001b[38;5;241m3\u001b[39m]\u001b[38;5;132;01m}\u001b[39;00m\u001b[38;5;124m, b=\u001b[39m\u001b[38;5;132;01m{\u001b[39;00mfitted_params[\u001b[38;5;241m4\u001b[39m]\u001b[38;5;132;01m}\u001b[39;00m\u001b[38;5;124m, c=\u001b[39m\u001b[38;5;132;01m{\u001b[39;00mfitted_params[\u001b[38;5;241m5\u001b[39m]\u001b[38;5;132;01m}\u001b[39;00m\u001b[38;5;124m\"\u001b[39m)\n\u001b[1;32m     11\u001b[0m \u001b[38;5;28;01melse\u001b[39;00m:\n\u001b[0;32m---> 12\u001b[0m     \u001b[38;5;28;01mraise\u001b[39;00m \u001b[38;5;167;01mValueError\u001b[39;00m(result\u001b[38;5;241m.\u001b[39mmessage)\n",
      "\u001b[0;31mValueError\u001b[0m: Desired error not necessarily achieved due to precision loss."
     ]
    }
   ],
   "source": [
    "# 拟合椭球体，初始参数可以是中心接近点云中心，轴长接近点云范围\n",
    "initial_params = [np.mean(points[:,0]), np.mean(points[:,1]), np.mean(points[:,2]), \n",
    "                  np.ptp(points[:,0])/2, np.ptp(points[:,1])/2, np.ptp(points[:,2])/2]\n",
    "\n",
    "# 使用 minimize 函数进行优化\n",
    "result = minimize(lambda params: np.sum(ellipsoid(params, points)), initial_params, method='BFGS')\n",
    "\n",
    "if result.success:\n",
    "    fitted_params = result.x\n",
    "    print(f\"Fitted Ellipsoid: xc={fitted_params[0]}, yc={fitted_params[1]}, zc={fitted_params[2]}, a={fitted_params[3]}, b={fitted_params[4]}, c={fitted_params[5]}\")\n",
    "else:\n",
    "    raise ValueError(result.message)"
   ]
  },
  {
   "cell_type": "code",
   "execution_count": 183,
   "metadata": {},
   "outputs": [],
   "source": [
    "# from https://github.com/aleksandrbazhin/ellipsoid_fit_python/tree/master\n",
    "# http://www.mathworks.com/matlabcentral/fileexchange/24693-ellipsoid-fit\n",
    "# for arbitrary axes\n",
    "def ellipsoid_fit(X):\n",
    "    x = X[:, 0]\n",
    "    y = X[:, 1]\n",
    "    z = X[:, 2]\n",
    "    D = np.array([x * x + y * y - 2 * z * z,\n",
    "                 x * x + z * z - 2 * y * y,\n",
    "                 2 * x * y,\n",
    "                 2 * x * z,\n",
    "                 2 * y * z,\n",
    "                 2 * x,\n",
    "                 2 * y,\n",
    "                 2 * z,\n",
    "                 1 - 0 * x])\n",
    "    d2 = np.array(x * x + y * y + z * z).T # rhs for LLSQ\n",
    "    u = np.linalg.solve(D.dot(D.T), D.dot(d2))\n",
    "    a = np.array([u[0] + 1 * u[1] - 1])\n",
    "    b = np.array([u[0] - 2 * u[1] - 1])\n",
    "    c = np.array([u[1] - 2 * u[0] - 1])\n",
    "    v = np.concatenate([a, b, c, u[2:]], axis=0).flatten()\n",
    "    A = np.array([[v[0], v[3], v[4], v[6]],\n",
    "                  [v[3], v[1], v[5], v[7]],\n",
    "                  [v[4], v[5], v[2], v[8]],\n",
    "                  [v[6], v[7], v[8], v[9]]])\n",
    "\n",
    "    center = np.linalg.solve(- A[:3, :3], v[6:9])\n",
    "\n",
    "    translation_matrix = np.eye(4)\n",
    "    translation_matrix[3, :3] = center.T\n",
    "\n",
    "    R = translation_matrix.dot(A).dot(translation_matrix.T)\n",
    "\n",
    "    evals, evecs = np.linalg.eig(R[:3, :3] / -R[3, 3])\n",
    "    evecs = evecs.T\n",
    "\n",
    "    radii = np.sqrt(1. / np.abs(evals))\n",
    "    radii *= np.sign(evals)\n",
    "\n",
    "    a, b, c = radii\n",
    "    r = (a * b * c) ** (1. / 3.)\n",
    "    D = np.array([[r/a, 0., 0.], [0., r/b, 0.], [0., 0., r/c]])\n",
    "    R = evecs.dot(D).dot(evecs.T)\n",
    "\n",
    "    return center, evecs, radii, R, v"
   ]
  },
  {
   "cell_type": "code",
   "execution_count": 173,
   "metadata": {},
   "outputs": [],
   "source": [
    "center, evecs, radii, v = ellipsoid_fit(points)"
   ]
  },
  {
   "cell_type": "code",
   "execution_count": 174,
   "metadata": {},
   "outputs": [
    {
     "name": "stdout",
     "output_type": "stream",
     "text": [
      "\n",
      "center:  [-0.00055212  0.00090132  0.09873023]\n",
      "radii:  [0.02365448 0.02944703 0.03338996]\n",
      "evecs:  [[ 0.42141987  0.90624412  0.0335691 ]\n",
      " [ 0.87528516 -0.39678211 -0.27647758]\n",
      " [ 0.23723656 -0.14589568  0.96043389]]\n",
      "transformation:\n",
      "[[1.01138114 0.08862197 0.02004152]\n",
      " [0.08862197 1.1424637  0.07968701]\n",
      " [0.02004152 0.07968701 0.87712378]]\n",
      "Coefficients:\n",
      "[-0.97832142 -1.30435906 -0.71731952 -0.19621868  0.03863998 -0.04315253\n",
      " -0.00417823  0.00532777  0.07088135 -0.00622346]\n"
     ]
    }
   ],
   "source": [
    "a, b, c = radii\n",
    "r = (a * b * c) ** (1. / 3.)\n",
    "D = np.array([[r/a, 0., 0.], [0., r/b, 0.], [0., 0., r/c]])\n",
    "transformation = evecs.dot(D).dot(evecs.T)\n",
    "\n",
    "print('')\n",
    "print('center: ', center)\n",
    "print('radii: ', radii)\n",
    "print('evecs: ', evecs)\n",
    "print('transformation:')\n",
    "print(transformation)\n",
    "print('Coefficients:')\n",
    "print(v)"
   ]
  },
  {
   "cell_type": "markdown",
   "metadata": {},
   "source": [
    "open3d visualize ellipsoid"
   ]
  },
  {
   "cell_type": "code",
   "execution_count": 181,
   "metadata": {},
   "outputs": [],
   "source": [
    "# 已知的参数\n",
    "a, b, c = 2, 1, 0.5  # 轴长abc\n",
    "center = np.array([1, 2, 3])  # 中心点坐标\n",
    "R = np.array([[1, 0, 0],  # 3x3旋转矩阵\n",
    "              [0, 1, 0],\n",
    "              [0, 0, 1]])\n",
    "\n",
    "# 创建单位球体\n",
    "mesh = o3d.geometry.TriangleMesh.create_sphere(radius=1)\n",
    "mesh.compute_vertex_normals()\n",
    "\n",
    "# 缩放变换使之变为椭球形状\n",
    "# scale_matrix = np.diag([a, b, c])\n",
    "# 应用非均匀缩放变换以创建椭球\n",
    "scale_matrix = np.diag([a, b, c, 1])  # 构造缩放变换矩阵\n",
    "mesh.scale(scale=1.0, center=mesh.get_center())  # 先将球体缩放到原点\n",
    "mesh.transform(scale_matrix)  # 应用缩放变换\n",
    "\n",
    "# 旋转变换\n",
    "# rotation_transform = np.eye(4)  # 构造一个4x4的旋转变换矩阵\n",
    "# rotation_transform[:3, :3] = R\n",
    "mesh.rotate(R, center=(0, 0, 0))  # 假设旋转矩阵是围绕原点的\n",
    "\n",
    "# 平移变换以移动椭球中心到给定位置\n",
    "mesh.translate(center, relative=False)\n",
    "\n",
    "mesh_frame = o3d.geometry.LineSet.create_from_triangle_mesh(mesh)\n",
    "\n",
    "# 可视化椭球体\n",
    "o3d.visualization.draw_geometries([mesh_frame])"
   ]
  },
  {
   "cell_type": "code",
   "execution_count": 205,
   "metadata": {},
   "outputs": [],
   "source": [
    "def create_o3d_ellipsoid(center, abc, R):\n",
    "    \"\"\"\n",
    "\n",
    "    Parameters\n",
    "    ----------\n",
    "    center : np.array(np.float[3,1])\n",
    "        center of ellipsoid\n",
    "    abc : np.array(np.float[3,1])\n",
    "        axis length\n",
    "    R : np.array(np.float[3,3])\n",
    "        rotation matrix of ellipsoid\n",
    "\n",
    "    Returns\n",
    "    -------\n",
    "    open3d.geometry.LineSet\n",
    "    \"\"\"\n",
    "    # 已知的参数\n",
    "    a, b, c = abc  # 轴长abc\n",
    "\n",
    "    # 创建单位球体\n",
    "    mesh = o3d.geometry.TriangleMesh.create_sphere(radius=1)\n",
    "    mesh.compute_vertex_normals()\n",
    "\n",
    "    # 将球体的中心移动到原点\n",
    "    mesh.translate(-mesh.get_center(), relative=True)\n",
    "\n",
    "    # 缩放变换使之变为椭球形状\n",
    "    # 应用非均匀缩放变换以创建椭球\n",
    "    scale_matrix = np.diag([a, b, c, 1])  # 构造缩放变换矩阵\n",
    "    mesh.scale(scale=1.0, center=mesh.get_center())  # 先将球体缩放到原点\n",
    "    mesh.transform(scale_matrix)  # 应用缩放变换\n",
    "\n",
    "    # 旋转变换\n",
    "    # rotation_transform = np.eye(4)  # 构造一个4x4的旋转变换矩阵\n",
    "    # rotation_transform[:3, :3] = R\n",
    "    mesh.rotate(R, center=(0, 0, 0))  # 假设旋转矩阵是围绕原点的\n",
    "\n",
    "    # 平移变换以将椭球中心移动到给定位置\n",
    "    translation_transform = np.eye(4)  # 构造一个4x4的平移变换矩阵\n",
    "    translation_transform[:3, 3] = center\n",
    "    mesh.transform(translation_transform)  # 应用平移变换\n",
    "\n",
    "    mesh_frame = o3d.geometry.LineSet.create_from_triangle_mesh(mesh)\n",
    "\n",
    "    return mesh_frame"
   ]
  },
  {
   "cell_type": "code",
   "execution_count": 206,
   "metadata": {},
   "outputs": [],
   "source": [
    "center, evecs, radii, R, v = ellipsoid_fit(points)"
   ]
  },
  {
   "cell_type": "code",
   "execution_count": 211,
   "metadata": {},
   "outputs": [],
   "source": [
    "sfm_elip = create_o3d_ellipsoid(center, radii, evecs)"
   ]
  },
  {
   "cell_type": "code",
   "execution_count": 212,
   "metadata": {},
   "outputs": [],
   "source": [
    "o3d.visualization.draw_geometries([sfm_pcd, sfm_elip])"
   ]
  },
  {
   "cell_type": "code",
   "execution_count": 213,
   "metadata": {},
   "outputs": [],
   "source": [
    "from ellipsoid_fit import ellipsoid_plot, set_axes_equal"
   ]
  },
  {
   "cell_type": "code",
   "execution_count": 199,
   "metadata": {},
   "outputs": [],
   "source": [
    "%matplotlib widget"
   ]
  },
  {
   "cell_type": "code",
   "execution_count": 204,
   "metadata": {},
   "outputs": [
    {
     "data": {
      "application/vnd.jupyter.widget-view+json": {
       "model_id": "10f631a4794c43e981d56f27014f598e",
       "version_major": 2,
       "version_minor": 0
      },
      "image/png": "[encoded data removed]",
      "text/html": [
       "\n",
       "            <div style=\"display: inline-block;\">\n",
       "                <div class=\"jupyter-widgets widget-label\" style=\"text-align: center;\">\n",
       "                    Figure\n",
       "                </div>\n",
       "                <img src='data:image/png;base64,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' width=640.0/>\n",
       "            </div>\n",
       "        "
      ],
      "text/plain": [
       "Canvas(toolbar=Toolbar(toolitems=[('Home', 'Reset original view', 'home', 'home'), ('Back', 'Back to previous …"
      ]
     },
     "metadata": {},
     "output_type": "display_data"
    }
   ],
   "source": [
    "# data2 = data_regularize(points, divs=8)\n",
    "\n",
    "center, evecs, radii, R, v = ellipsoid_fit(points)\n",
    "\n",
    "data_centered = points - center.T\n",
    "\n",
    "fig = plt.figure()\n",
    "ax = fig.add_subplot(111, projection='3d')\n",
    "        \n",
    "ax.scatter(data_centered[:,0], data_centered[:,1], data_centered[:,2], marker='.', color='k', alpha=0.3, s=0.1)\n",
    "\n",
    "ellipsoid_plot([0, 0, 0], radii, evecs, ax=ax, plot_axes=True, cage_color='g')\n",
    "\n",
    "set_axes_equal(ax)\n",
    "plt.show()"
   ]
  },
  {
   "cell_type": "markdown",
   "metadata": {},
   "source": [
    "# Pin guided alignment"
   ]
  },
  {
   "cell_type": "code",
   "execution_count": 214,
   "metadata": {},
   "outputs": [],
   "source": [
    "def find_pin_center(pin_pcd, visualize=False):\n",
    "    pin_hull, hull_idx = pin_pcd.compute_convex_hull()\n",
    "    \n",
    "    # get bounding box size\n",
    "    hull_obb = pin_hull.get_oriented_bounding_box()\n",
    "\n",
    "    # 获取边界框的三个轴的长度\n",
    "    extents = hull_obb.extent\n",
    "\n",
    "    # 找到最短边和对应的索引\n",
    "    min_extent_idx = np.argmin(extents)\n",
    "    min_extent_length = extents[min_extent_idx]\n",
    "\n",
    "    # 获取对应于最短边的轴\n",
    "    min_extent_vector = hull_obb.R[:, min_extent_idx]\n",
    "\n",
    "    # 获取边界框的中心，作为平面上的一个点\n",
    "    plane_point = hull_obb.center\n",
    "\n",
    "    # 投影到最短边对应的平面上\n",
    "    points_3d = np.asarray(pin_pcd.points)\n",
    "    points_proj_3d, points_proj_2d, uv = project_to_plane_vectorized(points_3d, plane_point, min_extent_vector)\n",
    "\n",
    "    # 计算2D点集的凸包，并拟合圆\n",
    "    circle_center_2d, circle_radius, sigma = fit_circle_to_convex_hull(points_proj_2d, visualize)\n",
    "\n",
    "    # 将2D圆心转换回3D空间坐标\n",
    "    circle_center_3d = convert_2d_to_3d(np.asarray([circle_center_2d]), plane_point, uv[0], uv[1])\n",
    "    circle_center_3d = circle_center_3d[0]\n",
    "\n",
    "    if visualize:\n",
    "\n",
    "        # 将投影点列表转换为Open3D点云\n",
    "        projected_cloud = o3d.geometry.PointCloud()\n",
    "        projected_cloud.points = o3d.utility.Vector3dVector(points_proj_3d)\n",
    "        projected_cloud = projected_cloud.paint_uniform_color([0,0,1])\n",
    "\n",
    "        # 创建一个圆形网格\n",
    "        circle_mesh = create_circle_mesh(circle_center_2d, circle_radius, plane_point, uv)\n",
    "\n",
    "        o3d.visualization.draw_geometries([circle_mesh, pin_pcd, hull_obb, projected_cloud])\n",
    "\n",
    "    return circle_center_3d, circle_radius, min_extent_vector, sigma"
   ]
  },
  {
   "cell_type": "code",
   "execution_count": 219,
   "metadata": {},
   "outputs": [],
   "source": [
    "sfm_pin_ctr, sfm_pin_r, sfm_pin_vect, sfm_pin_sigma = find_pin_center(sfm_pin_pcd, visualize=False)\n",
    "rgbd_pin_ctr, rgbd_pin_r, rgbd_pin_vect, rgbd_pin_sigma = find_pin_center(rgbd_pin_pcd, visualize=False)"
   ]
  },
  {
   "cell_type": "code",
   "execution_count": 217,
   "metadata": {},
   "outputs": [
    {
     "data": {
      "text/plain": [
       "(array([ 0.00506179, -0.02261629,  0.10578551]),\n",
       " array([ 0.11385188, -0.0019237 ,  0.31832698]))"
      ]
     },
     "execution_count": 217,
     "metadata": {},
     "output_type": "execute_result"
    }
   ],
   "source": [
    "sfm_pin_ctr, rgbd_pin_ctr"
   ]
  },
  {
   "cell_type": "code",
   "execution_count": 218,
   "metadata": {},
   "outputs": [
    {
     "data": {
      "text/plain": [
       "(0.00493357359805059, 0.005759314338823653)"
      ]
     },
     "execution_count": 218,
     "metadata": {},
     "output_type": "execute_result"
    }
   ],
   "source": [
    "sfm_pin_r, rgbd_pin_r"
   ]
  },
  {
   "cell_type": "code",
   "execution_count": 221,
   "metadata": {},
   "outputs": [
    {
     "data": {
      "text/plain": [
       "(array([ 0.07642455, -0.99317705,  0.08808312]),\n",
       " array([-0.83435823,  0.15978767, -0.52755497]))"
      ]
     },
     "execution_count": 221,
     "metadata": {},
     "output_type": "execute_result"
    }
   ],
   "source": [
    "sfm_pin_vect, rgbd_pin_vect"
   ]
  },
  {
   "cell_type": "code",
   "execution_count": 224,
   "metadata": {},
   "outputs": [],
   "source": [
    "def project_points_on_vector(points, vector, return_1d=False):\n",
    "    \"\"\"\n",
    "    把点投影到给定向量上\n",
    "    输入：points: nx3的三维点\n",
    "         vector: 1x3的向量\n",
    "    输出：投影后的点(在空间中的位置)\n",
    "    \"\"\"\n",
    "    v_norm = np.sqrt(sum(vector**2))\n",
    "\n",
    "    v3d = (np.dot(points, vector.reshape(3,1))/v_norm**2)*vector\n",
    "\n",
    "    if return_1d:\n",
    "        return np.sqrt(np.sum(v3d**2, axis=1))\n",
    "    else:\n",
    "        return v3d"
   ]
  },
  {
   "cell_type": "code",
   "execution_count": 231,
   "metadata": {},
   "outputs": [
    {
     "data": {
      "text/plain": [
       "array([[ 0.00506179, -0.02261629,  0.10578551],\n",
       "       [-0.0038192 , -0.01463392,  0.12344498],\n",
       "       [-0.02704081,  0.00965365,  0.08738249],\n",
       "       ...,\n",
       "       [-0.01005182,  0.02333051,  0.08275561],\n",
       "       [-0.0261647 ,  0.00949902,  0.10779854],\n",
       "       [ 0.02437466, -0.0025268 ,  0.08342717]])"
      ]
     },
     "execution_count": 231,
     "metadata": {},
     "output_type": "execute_result"
    }
   ],
   "source": [
    "sfm_pcd_add_ctr = np.insert( np.asarray(sfm_pcd.points), 0, sfm_pin_ctr, axis=0)\n",
    "sfm_pcd_add_ctr"
   ]
  },
  {
   "cell_type": "code",
   "execution_count": 232,
   "metadata": {},
   "outputs": [
    {
     "data": {
      "text/plain": [
       "array([0.03216674, 0.02511561, 0.00395744, ..., 0.01665016, 0.0019386 ,\n",
       "       0.0117209 ])"
      ]
     },
     "execution_count": 232,
     "metadata": {},
     "output_type": "execute_result"
    }
   ],
   "source": [
    "sfm_on_pin_vect = project_points_on_vector(\n",
    "    sfm_pcd_add_ctr, \n",
    "    sfm_pin_vect, return_1d=True)\n",
    "sfm_on_pin_vect"
   ]
  },
  {
   "cell_type": "markdown",
   "metadata": {},
   "source": [
    "Judge the direction of vector"
   ]
  },
  {
   "cell_type": "code",
   "execution_count": 235,
   "metadata": {},
   "outputs": [
    {
     "data": {
      "text/plain": [
       "array([  475,   667,   726,   769,  1602,  2039,  2111,  2287,  2471,\n",
       "        2640,  2719,  2804,  3056,  3088,  3304,  3720,  3833,  3923,\n",
       "        4298,  4763,  4789,  4984,  5236,  5544,  5586,  5774,  5786,\n",
       "        5860,  6602,  6776,  6822,  6976,  7111,  7170,  7206,  7960,\n",
       "        7994,  8001,  8040,  8071,  8107,  8176,  8333,  8612,  8697,\n",
       "        8884,  9276,  9412,  9416,  9927,  9957,  9991, 10209, 10246,\n",
       "       10415, 10783, 10879, 10887, 10991, 11631, 11899, 12530, 12790,\n",
       "       12864, 12898, 12974, 13198, 13305, 13726, 13834, 14379, 14431,\n",
       "       14496, 14562, 14698, 14963, 15058, 15089, 15185, 15374, 15385,\n",
       "       15435, 15889, 16013, 16731, 16789, 16999, 17130, 18155, 18612,\n",
       "       19074, 19108, 19224, 19480, 19687, 19869, 19886, 20507, 20571,\n",
       "       20634, 20694, 20777, 20988, 21270, 21637, 21656, 22065, 22148,\n",
       "       23164, 23512, 23606, 23949, 24135, 24153, 24231, 24360, 24558,\n",
       "       24575, 24695, 24988, 25291, 25484, 25544, 25672, 25695, 25746,\n",
       "       25969, 26152, 26868, 27091, 27135, 27833, 27858, 28027, 28131,\n",
       "       28327, 28673, 28714, 28950, 29085, 29709, 29724])"
      ]
     },
     "execution_count": 235,
     "metadata": {},
     "output_type": "execute_result"
    }
   ],
   "source": [
    "np.where(sfm_on_pin_vect > sfm_on_pin_vect[0])[0]"
   ]
  },
  {
   "cell_type": "code",
   "execution_count": 236,
   "metadata": {},
   "outputs": [
    {
     "data": {
      "text/plain": [
       "array([    1,     2,     3, ..., 29998, 29999, 30000])"
      ]
     },
     "execution_count": 236,
     "metadata": {},
     "output_type": "execute_result"
    }
   ],
   "source": [
    "np.where(sfm_on_pin_vect < sfm_on_pin_vect[0])[0]"
   ]
  },
  {
   "cell_type": "code",
   "execution_count": 237,
   "metadata": {},
   "outputs": [],
   "source": [
    "def correct_vector_direction(points, vector, vector_root):\n",
    "    # 把root插入到第一行方便对比\n",
    "    root_on_top = np.insert(points, 0, vector_root, axis=0)\n",
    "\n",
    "    root_on_top_projected = project_points_on_vector(\n",
    "        points=root_on_top, \n",
    "        vector=vector, \n",
    "        return_1d=True)\n",
    "    \n",
    "    left_num = len(np.where(root_on_top_projected < root_on_top_projected[0])[0])\n",
    "    right_num = len(np.where(root_on_top_projected > root_on_top_projected[0])[0])\n",
    "\n",
    "    if left_num < right_num:\n",
    "        return -vector\n",
    "    else:\n",
    "        return vector"
   ]
  },
  {
   "cell_type": "code",
   "execution_count": 238,
   "metadata": {},
   "outputs": [],
   "source": [
    "sfm_pin_ctr, sfm_pin_r, sfm_pin_vect, sfm_pin_sigma = find_pin_center(sfm_pin_pcd, visualize=False)\n",
    "rgbd_pin_ctr, rgbd_pin_r, rgbd_pin_vect, rgbd_pin_sigma = find_pin_center(rgbd_pin_pcd, visualize=False)"
   ]
  },
  {
   "cell_type": "code",
   "execution_count": 239,
   "metadata": {},
   "outputs": [],
   "source": [
    "sfm_pin_vector = correct_vector_direction(\n",
    "    np.asarray(sfm_pcd.points), sfm_pin_vect, sfm_pin_ctr\n",
    ")\n",
    "\n",
    "rgbd_pin_vector = correct_vector_direction(\n",
    "    np.asarray(rgbd_pcd.points), rgbd_pin_vect, rgbd_pin_ctr\n",
    ")"
   ]
  },
  {
   "cell_type": "code",
   "execution_count": 240,
   "metadata": {},
   "outputs": [
    {
     "data": {
      "text/plain": [
       "(array([ 0.07642455, -0.99317705,  0.08808312]),\n",
       " array([ 0.07642455, -0.99317705,  0.08808312]))"
      ]
     },
     "execution_count": 240,
     "metadata": {},
     "output_type": "execute_result"
    }
   ],
   "source": [
    "sfm_pin_vector, sfm_pin_vect"
   ]
  },
  {
   "cell_type": "code",
   "execution_count": 241,
   "metadata": {},
   "outputs": [
    {
     "data": {
      "text/plain": [
       "(array([ 0.83435823, -0.15978767,  0.52755497]),\n",
       " array([-0.83435823,  0.15978767, -0.52755497]))"
      ]
     },
     "execution_count": 241,
     "metadata": {},
     "output_type": "execute_result"
    }
   ],
   "source": [
    "rgbd_pin_vector, rgbd_pin_vect"
   ]
  },
  {
   "cell_type": "markdown",
   "metadata": {},
   "source": [
    "Calculate transform matrix"
   ]
  },
  {
   "cell_type": "code",
   "execution_count": 242,
   "metadata": {},
   "outputs": [],
   "source": [
    "def rotation_matrix_from_vectors(vec1, vec2):\n",
    "    \"\"\" Find the rotation matrix that aligns vec1 to vec2\n",
    "    :param vec1: A 3d \"source\" vector\n",
    "    :param vec2: A 3d \"destination\" vector\n",
    "    :return mat: A transform matrix (3x3) which when applied to vec1, aligns it with vec2.\n",
    "    \"\"\"\n",
    "    a, b = (vec1 / np.linalg.norm(vec1)).reshape(3), (vec2 / np.linalg.norm(vec2)).reshape(3)\n",
    "    v = np.cross(a, b)\n",
    "    c = np.dot(a, b)\n",
    "    s = np.linalg.norm(v)\n",
    "    kmat = np.array([[0, -v[2], v[1]], [v[2], 0, -v[0]], [-v[1], v[0], 0]])\n",
    "    \n",
    "    rotation_matrix = np.eye(3) + kmat + kmat.dot(kmat) * ((1 - c) / (s ** 2))\n",
    "\n",
    "    return rotation_matrix"
   ]
  },
  {
   "cell_type": "code",
   "execution_count": 244,
   "metadata": {},
   "outputs": [
    {
     "data": {
      "text/plain": [
       "array([[ 0.47381145, -0.82978398, -0.29489195],\n",
       "       [ 0.80312351,  0.2697989 ,  0.53122612],\n",
       "       [-0.3612414 , -0.48853568,  0.79425282]])"
      ]
     },
     "execution_count": 244,
     "metadata": {},
     "output_type": "execute_result"
    }
   ],
   "source": [
    "rmat = rotation_matrix_from_vectors(sfm_pin_vector, rgbd_pin_vector)\n",
    "rmat"
   ]
  },
  {
   "cell_type": "code",
   "execution_count": 274,
   "metadata": {},
   "outputs": [
    {
     "data": {
      "text/plain": [
       "array([[ 0.47381145, -0.82978398, -0.29489195, -0.10879008],\n",
       "       [ 0.80312351,  0.2697989 ,  0.53122612, -0.02069259],\n",
       "       [-0.3612414 , -0.48853568,  0.79425282, -0.21254147],\n",
       "       [ 0.        ,  0.        ,  0.        ,  1.        ]])"
      ]
     },
     "execution_count": 274,
     "metadata": {},
     "output_type": "execute_result"
    }
   ],
   "source": [
    "# 创建一个4x4的单位矩阵\n",
    "transform_matrix = np.eye(4)\n",
    "\n",
    "# 将3x3的旋转矩阵放入到4x4矩阵的左上角\n",
    "transform_matrix[:3, :3] = rotation_matrix_from_vectors(sfm_pin_vector, rgbd_pin_vector)\n",
    "\n",
    "# 将平移向量放入到4x4矩阵的最右列\n",
    "transform_matrix[:3, 3] = sfm_pin_ctr - rgbd_pin_ctr\n",
    "\n",
    "transform_matrix"
   ]
  },
  {
   "cell_type": "code",
   "execution_count": 265,
   "metadata": {},
   "outputs": [],
   "source": [
    "rgbd_pdf_pin_t = deepcopy(rgbd_pcd).transform(transform_matrix)\n",
    "o3d.visualization.draw_geometries([sfm_pcd, rgbd_pcd, rgbd_pdf_pin_t], window_name=\"source\")"
   ]
  },
  {
   "cell_type": "code",
   "execution_count": 269,
   "metadata": {},
   "outputs": [],
   "source": [
    "def create_transformation_matrix(P1, N1, P2, N2):\n",
    "    # 将输入向量标准化\n",
    "    N1 = N1 / np.linalg.norm(N1)\n",
    "    N2 = N2 / np.linalg.norm(N2)\n",
    "    \n",
    "    # 计算旋转轴（叉积）和旋转角度（通过点积）\n",
    "    cross_product = np.cross(N1, N2)\n",
    "    dot_product = np.dot(N1, N2)\n",
    "    if np.linalg.norm(cross_product) < 1e-5 and dot_product < 0:\n",
    "        # 两个法向量指向相反方向，需要180度旋转\n",
    "        # 找到与N1垂直的任意向量作为旋转轴\n",
    "        axis = np.cross(N1, np.abs(N1) < 0.9).reshape(3)\n",
    "        axis = axis / np.linalg.norm(axis)\n",
    "        angle = np.pi\n",
    "    else:\n",
    "        # 一般情况下，使用叉积和点积计算旋转轴和角度\n",
    "        axis = cross_product\n",
    "        angle = np.arccos(dot_product)\n",
    "    \n",
    "    # 使用scipy来构建旋转矩阵\n",
    "    rotation_matrix = Rotation.from_rotvec(axis * angle).as_matrix()\n",
    "    \n",
    "    # 计算平移向量\n",
    "    translation = P2 - P1\n",
    "    \n",
    "    # 构建完整的4x4变换矩阵\n",
    "    transformation_matrix = np.eye(4)\n",
    "    transformation_matrix[:3, :3] = rotation_matrix\n",
    "    transformation_matrix[:3, 3] = translation\n",
    "    \n",
    "    return transformation_matrix"
   ]
  },
  {
   "cell_type": "code",
   "execution_count": 272,
   "metadata": {},
   "outputs": [
    {
     "data": {
      "text/plain": [
       "array([[ 0.50674051, -0.81711428, -0.27484233,  0.10879008],\n",
       "       [ 0.79212223,  0.31549514,  0.52249899,  0.02069259],\n",
       "       [-0.34022996, -0.48248013,  0.80712855,  0.21254147],\n",
       "       [ 0.        ,  0.        ,  0.        ,  1.        ]])"
      ]
     },
     "execution_count": 272,
     "metadata": {},
     "output_type": "execute_result"
    }
   ],
   "source": [
    "transform_matrix = create_transformation_matrix(\n",
    "    sfm_pin_ctr, sfm_pin_vector,\n",
    "    rgbd_pin_ctr, rgbd_pin_vector\n",
    "    )\n",
    "\n",
    "transform_matrix"
   ]
  },
  {
   "cell_type": "code",
   "execution_count": 277,
   "metadata": {},
   "outputs": [],
   "source": [
    "coord_xyz = o3d.geometry.TriangleMesh.create_coordinate_frame(size=0.1)"
   ]
  },
  {
   "cell_type": "code",
   "execution_count": 278,
   "metadata": {},
   "outputs": [],
   "source": [
    "rgbd_pdf_pin_t = deepcopy(rgbd_pcd).transform(transform_matrix)\n",
    "o3d.visualization.draw_geometries([sfm_pcd, rgbd_pcd, rgbd_pdf_pin_t, coord_xyz], window_name=\"source\")"
   ]
  },
  {
   "cell_type": "code",
   "execution_count": 281,
   "metadata": {},
   "outputs": [],
   "source": [
    "def create_rotational_transform_matrix(P1, N1, P2, N2, rotation_point):\n",
    "    # 将输入向量标准化\n",
    "    N1 = N1 / np.linalg.norm(N1)\n",
    "    N2 = N2 / np.linalg.norm(N2)\n",
    "    \n",
    "    # 计算旋转轴和旋转角度\n",
    "    cross_product = np.cross(N1, N2)\n",
    "    dot_product = np.dot(N1, N2)\n",
    "    \n",
    "    # 当两个向量平行时，叉积为零\n",
    "    if np.allclose(cross_product, 0):\n",
    "        # 如果点积为-1，向量相反，需要绕垂直于这些向量的轴旋转180度\n",
    "        if np.isclose(dot_product, -1):\n",
    "            # 选择一个与N1垂直的轴作为旋转轴\n",
    "            perp_vector = np.array([1, 0, 0]) if abs(N1[0]) < abs(N1[1]) else np.array([0, 1, 0])\n",
    "            rotation_axis = np.cross(N1, perp_vector)\n",
    "            rotation_angle = np.pi\n",
    "        else:\n",
    "            # 向量重合，无需旋转\n",
    "            rotation_axis = [1, 0, 0]  # 默认轴\n",
    "            rotation_angle = 0\n",
    "    else:\n",
    "        rotation_axis = cross_product\n",
    "        rotation_angle = np.arccos(dot_product)\n",
    "    \n",
    "    # 使用scipy来构建旋转矩阵\n",
    "    rotation_matrix = Rotation.from_rotvec(rotation_axis * rotation_angle).as_matrix()\n",
    "    \n",
    "    # 创建平移矩阵以将旋转点移至原点\n",
    "    translation_to_origin = np.eye(4)\n",
    "    translation_to_origin[:3, 3] = -rotation_point\n",
    "    \n",
    "    # 创建平移矩阵以将旋转点移回其原始位置\n",
    "    translation_back = np.eye(4)\n",
    "    translation_back[:3, 3] = rotation_point\n",
    "    \n",
    "    # 创建旋转矩阵的4x4版本\n",
    "    rot_matrix_4x4 = np.eye(4)\n",
    "    rot_matrix_4x4[:3, :3] = rotation_matrix\n",
    "    \n",
    "    # 组合变换：平移到原点，旋转，然后平移回去\n",
    "    combined_transform = translation_back @ rot_matrix_4x4 @ translation_to_origin\n",
    "    \n",
    "    # 计算从P1到P2的平移向量，并将其添加到变换矩阵中\n",
    "    translation_vector = P2 - P1\n",
    "    combined_transform[:3, 3] += translation_vector\n",
    "    \n",
    "    return combined_transform"
   ]
  },
  {
   "cell_type": "code",
   "execution_count": 284,
   "metadata": {},
   "outputs": [
    {
     "data": {
      "text/plain": [
       "array([[ 0.13416383, -0.85197435, -0.50610254,  0.14925414],\n",
       "       [ 0.8081049 , -0.20153607,  0.55348865, -0.29119861],\n",
       "       [-0.57355605, -0.4832421 ,  0.66144579, -0.04039971],\n",
       "       [ 0.        ,  0.        ,  0.        ,  1.        ]])"
      ]
     },
     "execution_count": 284,
     "metadata": {},
     "output_type": "execute_result"
    }
   ],
   "source": [
    "transform_matrix =  create_rotational_transform_matrix(\n",
    "    rgbd_pin_ctr, -rgbd_pin_vector,\n",
    "    sfm_pin_ctr, sfm_pin_vector,\n",
    "    rgbd_pin_ctr\n",
    ")\n",
    "transform_matrix"
   ]
  },
  {
   "cell_type": "code",
   "execution_count": 416,
   "metadata": {},
   "outputs": [],
   "source": [
    "rgbd_pdf_pin_t = deepcopy(rgbd_pcd).transform(transform_matrix)\n",
    "o3d.visualization.draw_geometries([sfm_pcd, rgbd_pcd, rgbd_pdf_pin_t, coord_xyz], window_name=\"source\")"
   ]
  },
  {
   "cell_type": "markdown",
   "metadata": {},
   "source": [
    "# Global Registration based on pin align"
   ]
  },
  {
   "cell_type": "code",
   "execution_count": 286,
   "metadata": {},
   "outputs": [],
   "source": [
    "def preprocess_point_cloud(pcd, voxel_size):\n",
    "    print(\":: Downsample with a voxel size %.3f.\" % voxel_size)\n",
    "    pcd_down = pcd.voxel_down_sample(voxel_size)\n",
    "\n",
    "    radius_normal = voxel_size * 2\n",
    "    print(\":: Estimate normal with search radius %.3f.\" % radius_normal)\n",
    "    pcd_down.estimate_normals(\n",
    "        o3d.geometry.KDTreeSearchParamHybrid(radius=radius_normal, max_nn=30))\n",
    "\n",
    "    radius_feature = voxel_size * 5\n",
    "    print(\":: Compute FPFH feature with search radius %.3f.\" % radius_feature)\n",
    "    pcd_fpfh = o3d.pipelines.registration.compute_fpfh_feature(\n",
    "        pcd_down,\n",
    "        o3d.geometry.KDTreeSearchParamHybrid(radius=radius_feature, max_nn=100))\n",
    "    return pcd_down, pcd_fpfh"
   ]
  },
  {
   "cell_type": "code",
   "execution_count": 290,
   "metadata": {},
   "outputs": [],
   "source": [
    "voxel_size = 0.005"
   ]
  },
  {
   "cell_type": "code",
   "execution_count": 291,
   "metadata": {},
   "outputs": [
    {
     "name": "stdout",
     "output_type": "stream",
     "text": [
      ":: Downsample with a voxel size 0.005.\n",
      ":: Estimate normal with search radius 0.010.\n",
      ":: Compute FPFH feature with search radius 0.025.\n",
      ":: Downsample with a voxel size 0.005.\n",
      ":: Estimate normal with search radius 0.010.\n",
      ":: Compute FPFH feature with search radius 0.025.\n"
     ]
    }
   ],
   "source": [
    "sfm_pcd_down, sfm_pcd_fpfh = preprocess_point_cloud(sfm_pcd, voxel_size)\n",
    "rgbd_pcd_down, rgbd_pcd_fpfh = preprocess_point_cloud(rgbd_pcd, voxel_size)"
   ]
  },
  {
   "cell_type": "code",
   "execution_count": 292,
   "metadata": {},
   "outputs": [],
   "source": [
    "def execute_fast_global_registration(source_down, target_down, source_fpfh,\n",
    "                                     target_fpfh, voxel_size):\n",
    "    distance_threshold = voxel_size * 0.5\n",
    "    print(\":: Apply fast global registration with distance threshold %.3f\" \\\n",
    "            % distance_threshold)\n",
    "    result = o3d.pipelines.registration.registration_fgr_based_on_feature_matching(\n",
    "        source_down, target_down, source_fpfh, target_fpfh,\n",
    "        o3d.pipelines.registration.FastGlobalRegistrationOption(\n",
    "            maximum_correspondence_distance=distance_threshold))\n",
    "    return result"
   ]
  },
  {
   "cell_type": "code",
   "execution_count": 293,
   "metadata": {},
   "outputs": [
    {
     "name": "stdout",
     "output_type": "stream",
     "text": [
      ":: Apply fast global registration with distance threshold 0.025\n"
     ]
    }
   ],
   "source": [
    "result_fast = execute_fast_global_registration(rgbd_pcd_down, sfm_pcd_down,\n",
    "                                               rgbd_pcd_fpfh, sfm_pcd_fpfh,\n",
    "                                               voxel_size=0.05)"
   ]
  },
  {
   "cell_type": "code",
   "execution_count": 295,
   "metadata": {},
   "outputs": [],
   "source": [
    "import copy"
   ]
  },
  {
   "cell_type": "code",
   "execution_count": 304,
   "metadata": {},
   "outputs": [],
   "source": [
    "def draw_registration_result(source, target, transformation, paint_color=True):\n",
    "    source_temp = copy.deepcopy(source)\n",
    "    target_temp = copy.deepcopy(target)\n",
    "    if paint_color:\n",
    "        source_temp.paint_uniform_color([1, 0.706, 0])\n",
    "        target_temp.paint_uniform_color([0, 0.651, 0.929])\n",
    "    source_temp.transform(transformation)\n",
    "    o3d.visualization.draw_geometries([source_temp, target_temp])"
   ]
  },
  {
   "cell_type": "code",
   "execution_count": 299,
   "metadata": {},
   "outputs": [],
   "source": [
    "draw_registration_result(rgbd_pcd, sfm_pcd, result_fast.transformation)"
   ]
  },
  {
   "cell_type": "markdown",
   "metadata": {},
   "source": [
    "Seems failed\n",
    "\n",
    "----"
   ]
  },
  {
   "cell_type": "code",
   "execution_count": 300,
   "metadata": {},
   "outputs": [],
   "source": [
    "reg_p2p = o3d.pipelines.registration.registration_icp(\n",
    "    rgbd_pdf_pin_t, sfm_pcd, 0.02, np.identity(4),\n",
    "    o3d.pipelines.registration.TransformationEstimationPointToPoint(),\n",
    "    o3d.pipelines.registration.ICPConvergenceCriteria(max_iteration=2000))"
   ]
  },
  {
   "cell_type": "code",
   "execution_count": 301,
   "metadata": {},
   "outputs": [
    {
     "data": {
      "text/plain": [
       "array([[ 0.52327891,  0.03536886,  0.85142717, -0.09185744],\n",
       "       [-0.36241802,  0.91351277,  0.18479067, -0.02000405],\n",
       "       [-0.77125376, -0.40526961,  0.49084028,  0.04897734],\n",
       "       [ 0.        ,  0.        ,  0.        ,  1.        ]])"
      ]
     },
     "execution_count": 301,
     "metadata": {},
     "output_type": "execute_result"
    }
   ],
   "source": [
    "reg_p2p.transformation"
   ]
  },
  {
   "cell_type": "code",
   "execution_count": 417,
   "metadata": {},
   "outputs": [],
   "source": [
    "draw_registration_result(rgbd_pdf_pin_t, sfm_pcd, reg_p2p.transformation, paint_color=False)"
   ]
  },
  {
   "cell_type": "markdown",
   "metadata": {},
   "source": [
    "### Try downsample helps or not"
   ]
  },
  {
   "cell_type": "code",
   "execution_count": 310,
   "metadata": {},
   "outputs": [],
   "source": [
    "voxel_size=0.001"
   ]
  },
  {
   "cell_type": "code",
   "execution_count": 311,
   "metadata": {},
   "outputs": [],
   "source": [
    "sfm_pcd_down = sfm_pcd.voxel_down_sample(voxel_size)\n",
    "rgbd_pcd_down = rgbd_pdf_pin_t.voxel_down_sample(voxel_size)"
   ]
  },
  {
   "cell_type": "code",
   "execution_count": 315,
   "metadata": {},
   "outputs": [],
   "source": [
    "o3d.visualization.draw_geometries([sfm_pcd_down, rgbd_pcd_down])"
   ]
  },
  {
   "cell_type": "code",
   "execution_count": 313,
   "metadata": {},
   "outputs": [],
   "source": [
    "reg_p2p = o3d.pipelines.registration.registration_icp(\n",
    "    rgbd_pcd_down, sfm_pcd_down, 0.02, np.identity(4),\n",
    "    o3d.pipelines.registration.TransformationEstimationPointToPoint(),\n",
    "    o3d.pipelines.registration.ICPConvergenceCriteria(max_iteration=2000))"
   ]
  },
  {
   "cell_type": "code",
   "execution_count": 415,
   "metadata": {},
   "outputs": [],
   "source": [
    "draw_registration_result(rgbd_pdf_pin_t, sfm_pcd, reg_p2p.transformation, paint_color=False)"
   ]
  },
  {
   "cell_type": "markdown",
   "metadata": {},
   "source": [
    "### Try color ICP"
   ]
  },
  {
   "cell_type": "markdown",
   "metadata": {},
   "source": [
    "First step, kmeans 2 class cluster -> black and white color"
   ]
  },
  {
   "cell_type": "code",
   "execution_count": 317,
   "metadata": {},
   "outputs": [],
   "source": [
    "from sklearn.cluster import KMeans"
   ]
  },
  {
   "cell_type": "code",
   "execution_count": 318,
   "metadata": {},
   "outputs": [],
   "source": [
    "kmeans = KMeans(n_clusters=2)"
   ]
  },
  {
   "cell_type": "code",
   "execution_count": 319,
   "metadata": {},
   "outputs": [
    {
     "data": {
      "text/html": [
       "<style>#sk-container-id-1 {\n",
       "  /* Definition of color scheme common for light and dark mode */\n",
       "  --sklearn-color-text: black;\n",
       "  --sklearn-color-line: gray;\n",
       "  /* Definition of color scheme for unfitted estimators */\n",
       "  --sklearn-color-unfitted-level-0: #fff5e6;\n",
       "  --sklearn-color-unfitted-level-1: #f6e4d2;\n",
       "  --sklearn-color-unfitted-level-2: #ffe0b3;\n",
       "  --sklearn-color-unfitted-level-3: chocolate;\n",
       "  /* Definition of color scheme for fitted estimators */\n",
       "  --sklearn-color-fitted-level-0: #f0f8ff;\n",
       "  --sklearn-color-fitted-level-1: #d4ebff;\n",
       "  --sklearn-color-fitted-level-2: #b3dbfd;\n",
       "  --sklearn-color-fitted-level-3: cornflowerblue;\n",
       "\n",
       "  /* Specific color for light theme */\n",
       "  --sklearn-color-text-on-default-background: var(--sg-text-color, var(--theme-code-foreground, var(--jp-content-font-color1, black)));\n",
       "  --sklearn-color-background: var(--sg-background-color, var(--theme-background, var(--jp-layout-color0, white)));\n",
       "  --sklearn-color-border-box: var(--sg-text-color, var(--theme-code-foreground, var(--jp-content-font-color1, black)));\n",
       "  --sklearn-color-icon: #696969;\n",
       "\n",
       "  @media (prefers-color-scheme: dark) {\n",
       "    /* Redefinition of color scheme for dark theme */\n",
       "    --sklearn-color-text-on-default-background: var(--sg-text-color, var(--theme-code-foreground, var(--jp-content-font-color1, white)));\n",
       "    --sklearn-color-background: var(--sg-background-color, var(--theme-background, var(--jp-layout-color0, #111)));\n",
       "    --sklearn-color-border-box: var(--sg-text-color, var(--theme-code-foreground, var(--jp-content-font-color1, white)));\n",
       "    --sklearn-color-icon: #878787;\n",
       "  }\n",
       "}\n",
       "\n",
       "#sk-container-id-1 {\n",
       "  color: var(--sklearn-color-text);\n",
       "}\n",
       "\n",
       "#sk-container-id-1 pre {\n",
       "  padding: 0;\n",
       "}\n",
       "\n",
       "#sk-container-id-1 input.sk-hidden--visually {\n",
       "  border: 0;\n",
       "  clip: rect(1px 1px 1px 1px);\n",
       "  clip: rect(1px, 1px, 1px, 1px);\n",
       "  height: 1px;\n",
       "  margin: -1px;\n",
       "  overflow: hidden;\n",
       "  padding: 0;\n",
       "  position: absolute;\n",
       "  width: 1px;\n",
       "}\n",
       "\n",
       "#sk-container-id-1 div.sk-dashed-wrapped {\n",
       "  border: 1px dashed var(--sklearn-color-line);\n",
       "  margin: 0 0.4em 0.5em 0.4em;\n",
       "  box-sizing: border-box;\n",
       "  padding-bottom: 0.4em;\n",
       "  background-color: var(--sklearn-color-background);\n",
       "}\n",
       "\n",
       "#sk-container-id-1 div.sk-container {\n",
       "  /* jupyter's `normalize.less` sets `[hidden] { display: none; }`\n",
       "     but bootstrap.min.css set `[hidden] { display: none !important; }`\n",
       "     so we also need the `!important` here to be able to override the\n",
       "     default hidden behavior on the sphinx rendered scikit-learn.org.\n",
       "     See: https://github.com/scikit-learn/scikit-learn/issues/21755 */\n",
       "  display: inline-block !important;\n",
       "  position: relative;\n",
       "}\n",
       "\n",
       "#sk-container-id-1 div.sk-text-repr-fallback {\n",
       "  display: none;\n",
       "}\n",
       "\n",
       "div.sk-parallel-item,\n",
       "div.sk-serial,\n",
       "div.sk-item {\n",
       "  /* draw centered vertical line to link estimators */\n",
       "  background-image: linear-gradient(var(--sklearn-color-text-on-default-background), var(--sklearn-color-text-on-default-background));\n",
       "  background-size: 2px 100%;\n",
       "  background-repeat: no-repeat;\n",
       "  background-position: center center;\n",
       "}\n",
       "\n",
       "/* Parallel-specific style estimator block */\n",
       "\n",
       "#sk-container-id-1 div.sk-parallel-item::after {\n",
       "  content: \"\";\n",
       "  width: 100%;\n",
       "  border-bottom: 2px solid var(--sklearn-color-text-on-default-background);\n",
       "  flex-grow: 1;\n",
       "}\n",
       "\n",
       "#sk-container-id-1 div.sk-parallel {\n",
       "  display: flex;\n",
       "  align-items: stretch;\n",
       "  justify-content: center;\n",
       "  background-color: var(--sklearn-color-background);\n",
       "  position: relative;\n",
       "}\n",
       "\n",
       "#sk-container-id-1 div.sk-parallel-item {\n",
       "  display: flex;\n",
       "  flex-direction: column;\n",
       "}\n",
       "\n",
       "#sk-container-id-1 div.sk-parallel-item:first-child::after {\n",
       "  align-self: flex-end;\n",
       "  width: 50%;\n",
       "}\n",
       "\n",
       "#sk-container-id-1 div.sk-parallel-item:last-child::after {\n",
       "  align-self: flex-start;\n",
       "  width: 50%;\n",
       "}\n",
       "\n",
       "#sk-container-id-1 div.sk-parallel-item:only-child::after {\n",
       "  width: 0;\n",
       "}\n",
       "\n",
       "/* Serial-specific style estimator block */\n",
       "\n",
       "#sk-container-id-1 div.sk-serial {\n",
       "  display: flex;\n",
       "  flex-direction: column;\n",
       "  align-items: center;\n",
       "  background-color: var(--sklearn-color-background);\n",
       "  padding-right: 1em;\n",
       "  padding-left: 1em;\n",
       "}\n",
       "\n",
       "\n",
       "/* Toggleable style: style used for estimator/Pipeline/ColumnTransformer box that is\n",
       "clickable and can be expanded/collapsed.\n",
       "- Pipeline and ColumnTransformer use this feature and define the default style\n",
       "- Estimators will overwrite some part of the style using the `sk-estimator` class\n",
       "*/\n",
       "\n",
       "/* Pipeline and ColumnTransformer style (default) */\n",
       "\n",
       "#sk-container-id-1 div.sk-toggleable {\n",
       "  /* Default theme specific background. It is overwritten whether we have a\n",
       "  specific estimator or a Pipeline/ColumnTransformer */\n",
       "  background-color: var(--sklearn-color-background);\n",
       "}\n",
       "\n",
       "/* Toggleable label */\n",
       "#sk-container-id-1 label.sk-toggleable__label {\n",
       "  cursor: pointer;\n",
       "  display: block;\n",
       "  width: 100%;\n",
       "  margin-bottom: 0;\n",
       "  padding: 0.5em;\n",
       "  box-sizing: border-box;\n",
       "  text-align: center;\n",
       "}\n",
       "\n",
       "#sk-container-id-1 label.sk-toggleable__label-arrow:before {\n",
       "  /* Arrow on the left of the label */\n",
       "  content: \"▸\";\n",
       "  float: left;\n",
       "  margin-right: 0.25em;\n",
       "  color: var(--sklearn-color-icon);\n",
       "}\n",
       "\n",
       "#sk-container-id-1 label.sk-toggleable__label-arrow:hover:before {\n",
       "  color: var(--sklearn-color-text);\n",
       "}\n",
       "\n",
       "/* Toggleable content - dropdown */\n",
       "\n",
       "#sk-container-id-1 div.sk-toggleable__content {\n",
       "  max-height: 0;\n",
       "  max-width: 0;\n",
       "  overflow: hidden;\n",
       "  text-align: left;\n",
       "  /* unfitted */\n",
       "  background-color: var(--sklearn-color-unfitted-level-0);\n",
       "}\n",
       "\n",
       "#sk-container-id-1 div.sk-toggleable__content.fitted {\n",
       "  /* fitted */\n",
       "  background-color: var(--sklearn-color-fitted-level-0);\n",
       "}\n",
       "\n",
       "#sk-container-id-1 div.sk-toggleable__content pre {\n",
       "  margin: 0.2em;\n",
       "  border-radius: 0.25em;\n",
       "  color: var(--sklearn-color-text);\n",
       "  /* unfitted */\n",
       "  background-color: var(--sklearn-color-unfitted-level-0);\n",
       "}\n",
       "\n",
       "#sk-container-id-1 div.sk-toggleable__content.fitted pre {\n",
       "  /* unfitted */\n",
       "  background-color: var(--sklearn-color-fitted-level-0);\n",
       "}\n",
       "\n",
       "#sk-container-id-1 input.sk-toggleable__control:checked~div.sk-toggleable__content {\n",
       "  /* Expand drop-down */\n",
       "  max-height: 200px;\n",
       "  max-width: 100%;\n",
       "  overflow: auto;\n",
       "}\n",
       "\n",
       "#sk-container-id-1 input.sk-toggleable__control:checked~label.sk-toggleable__label-arrow:before {\n",
       "  content: \"▾\";\n",
       "}\n",
       "\n",
       "/* Pipeline/ColumnTransformer-specific style */\n",
       "\n",
       "#sk-container-id-1 div.sk-label input.sk-toggleable__control:checked~label.sk-toggleable__label {\n",
       "  color: var(--sklearn-color-text);\n",
       "  background-color: var(--sklearn-color-unfitted-level-2);\n",
       "}\n",
       "\n",
       "#sk-container-id-1 div.sk-label.fitted input.sk-toggleable__control:checked~label.sk-toggleable__label {\n",
       "  background-color: var(--sklearn-color-fitted-level-2);\n",
       "}\n",
       "\n",
       "/* Estimator-specific style */\n",
       "\n",
       "/* Colorize estimator box */\n",
       "#sk-container-id-1 div.sk-estimator input.sk-toggleable__control:checked~label.sk-toggleable__label {\n",
       "  /* unfitted */\n",
       "  background-color: var(--sklearn-color-unfitted-level-2);\n",
       "}\n",
       "\n",
       "#sk-container-id-1 div.sk-estimator.fitted input.sk-toggleable__control:checked~label.sk-toggleable__label {\n",
       "  /* fitted */\n",
       "  background-color: var(--sklearn-color-fitted-level-2);\n",
       "}\n",
       "\n",
       "#sk-container-id-1 div.sk-label label.sk-toggleable__label,\n",
       "#sk-container-id-1 div.sk-label label {\n",
       "  /* The background is the default theme color */\n",
       "  color: var(--sklearn-color-text-on-default-background);\n",
       "}\n",
       "\n",
       "/* On hover, darken the color of the background */\n",
       "#sk-container-id-1 div.sk-label:hover label.sk-toggleable__label {\n",
       "  color: var(--sklearn-color-text);\n",
       "  background-color: var(--sklearn-color-unfitted-level-2);\n",
       "}\n",
       "\n",
       "/* Label box, darken color on hover, fitted */\n",
       "#sk-container-id-1 div.sk-label.fitted:hover label.sk-toggleable__label.fitted {\n",
       "  color: var(--sklearn-color-text);\n",
       "  background-color: var(--sklearn-color-fitted-level-2);\n",
       "}\n",
       "\n",
       "/* Estimator label */\n",
       "\n",
       "#sk-container-id-1 div.sk-label label {\n",
       "  font-family: monospace;\n",
       "  font-weight: bold;\n",
       "  display: inline-block;\n",
       "  line-height: 1.2em;\n",
       "}\n",
       "\n",
       "#sk-container-id-1 div.sk-label-container {\n",
       "  text-align: center;\n",
       "}\n",
       "\n",
       "/* Estimator-specific */\n",
       "#sk-container-id-1 div.sk-estimator {\n",
       "  font-family: monospace;\n",
       "  border: 1px dotted var(--sklearn-color-border-box);\n",
       "  border-radius: 0.25em;\n",
       "  box-sizing: border-box;\n",
       "  margin-bottom: 0.5em;\n",
       "  /* unfitted */\n",
       "  background-color: var(--sklearn-color-unfitted-level-0);\n",
       "}\n",
       "\n",
       "#sk-container-id-1 div.sk-estimator.fitted {\n",
       "  /* fitted */\n",
       "  background-color: var(--sklearn-color-fitted-level-0);\n",
       "}\n",
       "\n",
       "/* on hover */\n",
       "#sk-container-id-1 div.sk-estimator:hover {\n",
       "  /* unfitted */\n",
       "  background-color: var(--sklearn-color-unfitted-level-2);\n",
       "}\n",
       "\n",
       "#sk-container-id-1 div.sk-estimator.fitted:hover {\n",
       "  /* fitted */\n",
       "  background-color: var(--sklearn-color-fitted-level-2);\n",
       "}\n",
       "\n",
       "/* Specification for estimator info (e.g. \"i\" and \"?\") */\n",
       "\n",
       "/* Common style for \"i\" and \"?\" */\n",
       "\n",
       ".sk-estimator-doc-link,\n",
       "a:link.sk-estimator-doc-link,\n",
       "a:visited.sk-estimator-doc-link {\n",
       "  float: right;\n",
       "  font-size: smaller;\n",
       "  line-height: 1em;\n",
       "  font-family: monospace;\n",
       "  background-color: var(--sklearn-color-background);\n",
       "  border-radius: 1em;\n",
       "  height: 1em;\n",
       "  width: 1em;\n",
       "  text-decoration: none !important;\n",
       "  margin-left: 1ex;\n",
       "  /* unfitted */\n",
       "  border: var(--sklearn-color-unfitted-level-1) 1pt solid;\n",
       "  color: var(--sklearn-color-unfitted-level-1);\n",
       "}\n",
       "\n",
       ".sk-estimator-doc-link.fitted,\n",
       "a:link.sk-estimator-doc-link.fitted,\n",
       "a:visited.sk-estimator-doc-link.fitted {\n",
       "  /* fitted */\n",
       "  border: var(--sklearn-color-fitted-level-1) 1pt solid;\n",
       "  color: var(--sklearn-color-fitted-level-1);\n",
       "}\n",
       "\n",
       "/* On hover */\n",
       "div.sk-estimator:hover .sk-estimator-doc-link:hover,\n",
       ".sk-estimator-doc-link:hover,\n",
       "div.sk-label-container:hover .sk-estimator-doc-link:hover,\n",
       ".sk-estimator-doc-link:hover {\n",
       "  /* unfitted */\n",
       "  background-color: var(--sklearn-color-unfitted-level-3);\n",
       "  color: var(--sklearn-color-background);\n",
       "  text-decoration: none;\n",
       "}\n",
       "\n",
       "div.sk-estimator.fitted:hover .sk-estimator-doc-link.fitted:hover,\n",
       ".sk-estimator-doc-link.fitted:hover,\n",
       "div.sk-label-container:hover .sk-estimator-doc-link.fitted:hover,\n",
       ".sk-estimator-doc-link.fitted:hover {\n",
       "  /* fitted */\n",
       "  background-color: var(--sklearn-color-fitted-level-3);\n",
       "  color: var(--sklearn-color-background);\n",
       "  text-decoration: none;\n",
       "}\n",
       "\n",
       "/* Span, style for the box shown on hovering the info icon */\n",
       ".sk-estimator-doc-link span {\n",
       "  display: none;\n",
       "  z-index: 9999;\n",
       "  position: relative;\n",
       "  font-weight: normal;\n",
       "  right: .2ex;\n",
       "  padding: .5ex;\n",
       "  margin: .5ex;\n",
       "  width: min-content;\n",
       "  min-width: 20ex;\n",
       "  max-width: 50ex;\n",
       "  color: var(--sklearn-color-text);\n",
       "  box-shadow: 2pt 2pt 4pt #999;\n",
       "  /* unfitted */\n",
       "  background: var(--sklearn-color-unfitted-level-0);\n",
       "  border: .5pt solid var(--sklearn-color-unfitted-level-3);\n",
       "}\n",
       "\n",
       ".sk-estimator-doc-link.fitted span {\n",
       "  /* fitted */\n",
       "  background: var(--sklearn-color-fitted-level-0);\n",
       "  border: var(--sklearn-color-fitted-level-3);\n",
       "}\n",
       "\n",
       ".sk-estimator-doc-link:hover span {\n",
       "  display: block;\n",
       "}\n",
       "\n",
       "/* \"?\"-specific style due to the `<a>` HTML tag */\n",
       "\n",
       "#sk-container-id-1 a.estimator_doc_link {\n",
       "  float: right;\n",
       "  font-size: 1rem;\n",
       "  line-height: 1em;\n",
       "  font-family: monospace;\n",
       "  background-color: var(--sklearn-color-background);\n",
       "  border-radius: 1rem;\n",
       "  height: 1rem;\n",
       "  width: 1rem;\n",
       "  text-decoration: none;\n",
       "  /* unfitted */\n",
       "  color: var(--sklearn-color-unfitted-level-1);\n",
       "  border: var(--sklearn-color-unfitted-level-1) 1pt solid;\n",
       "}\n",
       "\n",
       "#sk-container-id-1 a.estimator_doc_link.fitted {\n",
       "  /* fitted */\n",
       "  border: var(--sklearn-color-fitted-level-1) 1pt solid;\n",
       "  color: var(--sklearn-color-fitted-level-1);\n",
       "}\n",
       "\n",
       "/* On hover */\n",
       "#sk-container-id-1 a.estimator_doc_link:hover {\n",
       "  /* unfitted */\n",
       "  background-color: var(--sklearn-color-unfitted-level-3);\n",
       "  color: var(--sklearn-color-background);\n",
       "  text-decoration: none;\n",
       "}\n",
       "\n",
       "#sk-container-id-1 a.estimator_doc_link.fitted:hover {\n",
       "  /* fitted */\n",
       "  background-color: var(--sklearn-color-fitted-level-3);\n",
       "}\n",
       "</style><div id=\"sk-container-id-1\" class=\"sk-top-container\"><div class=\"sk-text-repr-fallback\"><pre>KMeans(n_clusters=2)</pre><b>In a Jupyter environment, please rerun this cell to show the HTML representation or trust the notebook. <br />On GitHub, the HTML representation is unable to render, please try loading this page with nbviewer.org.</b></div><div class=\"sk-container\" hidden><div class=\"sk-item\"><div class=\"sk-estimator fitted sk-toggleable\"><input class=\"sk-toggleable__control sk-hidden--visually\" id=\"sk-estimator-id-1\" type=\"checkbox\" checked><label for=\"sk-estimator-id-1\" class=\"sk-toggleable__label fitted sk-toggleable__label-arrow fitted\">&nbsp;&nbsp;KMeans<a class=\"sk-estimator-doc-link fitted\" rel=\"noreferrer\" target=\"_blank\" href=\"https://scikit-learn.org/1.4/modules/generated/sklearn.cluster.KMeans.html\">?<span>Documentation for KMeans</span></a><span class=\"sk-estimator-doc-link fitted\">i<span>Fitted</span></span></label><div class=\"sk-toggleable__content fitted\"><pre>KMeans(n_clusters=2)</pre></div> </div></div></div></div>"
      ],
      "text/plain": [
       "KMeans(n_clusters=2)"
      ]
     },
     "execution_count": 319,
     "metadata": {},
     "output_type": "execute_result"
    }
   ],
   "source": [
    "kmeans.fit(np.asarray(sfm_pcd.colors))"
   ]
  },
  {
   "cell_type": "code",
   "execution_count": 325,
   "metadata": {},
   "outputs": [
    {
     "data": {
      "text/plain": [
       "array([0, 1, 1, ..., 0, 0, 1], dtype=int32)"
      ]
     },
     "execution_count": 325,
     "metadata": {},
     "output_type": "execute_result"
    }
   ],
   "source": [
    "labels"
   ]
  },
  {
   "cell_type": "code",
   "execution_count": 329,
   "metadata": {},
   "outputs": [],
   "source": [
    "labels = kmeans.labels_\n",
    "\n",
    "cluster_1 = sfm_pcd.select_by_index(np.where(labels == 0)[0])\n",
    "cluster_2 = sfm_pcd.select_by_index(np.where(labels == 1)[0])"
   ]
  },
  {
   "cell_type": "code",
   "execution_count": 330,
   "metadata": {},
   "outputs": [
    {
     "data": {
      "text/plain": [
       "PointCloud with 14773 points."
      ]
     },
     "execution_count": 330,
     "metadata": {},
     "output_type": "execute_result"
    }
   ],
   "source": [
    "cluster_1.paint_uniform_color(np.array([1,0,0]))\n",
    "cluster_2.paint_uniform_color(np.array([0,0,1]))"
   ]
  },
  {
   "cell_type": "code",
   "execution_count": 331,
   "metadata": {},
   "outputs": [],
   "source": [
    "o3d.visualization.draw_geometries([cluster_1, cluster_2])"
   ]
  },
  {
   "cell_type": "markdown",
   "metadata": {},
   "source": [
    "paint uniform colors for sfm point cloud pin index"
   ]
  },
  {
   "cell_type": "code",
   "execution_count": 333,
   "metadata": {},
   "outputs": [
    {
     "data": {
      "text/plain": [
       "array([  222,   255,   474,   666,   725,   744,  2286,  2336,  2470,\n",
       "        2639,  2718,  2894,  3055,  3087,  3303,  3611,  3719,  3832,\n",
       "        3922,  4234,  4297,  4983,  5139,  5543,  5585,  5773,  5785,\n",
       "        5859,  6772,  6775,  6975,  7169,  7205,  7359,  7462,  7784,\n",
       "        7922,  7993,  8000,  8039,  8070,  8106,  8130,  8203,  8332,\n",
       "        8373,  8611,  8696,  8877,  9415,  9926, 10414, 10782, 10878,\n",
       "       10886, 11104, 11377, 11630, 12461, 12789, 12863, 12897, 12973,\n",
       "       13197, 13833, 14196, 14257, 14430, 14495, 14621, 14697, 14962,\n",
       "       14966, 15057, 15088, 15373, 15384, 15434, 15600, 15888, 16527,\n",
       "       16788, 16998, 17165, 17491, 18062, 18098, 18154, 18374, 18611,\n",
       "       19107, 19223, 19479, 19586, 19868, 19872, 19948, 19952, 20506,\n",
       "       20693, 20987, 21069, 21130, 21477, 21488, 21587, 21636, 21655,\n",
       "       22147, 22860, 23163, 23605, 23948, 24152, 24230, 24359, 24557,\n",
       "       24987, 25053, 25290, 25543, 25694, 25745, 26018, 26151, 26535,\n",
       "       26598, 27090, 27482, 27751, 27832, 27857, 27895, 27912, 28026,\n",
       "       28130, 28162, 28326, 28547, 28672, 28713, 29084, 29311, 29548,\n",
       "       29708, 29723])"
      ]
     },
     "execution_count": 333,
     "metadata": {},
     "output_type": "execute_result"
    }
   ],
   "source": [
    "sfm_pin_idx"
   ]
  },
  {
   "cell_type": "code",
   "execution_count": 340,
   "metadata": {},
   "outputs": [
    {
     "data": {
      "text/plain": [
       "PointCloud with 29854 points."
      ]
     },
     "execution_count": 340,
     "metadata": {},
     "output_type": "execute_result"
    }
   ],
   "source": [
    "sfm_potato_pcd = sfm_pcd.select_by_index(sfm_pin_idx, invert=True)\n",
    "sfm_potato_pcd.paint_uniform_color(np.array([0,0,1]))"
   ]
  },
  {
   "cell_type": "code",
   "execution_count": 342,
   "metadata": {},
   "outputs": [],
   "source": [
    "sfm_pcd_bin = sfm_potato_pcd + sfm_pin_pcd"
   ]
  },
  {
   "cell_type": "code",
   "execution_count": 346,
   "metadata": {},
   "outputs": [],
   "source": [
    "o3d.visualization.draw_geometries([sfm_pcd_bin])"
   ]
  },
  {
   "cell_type": "code",
   "execution_count": 344,
   "metadata": {},
   "outputs": [],
   "source": [
    "def paint_sfm_pcd(sfm_pcd, sfm_pin_idx):\n",
    "    potato_temp = sfm_pcd.select_by_index(sfm_pin_idx, invert=True)\n",
    "    pin_temp = sfm_pcd.select_by_index(sfm_pin_idx, invert=False)\n",
    "\n",
    "    potato_temp.paint_uniform_color(np.array([0,0,1]))\n",
    "    pin_temp.paint_uniform_color(np.array([1,0,0]))\n",
    "\n",
    "    return potato_temp + pin_temp"
   ]
  },
  {
   "cell_type": "code",
   "execution_count": 345,
   "metadata": {},
   "outputs": [],
   "source": [
    "sfm_pcd_bin = paint_sfm_pcd(sfm_pcd, sfm_pin_idx)"
   ]
  },
  {
   "cell_type": "markdown",
   "metadata": {},
   "source": [
    "paint uniform color on rgbd point cloud"
   ]
  },
  {
   "cell_type": "code",
   "execution_count": 371,
   "metadata": {},
   "outputs": [],
   "source": [
    "def paint_rgbd_pcd(rgbd_pcd, rgbd_pin_pcd):\n",
    "    rgbd_pcd_xyz = np.asarray(rgbd_pcd.points)\n",
    "    rgbd_pin_pcd_xyz = np.asarray(rgbd_pin_pcd.points)\n",
    "\n",
    "    rgbd_pin_idx = []\n",
    "\n",
    "    for p in rgbd_pin_pcd_xyz:\n",
    "        distance = rgbd_pcd_xyz - p\n",
    "\n",
    "        distance = distance.sum(axis=1)\n",
    "\n",
    "        idx_temp = np.where(distance == 0)[0]\n",
    "\n",
    "        if idx_temp:\n",
    "            rgbd_pin_idx.append(idx_temp)\n",
    "\n",
    "    potato_temp = rgbd_pcd.select_by_index(rgbd_pin_idx, invert=True)\n",
    "    pin_temp = rgbd_pcd.select_by_index(rgbd_pin_idx, invert=False)\n",
    "\n",
    "    potato_temp.paint_uniform_color(np.array([0,0,1]))\n",
    "    pin_temp.paint_uniform_color(np.array([1,0,0]))\n",
    "\n",
    "    return potato_temp + pin_temp\n"
   ]
  },
  {
   "cell_type": "code",
   "execution_count": 372,
   "metadata": {},
   "outputs": [
    {
     "name": "stderr",
     "output_type": "stream",
     "text": [
      "/tmp/ipykernel_299765/2055270350.py:17: DeprecationWarning: Conversion of an array with ndim > 0 to a scalar is deprecated, and will error in future. Ensure you extract a single element from your array before performing this operation. (Deprecated NumPy 1.25.)\n",
      "  potato_temp = rgbd_pcd.select_by_index(rgbd_pin_idx, invert=True)\n",
      "/tmp/ipykernel_299765/2055270350.py:18: DeprecationWarning: Conversion of an array with ndim > 0 to a scalar is deprecated, and will error in future. Ensure you extract a single element from your array before performing this operation. (Deprecated NumPy 1.25.)\n",
      "  pin_temp = rgbd_pcd.select_by_index(rgbd_pin_idx, invert=False)\n"
     ]
    }
   ],
   "source": [
    "rgbd_pcd_bin = paint_rgbd_pcd(rgbd_pcd, rgbd_pin_pcd)"
   ]
  },
  {
   "cell_type": "code",
   "execution_count": 373,
   "metadata": {},
   "outputs": [],
   "source": [
    "o3d.visualization.draw_geometries([rgbd_pcd_bin])"
   ]
  },
  {
   "cell_type": "code",
   "execution_count": 376,
   "metadata": {},
   "outputs": [],
   "source": [
    "rgbd_pcd_t = deepcopy(rgbd_pcd_bin).transform(transform_matrix)"
   ]
  },
  {
   "cell_type": "code",
   "execution_count": 377,
   "metadata": {},
   "outputs": [],
   "source": [
    "o3d.visualization.draw_geometries([rgbd_pcd_t])"
   ]
  },
  {
   "cell_type": "code",
   "execution_count": 382,
   "metadata": {},
   "outputs": [],
   "source": [
    "sfm_pcd_down = sfm_pcd_bin.voxel_down_sample(voxel_size)\n",
    "rgbd_pcd_down = rgbd_pcd_t.voxel_down_sample(voxel_size)\n",
    "\n",
    "sfm_pcd_down.estimate_normals(\n",
    "        o3d.geometry.KDTreeSearchParamHybrid(radius=voxel_size * 2, max_nn=30))\n",
    "rgbd_pcd_down.estimate_normals(\n",
    "        o3d.geometry.KDTreeSearchParamHybrid(radius=voxel_size * 2, max_nn=30))"
   ]
  },
  {
   "cell_type": "code",
   "execution_count": 379,
   "metadata": {},
   "outputs": [],
   "source": [
    "o3d.visualization.draw_geometries([rgbd_pcd_down, sfm_pcd_down])"
   ]
  },
  {
   "cell_type": "code",
   "execution_count": 410,
   "metadata": {},
   "outputs": [
    {
     "name": "stdout",
     "output_type": "stream",
     "text": [
      "[[ 0.26837473 -0.1088947   0.95713998 -0.10185649]\n",
      " [-0.30319514  0.93354493  0.19122386 -0.02102114]\n",
      " [-0.91435645 -0.34151984  0.21752353  0.07835135]\n",
      " [ 0.          0.          0.          1.        ]]\n"
     ]
    }
   ],
   "source": [
    "result_icp = o3d.pipelines.registration.registration_colored_icp(\n",
    "    rgbd_pcd_down, sfm_pcd_down, 0.002, np.identity(4),\n",
    "    o3d.pipelines.registration.TransformationEstimationForColoredICP(lambda_geometric=0.3), # weight of color, smaller means color more important\n",
    "    o3d.pipelines.registration.ICPConvergenceCriteria(max_iteration=2000),\n",
    "    )\n",
    "\n",
    "print(result_icp.transformation)"
   ]
  },
  {
   "cell_type": "code",
   "execution_count": 411,
   "metadata": {},
   "outputs": [],
   "source": [
    "draw_registration_result(rgbd_pcd_t, sfm_pcd, result_icp.transformation, paint_color=False)"
   ]
  },
  {
   "cell_type": "code",
   "execution_count": 413,
   "metadata": {},
   "outputs": [
    {
     "data": {
      "text/plain": [
       "array([[-0.60096558, -0.66923251,  0.43699911, -0.06875865],\n",
       "       [ 0.60404681, -0.02223592,  0.79663857, -0.34584665],\n",
       "       [-0.52341935,  0.74272028,  0.41761079,  0.03254208],\n",
       "       [ 0.        ,  0.        ,  0.        ,  1.        ]])"
      ]
     },
     "execution_count": 413,
     "metadata": {},
     "output_type": "execute_result"
    }
   ],
   "source": [
    "final_transform = result_icp.transformation @ transform_matrix\n",
    "\n",
    "final_transform"
   ]
  },
  {
   "cell_type": "code",
   "execution_count": 414,
   "metadata": {},
   "outputs": [],
   "source": [
    "draw_registration_result(rgbd_pcd, sfm_pcd, final_transform, paint_color=False)"
   ]
  },
  {
   "cell_type": "markdown",
   "metadata": {},
   "source": [
    "weakness: still have bug for the normal vector direction."
   ]
  },
  {
   "cell_type": "markdown",
   "metadata": {},
   "source": []
  }
 ],
 "metadata": {
  "kernelspec": {
   "display_name": "potatoscan",
   "language": "python",
   "name": "python3"
  },
  "language_info": {
   "codemirror_mode": {
    "name": "ipython",
    "version": 3
   },
   "file_extension": ".py",
   "mimetype": "text/x-python",
   "name": "python",
   "nbconvert_exporter": "python",
   "pygments_lexer": "ipython3",
   "version": "3.9.18"
  }
 },
 "nbformat": 4,
 "nbformat_minor": 2
}
