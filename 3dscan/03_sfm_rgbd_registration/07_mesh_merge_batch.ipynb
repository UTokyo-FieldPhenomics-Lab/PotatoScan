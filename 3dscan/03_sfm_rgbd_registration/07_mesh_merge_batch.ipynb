{
 "cells": [
  {
   "cell_type": "code",
   "execution_count": 1,
   "metadata": {},
   "outputs": [
    {
     "name": "stdout",
     "output_type": "stream",
     "text": [
      "Jupyter environment detected. Enabling Open3D WebVisualizer.\n",
      "[Open3D INFO] WebRTC GUI backend enabled.\n",
      "[Open3D INFO] WebRTCWindowSystem: HTTP handshake server disabled.\n"
     ]
    }
   ],
   "source": [
    "import pathlib\n",
    "import numpy as np\n",
    "import skimage\n",
    "import plotly.graph_objects as go\n",
    "\n",
    "from scipy.spatial import ConvexHull\n",
    "\n",
    "import matplotlib.pyplot as plt\n",
    "from matplotlib.path import Path as pltpath\n",
    "from matplotlib.gridspec import GridSpec\n",
    "from matplotlib.colors import ListedColormap\n",
    "import matplotlib.colors as mcolors\n",
    "import matplotlib.cm as mcm\n",
    "\n",
    "\n",
    "import open3d as o3d\n",
    "from copy import deepcopy"
   ]
  },
  {
   "cell_type": "code",
   "execution_count": 2,
   "metadata": {},
   "outputs": [],
   "source": [
    "from pin_segment import RgbdPinFetcher, SfMPinFetcher"
   ]
  },
  {
   "cell_type": "code",
   "execution_count": 3,
   "metadata": {},
   "outputs": [],
   "source": [
    "dataset_root = pathlib.Path(r'/home/crest/w/hwang_Pro/datasets/3DPotatoTwin')\n",
    "pin_ref_folder = pathlib.Path(r'/home/crest/Documents/Github/PotatoScan/3dscan/03_sfm_rgbd_registration/pin_ref')"
   ]
  },
  {
   "cell_type": "code",
   "execution_count": 4,
   "metadata": {},
   "outputs": [
    {
     "name": "stdout",
     "output_type": "stream",
     "text": [
      "loading annotations into memory...\n",
      "Done (t=0.19s)\n",
      "creating index...\n",
      "index created!\n"
     ]
    }
   ],
   "source": [
    "rgbd_fetcher = RgbdPinFetcher(dataset_root)\n",
    "sfm_fetcher = SfMPinFetcher(dataset_root, pin_ref_folder)"
   ]
  },
  {
   "cell_type": "code",
   "execution_count": 5,
   "metadata": {},
   "outputs": [
    {
     "name": "stdout",
     "output_type": "stream",
     "text": [
      "Thresh=0.35 get pin convex hull volumn 96018.77215018909 > 60, denoise first\n",
      "Thresh=0.3 get pin convex hull volumn 92337.85037083643 > 60, denoise first\n",
      "Thresh=0.25 get pin convex hull volumn 66611.87525249115 > 60, denoise first\n",
      "Thresh=0.2 get pin convex hull volumn 3900.371686427296 > 60, denoise first\n",
      "Stop at thresh=0.2 with hull volume = 57.303338228588636 after denoising\n"
     ]
    }
   ],
   "source": [
    "potato_id = 'R3-3'\n",
    "\n",
    "rgbd_data = rgbd_fetcher.get(potato_id, show=True)\n",
    "sfm_data = sfm_fetcher.get(potato_id, visualize=True)"
   ]
  },
  {
   "cell_type": "code",
   "execution_count": 6,
   "metadata": {},
   "outputs": [],
   "source": [
    "from pin_center import find_pin_center"
   ]
  },
  {
   "cell_type": "code",
   "execution_count": 7,
   "metadata": {},
   "outputs": [
    {
     "data": {
      "image/png": "[encoded data removed]",
      "text/plain": [
       "<Figure size 400x400 with 1 Axes>"
      ]
     },
     "metadata": {},
     "output_type": "display_data"
    }
   ],
   "source": [
    "sfm_pin_data = find_pin_center(sfm_data['pin_pcd'], circle_color=[0,0,0], show=True)\n",
    "rgbd_pin_data = find_pin_center(rgbd_data['pin_pcd'], circle_color=[0,0,0],visualize=True)"
   ]
  },
  {
   "cell_type": "markdown",
   "metadata": {},
   "source": [
    "Visualize for preprocessing rsults (frame 1)"
   ]
  },
  {
   "cell_type": "code",
   "execution_count": 8,
   "metadata": {},
   "outputs": [
    {
     "data": {
      "text/plain": [
       "dict_keys(['pin_idx', 'pcd', 'pcd_offset_colormap', 'pin_pcd_strengthen', 'pin_pcd'])"
      ]
     },
     "execution_count": 8,
     "metadata": {},
     "output_type": "execute_result"
    }
   ],
   "source": [
    "sfm_data.keys()"
   ]
  },
  {
   "cell_type": "code",
   "execution_count": 9,
   "metadata": {},
   "outputs": [
    {
     "data": {
      "text/plain": [
       "dict_keys(['pcd', 'pin_pcd', 'pin_idx'])"
      ]
     },
     "execution_count": 9,
     "metadata": {},
     "output_type": "execute_result"
    }
   ],
   "source": [
    "rgbd_data.keys()"
   ]
  },
  {
   "cell_type": "code",
   "execution_count": 10,
   "metadata": {},
   "outputs": [
    {
     "data": {
      "text/plain": [
       "dict_keys(['circle_center_3d', 'circle_radius', 'vector', 'projected_cloud', 'circle_mesh', 'vector_lineset'])"
      ]
     },
     "execution_count": 10,
     "metadata": {},
     "output_type": "execute_result"
    }
   ],
   "source": [
    "rgbd_pin_data.keys()"
   ]
  },
  {
   "cell_type": "code",
   "execution_count": 11,
   "metadata": {},
   "outputs": [],
   "source": [
    "o3d.visualization.draw_geometries([\n",
    "    #sfm & rgbd raw data\n",
    "    sfm_data['pcd'], rgbd_data['pcd'],\n",
    "    # pin segmetation result (with color strength)\n",
    "    sfm_data['pin_pcd_strengthen'], rgbd_data['pin_pcd'],\n",
    "    # sfm hsv intermediate visualization\n",
    "    sfm_data['pcd_offset_colormap'],\n",
    "    # regressed circle\n",
    "    sfm_pin_data['circle_mesh'], rgbd_pin_data['circle_mesh'],\n",
    "    # circle plane normal\n",
    "    sfm_pin_data['vector_lineset'], rgbd_pin_data['vector_lineset'], \n",
    "])"
   ]
  },
  {
   "cell_type": "code",
   "execution_count": null,
   "metadata": {},
   "outputs": [],
   "source": []
  }
 ],
 "metadata": {
  "kernelspec": {
   "display_name": "potatoscan",
   "language": "python",
   "name": "python3"
  },
  "language_info": {
   "codemirror_mode": {
    "name": "ipython",
    "version": 3
   },
   "file_extension": ".py",
   "mimetype": "text/x-python",
   "name": "python",
   "nbconvert_exporter": "python",
   "pygments_lexer": "ipython3",
   "version": "3.9.18"
  }
 },
 "nbformat": 4,
 "nbformat_minor": 2
}
