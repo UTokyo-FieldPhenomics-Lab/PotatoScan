{
 "cells": [
  {
   "cell_type": "code",
   "execution_count": 1,
   "metadata": {},
   "outputs": [
    {
     "name": "stdout",
     "output_type": "stream",
     "text": [
      "Jupyter environment detected. Enabling Open3D WebVisualizer.\n",
      "[Open3D INFO] WebRTC GUI backend enabled.\n",
      "[Open3D INFO] WebRTCWindowSystem: HTTP handshake server disabled.\n"
     ]
    }
   ],
   "source": [
    "import pathlib\n",
    "import numpy as np\n",
    "import skimage\n",
    "import plotly.graph_objects as go\n",
    "\n",
    "from scipy.spatial import ConvexHull\n",
    "\n",
    "import matplotlib.pyplot as plt\n",
    "from matplotlib.path import Path as pltpath\n",
    "from matplotlib.gridspec import GridSpec\n",
    "from matplotlib.colors import ListedColormap\n",
    "import matplotlib.colors as mcolors\n",
    "import matplotlib.cm as mcm\n",
    "\n",
    "\n",
    "import open3d as o3d\n",
    "from copy import deepcopy"
   ]
  },
  {
   "cell_type": "code",
   "execution_count": 2,
   "metadata": {},
   "outputs": [],
   "source": [
    "from pin_regions import RgbdPinFetcher, SfMPinFetcher"
   ]
  },
  {
   "cell_type": "code",
   "execution_count": 5,
   "metadata": {},
   "outputs": [],
   "source": [
    "dataset_root = pathlib.Path(r'/home/crest/w/hwang_Pro/datasets/3DPotatoTwin')\n",
    "pin_ref_folder = pathlib.Path(r'/home/crest/Documents/Github/PotatoScan/3dscan/03_sfm_rgbd_registration/pin_ref')"
   ]
  },
  {
   "cell_type": "code",
   "execution_count": 6,
   "metadata": {},
   "outputs": [
    {
     "name": "stdout",
     "output_type": "stream",
     "text": [
      "loading annotations into memory...\n",
      "Done (t=0.22s)\n",
      "creating index...\n",
      "index created!\n"
     ]
    }
   ],
   "source": [
    "rgbd_fetcher = RgbdPinFetcher(dataset_root)\n",
    "sfm_fetcher = SfMPinFetcher(dataset_root, pin_ref_folder)"
   ]
  },
  {
   "cell_type": "code",
   "execution_count": 7,
   "metadata": {},
   "outputs": [
    {
     "name": "stdout",
     "output_type": "stream",
     "text": [
      "Thresh=0.35 get pin convex hull volumn 96018.77215018909 > 60, denoise first\n",
      "Thresh=0.3 get pin convex hull volumn 92337.8503708364 > 60, denoise first\n",
      "Thresh=0.25 get pin convex hull volumn 66611.8752524912 > 60, denoise first\n",
      "Thresh=0.2 get pin convex hull volumn 3900.371686427296 > 60, denoise first\n",
      "Stop at thresh=0.2 with hull volume = 57.30333822858874 after denoising\n"
     ]
    }
   ],
   "source": [
    "potato_id = 'R3-3'\n",
    "\n",
    "rgbd_pcd, rgbd_pin_pcd = rgbd_fetcher.get(potato_id, visualize=True)\n",
    "sfm_pcd, sfm_pin_pcd, sfm_pin_idx = sfm_fetcher.get(potato_id, visualize=True)"
   ]
  },
  {
   "cell_type": "code",
   "execution_count": null,
   "metadata": {},
   "outputs": [],
   "source": []
  }
 ],
 "metadata": {
  "kernelspec": {
   "display_name": "potatoscan",
   "language": "python",
   "name": "python3"
  },
  "language_info": {
   "codemirror_mode": {
    "name": "ipython",
    "version": 3
   },
   "file_extension": ".py",
   "mimetype": "text/x-python",
   "name": "python",
   "nbconvert_exporter": "python",
   "pygments_lexer": "ipython3",
   "version": "3.9.18"
  }
 },
 "nbformat": 4,
 "nbformat_minor": 2
}
