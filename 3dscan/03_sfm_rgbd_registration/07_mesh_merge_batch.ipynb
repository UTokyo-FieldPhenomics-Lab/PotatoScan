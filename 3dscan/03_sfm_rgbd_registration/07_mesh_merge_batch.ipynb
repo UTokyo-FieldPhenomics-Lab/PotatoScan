{
 "cells": [
  {
   "cell_type": "code",
   "execution_count": 1,
   "metadata": {},
   "outputs": [
    {
     "name": "stdout",
     "output_type": "stream",
     "text": [
      "Jupyter environment detected. Enabling Open3D WebVisualizer.\n",
      "[Open3D INFO] WebRTC GUI backend enabled.\n",
      "[Open3D INFO] WebRTCWindowSystem: HTTP handshake server disabled.\n"
     ]
    }
   ],
   "source": [
    "import pathlib\n",
    "import numpy as np\n",
    "import skimage\n",
    "import plotly.graph_objects as go\n",
    "\n",
    "from scipy.spatial import ConvexHull\n",
    "\n",
    "import matplotlib.pyplot as plt\n",
    "from matplotlib.path import Path as pltpath\n",
    "from matplotlib.gridspec import GridSpec\n",
    "from matplotlib.colors import ListedColormap\n",
    "import matplotlib.colors as mcolors\n",
    "import matplotlib.cm as mcm\n",
    "\n",
    "\n",
    "import open3d as o3d\n",
    "from copy import deepcopy"
   ]
  },
  {
   "cell_type": "code",
   "execution_count": 2,
   "metadata": {},
   "outputs": [],
   "source": [
    "from pin_segment import RgbdPinFetcher, SfMPinFetcher"
   ]
  },
  {
   "cell_type": "code",
   "execution_count": 3,
   "metadata": {},
   "outputs": [],
   "source": [
    "dataset_root = pathlib.Path(r'/home/crest/w/hwang_Pro/datasets/3DPotatoTwin')\n",
    "pin_ref_folder = pathlib.Path(r'/home/crest/Documents/Github/PotatoScan/3dscan/03_sfm_rgbd_registration/pin_ref')"
   ]
  },
  {
   "cell_type": "code",
   "execution_count": 4,
   "metadata": {},
   "outputs": [
    {
     "name": "stdout",
     "output_type": "stream",
     "text": [
      "loading annotations into memory...\n",
      "Done (t=0.19s)\n",
      "creating index...\n",
      "index created!\n"
     ]
    }
   ],
   "source": [
    "rgbd_fetcher = RgbdPinFetcher(dataset_root)\n",
    "sfm_fetcher = SfMPinFetcher(dataset_root, pin_ref_folder)"
   ]
  },
  {
   "cell_type": "code",
   "execution_count": 5,
   "metadata": {},
   "outputs": [
    {
     "name": "stdout",
     "output_type": "stream",
     "text": [
      "Thresh=0.35 get pin convex hull volumn 96018.77215018909 > 60, denoise first\n",
      "Thresh=0.3 get pin convex hull volumn 92337.85037083643 > 60, denoise first\n",
      "Thresh=0.25 get pin convex hull volumn 66611.87525249115 > 60, denoise first\n",
      "Thresh=0.2 get pin convex hull volumn 3900.371686427296 > 60, denoise first\n",
      "Stop at thresh=0.2 with hull volume = 57.303338228588636 after denoising\n"
     ]
    }
   ],
   "source": [
    "potato_id = 'R3-3'\n",
    "\n",
    "rgbd_data = rgbd_fetcher.get(potato_id, show=True)\n",
    "sfm_data = sfm_fetcher.get(potato_id, visualize=True)"
   ]
  },
  {
   "cell_type": "code",
   "execution_count": 6,
   "metadata": {},
   "outputs": [],
   "source": [
    "from pin_center import find_pin_center"
   ]
  },
  {
   "cell_type": "code",
   "execution_count": 7,
   "metadata": {},
   "outputs": [
    {
     "data": {
      "image/png": "[encoded data removed]",
      "text/plain": [
       "<Figure size 400x400 with 1 Axes>"
      ]
     },
     "metadata": {},
     "output_type": "display_data"
    }
   ],
   "source": [
    "sfm_pin_data = find_pin_center(sfm_data['pin_pcd'], circle_color=[0,0,0], show=True)\n",
    "rgbd_pin_data = find_pin_center(rgbd_data['pin_pcd'], circle_color=[0,0,0],visualize=True)"
   ]
  },
  {
   "cell_type": "markdown",
   "metadata": {},
   "source": [
    "Visualize for preprocessing rsults (frame 1)"
   ]
  },
  {
   "cell_type": "code",
   "execution_count": 8,
   "metadata": {},
   "outputs": [
    {
     "data": {
      "text/plain": [
       "dict_keys(['pin_idx', 'pcd', 'pcd_offset_colormap', 'pin_pcd_strengthen', 'pin_pcd'])"
      ]
     },
     "execution_count": 8,
     "metadata": {},
     "output_type": "execute_result"
    }
   ],
   "source": [
    "sfm_data.keys()"
   ]
  },
  {
   "cell_type": "code",
   "execution_count": 9,
   "metadata": {},
   "outputs": [
    {
     "data": {
      "text/plain": [
       "dict_keys(['pcd', 'pin_pcd', 'pin_idx'])"
      ]
     },
     "execution_count": 9,
     "metadata": {},
     "output_type": "execute_result"
    }
   ],
   "source": [
    "rgbd_data.keys()"
   ]
  },
  {
   "cell_type": "code",
   "execution_count": 10,
   "metadata": {},
   "outputs": [
    {
     "data": {
      "text/plain": [
       "dict_keys(['circle_center_3d', 'circle_radius', 'vector', 'projected_cloud', 'circle_mesh', 'vector_lineset'])"
      ]
     },
     "execution_count": 10,
     "metadata": {},
     "output_type": "execute_result"
    }
   ],
   "source": [
    "rgbd_pin_data.keys()"
   ]
  },
  {
   "cell_type": "code",
   "execution_count": 11,
   "metadata": {},
   "outputs": [],
   "source": [
    "o3d.visualization.draw_geometries([\n",
    "    #sfm & rgbd raw data\n",
    "    sfm_data['pcd'], rgbd_data['pcd'],\n",
    "    # pin segmetation result (with color strength)\n",
    "    sfm_data['pin_pcd_strengthen'], rgbd_data['pin_pcd'],\n",
    "    # sfm hsv intermediate visualization\n",
    "    sfm_data['pcd_offset_colormap'],\n",
    "    # regressed circle\n",
    "    sfm_pin_data['circle_mesh'], rgbd_pin_data['circle_mesh'],\n",
    "    # circle plane normal\n",
    "    sfm_pin_data['vector_lineset'], rgbd_pin_data['vector_lineset'], \n",
    "])"
   ]
  },
  {
   "cell_type": "markdown",
   "metadata": {},
   "source": [
    "ICP Alignemnt"
   ]
  },
  {
   "cell_type": "code",
   "execution_count": 12,
   "metadata": {},
   "outputs": [],
   "source": [
    "from icp_align import correct_vector_direction"
   ]
  },
  {
   "cell_type": "code",
   "execution_count": 13,
   "metadata": {},
   "outputs": [],
   "source": [
    "sfm_pin_vector = correct_vector_direction(\n",
    "    np.asarray(sfm_data['pcd'].points), sfm_pin_data['vector'], sfm_pin_data['circle_center_3d']\n",
    ")\n",
    "\n",
    "rgbd_pin_vector = correct_vector_direction(\n",
    "    np.asarray(rgbd_data['pcd'].points), rgbd_pin_data['vector'], rgbd_pin_data['circle_center_3d']\n",
    ")"
   ]
  },
  {
   "cell_type": "code",
   "execution_count": 14,
   "metadata": {},
   "outputs": [
    {
     "data": {
      "text/plain": [
       "(array([ 0.07642455, -0.99317705,  0.08808312]),\n",
       " array([ 0.07642455, -0.99317705,  0.08808312]))"
      ]
     },
     "execution_count": 14,
     "metadata": {},
     "output_type": "execute_result"
    }
   ],
   "source": [
    "sfm_pin_data['vector'], sfm_pin_vector"
   ]
  },
  {
   "cell_type": "code",
   "execution_count": 15,
   "metadata": {},
   "outputs": [
    {
     "data": {
      "text/plain": [
       "(array([-0.83435823,  0.15978767, -0.52755497]),\n",
       " array([-0.83435823,  0.15978767, -0.52755497]))"
      ]
     },
     "execution_count": 15,
     "metadata": {},
     "output_type": "execute_result"
    }
   ],
   "source": [
    "rgbd_pin_data['vector'], rgbd_pin_vector"
   ]
  },
  {
   "cell_type": "code",
   "execution_count": 17,
   "metadata": {},
   "outputs": [],
   "source": [
    "from scipy.spatial.transform import Rotation"
   ]
  },
  {
   "cell_type": "code",
   "execution_count": 20,
   "metadata": {},
   "outputs": [],
   "source": [
    "def create_rotational_transform_matrix(P1, N1, P2, N2, rotation_point=None):\n",
    "    # 将输入向量标准化\n",
    "    N1 = N1 / np.linalg.norm(N1)\n",
    "    N2 = N2 / np.linalg.norm(N2)\n",
    "    \n",
    "    # 计算旋转轴和旋转角度\n",
    "    cross_product = np.cross(N1, N2)\n",
    "    dot_product = np.dot(N1, N2)\n",
    "\n",
    "    if rotation_point is None:\n",
    "        rotation_point = P1\n",
    "    \n",
    "    # 当两个向量平行时，叉积为零\n",
    "    if np.allclose(cross_product, 0):\n",
    "        # 如果点积为-1，向量相反，需要绕垂直于这些向量的轴旋转180度\n",
    "        if np.isclose(dot_product, -1):\n",
    "            # 选择一个与N1垂直的轴作为旋转轴\n",
    "            perp_vector = np.array([1, 0, 0]) if abs(N1[0]) < abs(N1[1]) else np.array([0, 1, 0])\n",
    "            rotation_axis = np.cross(N1, perp_vector)\n",
    "            rotation_angle = np.pi\n",
    "        else:\n",
    "            # 向量重合，无需旋转\n",
    "            rotation_axis = [1, 0, 0]  # 默认轴\n",
    "            rotation_angle = 0\n",
    "    else:\n",
    "        rotation_axis = cross_product\n",
    "        rotation_angle = np.arccos(dot_product)\n",
    "    \n",
    "    # 使用scipy来构建旋转矩阵\n",
    "    rotation_matrix = Rotation.from_rotvec(rotation_axis * rotation_angle).as_matrix()\n",
    "    \n",
    "    # 创建平移矩阵以将旋转点移至原点\n",
    "    translation_to_origin = np.eye(4)\n",
    "    translation_to_origin[:3, 3] = -rotation_point\n",
    "    \n",
    "    # 创建平移矩阵以将旋转点移回其原始位置\n",
    "    translation_back = np.eye(4)\n",
    "    translation_back[:3, 3] = rotation_point\n",
    "    \n",
    "    # 创建旋转矩阵的4x4版本\n",
    "    rot_matrix_4x4 = np.eye(4)\n",
    "    rot_matrix_4x4[:3, :3] = rotation_matrix\n",
    "    \n",
    "    # 组合变换：平移到原点，旋转，然后平移回去\n",
    "    combined_transform = translation_back @ rot_matrix_4x4 @ translation_to_origin\n",
    "    \n",
    "    # 计算从P1到P2的平移向量，并将其添加到变换矩阵中\n",
    "    translation_vector = P2 - P1\n",
    "    combined_transform[:3, 3] += translation_vector\n",
    "    \n",
    "    return combined_transform"
   ]
  },
  {
   "cell_type": "code",
   "execution_count": 49,
   "metadata": {},
   "outputs": [
    {
     "data": {
      "text/plain": [
       "array([[ 0.13416383, -0.85197435, -0.50610254,  0.14925414],\n",
       "       [ 0.8081049 , -0.20153607,  0.55348865, -0.29119861],\n",
       "       [-0.57355605, -0.4832421 ,  0.66144579, -0.04039971],\n",
       "       [ 0.        ,  0.        ,  0.        ,  1.        ]])"
      ]
     },
     "execution_count": 49,
     "metadata": {},
     "output_type": "execute_result"
    }
   ],
   "source": [
    "transform_matrix =  create_rotational_transform_matrix(\n",
    "    rgbd_pin_data['circle_center_3d'], rgbd_pin_vector,\n",
    "    sfm_pin_data['circle_center_3d'], sfm_pin_vector,\n",
    ")\n",
    "transform_matrix"
   ]
  },
  {
   "cell_type": "code",
   "execution_count": 50,
   "metadata": {},
   "outputs": [],
   "source": [
    "rgbd_pcd_pin_t = deepcopy(rgbd_data['pcd']).transform(transform_matrix)\n",
    "o3d.visualization.draw_geometries([sfm_data['pcd'], rgbd_data['pcd'], rgbd_pcd_pin_t], window_name=\"source\")"
   ]
  },
  {
   "cell_type": "code",
   "execution_count": 71,
   "metadata": {},
   "outputs": [],
   "source": [
    "def draw_registration_result(source, target, transformation, paint_color=True, offset=[0,0,0], show=False):\n",
    "    source_temp = copy.deepcopy(source)\n",
    "    target_temp = copy.deepcopy(target)\n",
    "    if paint_color:\n",
    "        source_temp.paint_uniform_color([1, 0.706, 0])\n",
    "        target_temp.paint_uniform_color([0, 0.651, 0.929])\n",
    "    source_temp.transform(transformation)\n",
    "\n",
    "    # add offsets\n",
    "    if offset != [0,0,0]:\n",
    "        xyz = np.asarray(source_temp.points) + np.array(offset)\n",
    "        source_temp.points = o3d.utility.Vector3dVector(xyz)\n",
    "\n",
    "        xyz = np.asarray(target_temp.points) + np.array(offset)\n",
    "        target_temp.points = o3d.utility.Vector3dVector(xyz)\n",
    "\n",
    "    if show:\n",
    "        o3d.visualization.draw_geometries([source_temp, target_temp])\n",
    "    else:\n",
    "        return source_temp, target_temp"
   ]
  },
  {
   "cell_type": "code",
   "execution_count": 25,
   "metadata": {},
   "outputs": [],
   "source": [
    "def paint_pcd_binary(pcd, pin_idx):\n",
    "    potato_temp = pcd.select_by_index(pin_idx, invert=True)\n",
    "    pin_temp = pcd.select_by_index(pin_idx, invert=False)\n",
    "\n",
    "    potato_temp.paint_uniform_color(np.array([0,0,1]))\n",
    "    pin_temp.paint_uniform_color(np.array([1,0,0]))\n",
    "\n",
    "    return potato_temp + pin_temp"
   ]
  },
  {
   "cell_type": "code",
   "execution_count": 66,
   "metadata": {},
   "outputs": [],
   "source": [
    "def color_based_icp(\n",
    "        source_binary_pcd, target_binary_pcd, initial_matrix, \n",
    "        voxel_size=0.001, geometry_weight=0.3, threshold=0.002\n",
    "    ):\n",
    "    \"\"\"_summary_\n",
    "\n",
    "    Parameters\n",
    "    ----------\n",
    "    source_binary_pcd : o3d.PointCloud\n",
    "        rgbd point cloud\n",
    "    target_binary_pcd : o3d.PointCloud\n",
    "        sfm point cloud\n",
    "    voxel_size : float, optional\n",
    "        the size for voxel downsampling, by default 0.001\n",
    "    color_weight : float, optional\n",
    "        the weight of color vs geometry, from 0 to 1, by default 0.7\n",
    "    threshold: float, optional\n",
    "        the distance? threshold to stop ICP align iterations, by default 0.002 (2mm)\n",
    "\n",
    "\n",
    "    Note\n",
    "    ----\n",
    "    By passing initial_matrix to `registration_colored_icp` gives a different (worse) results \n",
    "    than transforming first and then icp, and finally multiple two matrix together\n",
    "    \"\"\"\n",
    "    source_binary_pcd_t = deepcopy(source_binary_pcd).transform(initial_matrix)\n",
    "\n",
    "    source_pcd_down = source_binary_pcd_t.voxel_down_sample(voxel_size)\n",
    "    target_pcd_down = target_binary_pcd.voxel_down_sample(voxel_size)\n",
    "\n",
    "    source_pcd_down.estimate_normals(\n",
    "        o3d.geometry.KDTreeSearchParamHybrid(radius=voxel_size * 2, max_nn=30))\n",
    "    target_pcd_down.estimate_normals(\n",
    "        o3d.geometry.KDTreeSearchParamHybrid(radius=voxel_size * 2, max_nn=30))\n",
    "    \n",
    "    result_icp = o3d.pipelines.registration.registration_colored_icp(\n",
    "        source_pcd_down, target_pcd_down, threshold, np.identity(4),\n",
    "        o3d.pipelines.registration.TransformationEstimationForColoredICP(lambda_geometric=geometry_weight), # weight of color, smaller means color more important\n",
    "        o3d.pipelines.registration.ICPConvergenceCriteria(max_iteration=2000),\n",
    "    )\n",
    "    \n",
    "    return result_icp.transformation @ initial_matrix\n"
   ]
  },
  {
   "cell_type": "code",
   "execution_count": 68,
   "metadata": {},
   "outputs": [
    {
     "name": "stderr",
     "output_type": "stream",
     "text": [
      "/tmp/ipykernel_886508/2073701616.py:2: DeprecationWarning: Conversion of an array with ndim > 0 to a scalar is deprecated, and will error in future. Ensure you extract a single element from your array before performing this operation. (Deprecated NumPy 1.25.)\n",
      "  potato_temp = pcd.select_by_index(pin_idx, invert=True)\n",
      "/tmp/ipykernel_886508/2073701616.py:3: DeprecationWarning: Conversion of an array with ndim > 0 to a scalar is deprecated, and will error in future. Ensure you extract a single element from your array before performing this operation. (Deprecated NumPy 1.25.)\n",
      "  pin_temp = pcd.select_by_index(pin_idx, invert=False)\n"
     ]
    }
   ],
   "source": [
    "sfm_pcd_bin = paint_pcd_binary(sfm_data['pcd'], sfm_data['pin_idx'])\n",
    "rgbd_pcd_bin = paint_pcd_binary(rgbd_data['pcd'], rgbd_data['pin_idx'])"
   ]
  },
  {
   "cell_type": "code",
   "execution_count": 27,
   "metadata": {},
   "outputs": [],
   "source": [
    "o3d.visualization.draw_geometries([rgbd_pcd_bin, sfm_pcd_bin])"
   ]
  },
  {
   "cell_type": "code",
   "execution_count": 40,
   "metadata": {},
   "outputs": [
    {
     "data": {
      "text/plain": [
       "array([[-0.5448387 , -0.69193893,  0.47367849, -0.08895622],\n",
       "       [ 0.62928666,  0.03595177,  0.77634127, -0.34207253],\n",
       "       [-0.55421032,  0.72106032,  0.41584003,  0.0372225 ],\n",
       "       [ 0.        ,  0.        ,  0.        ,  1.        ]])"
      ]
     },
     "execution_count": 40,
     "metadata": {},
     "output_type": "execute_result"
    }
   ],
   "source": [
    "matrix = color_based_icp(rgbd_pcd_bin, sfm_pcd_bin, transform_matrix)\n",
    "matrix"
   ]
  },
  {
   "cell_type": "code",
   "execution_count": 41,
   "metadata": {},
   "outputs": [],
   "source": [
    "draw_registration_result(rgbd_data['pcd'], sfm_data['pcd'], matrix, paint_color=False)"
   ]
  },
  {
   "cell_type": "markdown",
   "metadata": {},
   "source": [
    "looks strange"
   ]
  },
  {
   "cell_type": "code",
   "execution_count": 69,
   "metadata": {},
   "outputs": [
    {
     "data": {
      "text/plain": [
       "array([[-0.60096558, -0.66923251,  0.43699911, -0.06875865],\n",
       "       [ 0.60404681, -0.02223592,  0.79663857, -0.34584665],\n",
       "       [-0.52341935,  0.74272028,  0.41761079,  0.03254208],\n",
       "       [ 0.        ,  0.        ,  0.        ,  1.        ]])"
      ]
     },
     "execution_count": 69,
     "metadata": {},
     "output_type": "execute_result"
    }
   ],
   "source": [
    "matrix = color_based_icp(rgbd_pcd_bin, sfm_pcd_bin, transform_matrix)\n",
    "matrix"
   ]
  },
  {
   "cell_type": "code",
   "execution_count": 70,
   "metadata": {},
   "outputs": [],
   "source": [
    "draw_registration_result(rgbd_data['pcd'], sfm_data['pcd'], matrix, paint_color=False)"
   ]
  },
  {
   "cell_type": "markdown",
   "metadata": {},
   "source": [
    "visualize frame 2"
   ]
  },
  {
   "cell_type": "code",
   "execution_count": 81,
   "metadata": {},
   "outputs": [],
   "source": [
    "rgbd_temp, sfm_temp = draw_registration_result(rgbd_data['pcd'], sfm_data['pcd'], matrix, paint_color=False, offset=[0.1,0,0])\n",
    "# rgbd_bin_temp, sfm_bin_temp = draw_registration_result(rgbd_pcd_bin, sfm_pcd_bin, matrix, paint_color=False, offset=[0.1,0.1,0])\n",
    "\n",
    "o3d.visualization.draw_geometries([\n",
    "    # initial alignment\n",
    "    sfm_data['pcd'], copy.deepcopy(rgbd_data['pcd']).transform(transform_matrix),\n",
    "    # after alignment\n",
    "    rgbd_temp, sfm_temp, \n",
    "    # rgbd_bin_temp, sfm_bin_temp, \n",
    "])"
   ]
  },
  {
   "cell_type": "code",
   "execution_count": null,
   "metadata": {},
   "outputs": [],
   "source": []
  }
 ],
 "metadata": {
  "kernelspec": {
   "display_name": "potatoscan",
   "language": "python",
   "name": "python3"
  },
  "language_info": {
   "codemirror_mode": {
    "name": "ipython",
    "version": 3
   },
   "file_extension": ".py",
   "mimetype": "text/x-python",
   "name": "python",
   "nbconvert_exporter": "python",
   "pygments_lexer": "ipython3",
   "version": "3.9.18"
  }
 },
 "nbformat": 4,
 "nbformat_minor": 2
}
