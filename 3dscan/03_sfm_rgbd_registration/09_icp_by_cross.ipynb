{
 "cells": [
  {
   "cell_type": "code",
   "execution_count": 1,
   "metadata": {},
   "outputs": [
    {
     "name": "stdout",
     "output_type": "stream",
     "text": [
      "Jupyter environment detected. Enabling Open3D WebVisualizer.\n",
      "[Open3D INFO] WebRTC GUI backend enabled.\n",
      "[Open3D INFO] WebRTCWindowSystem: HTTP handshake server disabled.\n"
     ]
    }
   ],
   "source": [
    "import pathlib\n",
    "\n",
    "import open3d as o3d\n",
    "import copy\n",
    "\n",
    "from pin_segment import RgbdPinFetcher, SfMPinFetcher\n",
    "import linear_algebra as util_la\n",
    "from pin_center import find_pin_center\n",
    "from icp_align import (\n",
    "    paint_pcd_binary, \n",
    "    find_pin_nbr, iter_rotation_angle,\n",
    "    color_based_icp, draw_registration_result,\n",
    ")"
   ]
  },
  {
   "cell_type": "code",
   "execution_count": 2,
   "metadata": {},
   "outputs": [
    {
     "name": "stdout",
     "output_type": "stream",
     "text": [
      "loading annotations into memory...\n",
      "Done (t=0.21s)\n",
      "creating index...\n",
      "index created!\n"
     ]
    }
   ],
   "source": [
    "dataset_root = pathlib.Path(r'/home/crest/w/hwang_Pro/datasets/3DPotatoTwin')\n",
    "pin_ref_folder = pathlib.Path(r'/home/crest/Documents/Github/PotatoScan/3dscan/03_sfm_rgbd_registration/pin_ref')\n",
    "\n",
    "rgbd_fetcher = RgbdPinFetcher(dataset_root)\n",
    "sfm_fetcher = SfMPinFetcher(dataset_root, pin_ref_folder)"
   ]
  },
  {
   "cell_type": "code",
   "execution_count": 3,
   "metadata": {},
   "outputs": [],
   "source": [
    "pid = \"R3-6\"   # the most challenging one"
   ]
  },
  {
   "cell_type": "code",
   "execution_count": 4,
   "metadata": {},
   "outputs": [
    {
     "name": "stdout",
     "output_type": "stream",
     "text": [
      ":: iterative pin segmentation of SfM point clouds\n",
      "    Stop at thresh=0.35 with hull volume = 57.188190396365265\n"
     ]
    }
   ],
   "source": [
    "rgbd_data = rgbd_fetcher.get(pid, visualize=True, show=False)\n",
    "sfm_data = sfm_fetcher.get(pid, visualize=True, show=False)"
   ]
  },
  {
   "cell_type": "code",
   "execution_count": 5,
   "metadata": {},
   "outputs": [
    {
     "name": "stdout",
     "output_type": "stream",
     "text": [
      ":: Correct pin vector direction\n",
      "   st = 0.024901174005667586 | ed = 0.014901174005667582 | min = 1.2415446172748049e-07 | max = 0.029283734496958865\n",
      "   pin vector from [ 0.61102944 -0.79132896  0.02101178] to [-0.61102944  0.79132896 -0.02101178]\n",
      ":: Correct pin vector direction\n",
      "   st = 0.25770188048842807 | ed = 0.2677018804884281 | min = 0.2548788070821822 | max = 0.29218905216898905\n",
      "   pin vector from [0.22409537 0.37634412 0.89896961] to [-0.22409537 -0.37634412 -0.89896961]\n"
     ]
    }
   ],
   "source": [
    "sfm_pin_data = find_pin_center(\n",
    "    sfm_data['pin_pcd'], sfm_data['pcd'], \n",
    "    circle_color=[0,0,0], visualize=True, show=False\n",
    ")\n",
    "rgbd_pin_data = find_pin_center(\n",
    "    rgbd_data['pin_pcd'], rgbd_data['pcd'], \n",
    "    circle_color=[0,0,0], visualize=True, show=False\n",
    ")"
   ]
  },
  {
   "cell_type": "code",
   "execution_count": 6,
   "metadata": {},
   "outputs": [
    {
     "name": "stdout",
     "output_type": "stream",
     "text": [
      "   st = 0.020949592372143482 | ed = 0.010949592372143482 | min = 4.704072875498511e-07 | max = 0.033225845158599554\n",
      "   st = 0.29863164844752965 | ed = 0.30863164844752966 | min = 0.2953650603446097 | max = 0.32104259005896396\n"
     ]
    }
   ],
   "source": [
    "search_radius = 0.03\n",
    "# find the pin neighbour of sfm\n",
    "sfm_nbr_data = find_pin_nbr(sfm_data, sfm_pin_data, search_radius, visualize=True)\n",
    "rgbd_nbr_data = find_pin_nbr(rgbd_data, rgbd_pin_data, search_radius, visualize=True)\n"
   ]
  },
  {
   "cell_type": "code",
   "execution_count": 8,
   "metadata": {},
   "outputs": [
    {
     "data": {
      "text/plain": [
       "dict_keys(['nbr_pcd', 'nbr_idx', 'nbr_radius', 'nbr_vector', 'vector_arrow'])"
      ]
     },
     "execution_count": 8,
     "metadata": {},
     "output_type": "execute_result"
    }
   ],
   "source": [
    "sfm_nbr_data.keys()"
   ]
  },
  {
   "cell_type": "code",
   "execution_count": 7,
   "metadata": {},
   "outputs": [],
   "source": [
    "o3d.visualization.draw_geometries([sfm_nbr_data['nbr_pcd']])"
   ]
  },
  {
   "cell_type": "markdown",
   "metadata": {},
   "source": [
    "Get vertex and uv"
   ]
  },
  {
   "cell_type": "code",
   "execution_count": 10,
   "metadata": {},
   "outputs": [
    {
     "data": {
      "text/plain": [
       "(array([ 0.        , -0.02654317, -0.99964767]),\n",
       " array([-0.79160787, -0.61081415,  0.01621866]))"
      ]
     },
     "execution_count": 10,
     "metadata": {},
     "output_type": "execute_result"
    }
   ],
   "source": [
    "u,v = util_la.calculate_normal_uv(sfm_pin_data['vector'])\n",
    "\n",
    "u,v"
   ]
  },
  {
   "cell_type": "markdown",
   "metadata": {},
   "source": [
    "Obtain the cross section\n",
    "\n",
    ":: input ::\n",
    "\n",
    "pcd, pin_center, pin_vector, pin_u, pin_v, buffer\n",
    "\n",
    ":: Step ::\n",
    "\n",
    "1. Calculate distance from pcd to (pin_u, pin_center) plane\n",
    "2. filter the distance by buffer threshold\n",
    "3. Get the above u_id\n",
    "4. Repeat to get the v_id\n",
    "5. Merge u_id and v_id to get the cross id -> uv_id  -> cross_pcd\n",
    "\n",
    "Redo for the rgbd -> uv_id  -> cross_pcd\n",
    "\n",
    "Then do the ICP for the cross_pcd pairs"
   ]
  },
  {
   "cell_type": "code",
   "execution_count": 11,
   "metadata": {},
   "outputs": [],
   "source": [
    "import numpy as np"
   ]
  },
  {
   "cell_type": "code",
   "execution_count": 15,
   "metadata": {},
   "outputs": [],
   "source": [
    "def point_to_plane_distance(points, plane_point, plane_normal):\n",
    "    # 计算向量点乘以及法向量的长度\n",
    "    # dot_product = np.dot(plane_normal, (points - plane_point))\n",
    "    # norm = np.linalg.norm(plane_normal)\n",
    "    # 计算距离并返回\n",
    "    #  distance = abs(dot_product) / norm\n",
    "    # 计算每个点到平面的距离\n",
    "    distances = np.abs(np.dot(points - plane_point, plane_normal)) / np.linalg.norm(plane_normal)\n",
    "    return distances"
   ]
  },
  {
   "cell_type": "code",
   "execution_count": 17,
   "metadata": {},
   "outputs": [
    {
     "data": {
      "text/plain": [
       "array([0.0004157 , 0.02178582, 0.01554094, ..., 0.00431118, 0.02203924,\n",
       "       0.01305756])"
      ]
     },
     "execution_count": 17,
     "metadata": {},
     "output_type": "execute_result"
    }
   ],
   "source": [
    "dist = point_to_plane_distance(np.asarray(sfm_nbr_data['nbr_pcd'].points), sfm_pin_data['circle_center_3d'], u)\n",
    "dist"
   ]
  },
  {
   "cell_type": "code",
   "execution_count": 18,
   "metadata": {},
   "outputs": [],
   "source": [
    "buffer = 0.0025 # 5mm buffer"
   ]
  },
  {
   "cell_type": "code",
   "execution_count": 21,
   "metadata": {},
   "outputs": [],
   "source": [
    "u_id = np.where(dist < buffer)[0]"
   ]
  },
  {
   "cell_type": "code",
   "execution_count": 22,
   "metadata": {},
   "outputs": [],
   "source": [
    "u_pcd = sfm_nbr_data['nbr_pcd'].select_by_index(u_id)"
   ]
  },
  {
   "cell_type": "code",
   "execution_count": 23,
   "metadata": {},
   "outputs": [],
   "source": [
    "o3d.visualization.draw_geometries([u_pcd])"
   ]
  },
  {
   "cell_type": "markdown",
   "metadata": {},
   "source": [
    "repeat for v_id"
   ]
  },
  {
   "cell_type": "code",
   "execution_count": 26,
   "metadata": {},
   "outputs": [],
   "source": [
    "dist_u = point_to_plane_distance(np.asarray(sfm_nbr_data['nbr_pcd'].points), sfm_pin_data['circle_center_3d'], u)\n",
    "u_id = np.where(dist_u < buffer)[0]\n",
    "dist_v = point_to_plane_distance(np.asarray(sfm_nbr_data['nbr_pcd'].points), sfm_pin_data['circle_center_3d'], v)\n",
    "v_id = np.where(dist_v < buffer)[0]\n",
    "\n",
    "uv_id = np.unique(np.concatenate((u_id, v_id),0))\n",
    "uv_pcd = sfm_nbr_data['nbr_pcd'].select_by_index(uv_id)"
   ]
  },
  {
   "cell_type": "code",
   "execution_count": 27,
   "metadata": {},
   "outputs": [],
   "source": [
    "o3d.visualization.draw_geometries([uv_pcd])"
   ]
  },
  {
   "cell_type": "code",
   "execution_count": 33,
   "metadata": {},
   "outputs": [],
   "source": [
    "def get_nbr_cross(pcd, plane_point, plane_normal, buffer):\n",
    "    points = np.asarray(pcd.points)\n",
    "    u,v = util_la.calculate_normal_uv(plane_normal)\n",
    "\n",
    "    dist_u = point_to_plane_distance(points, plane_point, u)\n",
    "    u_id = np.where(dist_u < buffer)[0]\n",
    "    dist_v = point_to_plane_distance(points, plane_point, v)\n",
    "    v_id = np.where(dist_v < buffer)[0]\n",
    "\n",
    "    uv_id = np.unique(np.concatenate((u_id, v_id),0))\n",
    "    uv_pcd = pcd.select_by_index(uv_id)\n",
    "    return uv_pcd, uv_id"
   ]
  },
  {
   "cell_type": "code",
   "execution_count": 37,
   "metadata": {},
   "outputs": [],
   "source": [
    "sfm_nbr_cross_pcd, sfm_uv_id = get_nbr_cross(\n",
    "    sfm_nbr_data['nbr_pcd'], \n",
    "    sfm_pin_data['circle_center_3d'],\n",
    "    sfm_pin_data['vector'],\n",
    "    buffer=0.001\n",
    ")"
   ]
  },
  {
   "cell_type": "code",
   "execution_count": 35,
   "metadata": {},
   "outputs": [],
   "source": [
    "o3d.visualization.draw_geometries([sfm_nbr_cross_pcd])"
   ]
  },
  {
   "cell_type": "markdown",
   "metadata": {},
   "source": [
    "repeat for rgbd_pcd"
   ]
  },
  {
   "cell_type": "code",
   "execution_count": 38,
   "metadata": {},
   "outputs": [],
   "source": [
    "rgbd_nbr_cross_pcd, rgbd_uv_id = get_nbr_cross(\n",
    "    rgbd_nbr_data['nbr_pcd'], \n",
    "    rgbd_pin_data['circle_center_3d'],\n",
    "    rgbd_pin_data['vector'],\n",
    "    buffer=0.001\n",
    ")"
   ]
  },
  {
   "cell_type": "code",
   "execution_count": 41,
   "metadata": {},
   "outputs": [],
   "source": [
    "o3d.visualization.draw_geometries([sfm_nbr_cross_pcd, rgbd_nbr_cross_pcd])"
   ]
  },
  {
   "cell_type": "markdown",
   "metadata": {},
   "source": [
    "Redo for the pin_matched pcd"
   ]
  },
  {
   "cell_type": "code",
   "execution_count": 42,
   "metadata": {},
   "outputs": [],
   "source": [
    "imatrix =  util_la.create_rotational_transform_matrix(\n",
    "    rgbd_pin_data['circle_center_3d'], rgbd_pin_data['vector'],\n",
    "    sfm_pin_data['circle_center_3d'], sfm_pin_data['vector'],\n",
    ")"
   ]
  },
  {
   "cell_type": "code",
   "execution_count": 43,
   "metadata": {},
   "outputs": [
    {
     "name": "stdout",
     "output_type": "stream",
     "text": [
      ":: Correct pin vector direction\n",
      "   st = 0.02490117400566914 | ed = 0.014901174005669137 | min = 1.5968594014028825e-06 | max = 0.027724247411914746\n",
      "   pin vector from [ 0.61102944 -0.79132896  0.02101178] to [-0.61102944  0.79132896 -0.02101178]\n",
      "   st = 0.02124887758114945 | ed = 0.03124887758114945 | min = 2.8272586289875354e-07 | max = 0.024529412427149757\n"
     ]
    }
   ],
   "source": [
    "rgbd_data_it = {}\n",
    "rgbd_data_it['pcd'] = copy.deepcopy(rgbd_data['pcd']).transform(imatrix)\n",
    "rgbd_data_it['pin_idx'] = rgbd_data['pin_idx']\n",
    "rgbd_data_it['pin_pcd'] = rgbd_data_it['pcd'].select_by_index(rgbd_data['pin_idx'])\n",
    "\n",
    "rgbd_pin_data_it = find_pin_center(\n",
    "    rgbd_data_it['pin_pcd'], rgbd_data_it['pcd'], \n",
    "    circle_color=[0,0,0], visualize=True, show=False\n",
    ")\n",
    "# find the pin neighbor of rgbd\n",
    "rgbd_nbr_data_it = find_pin_nbr(rgbd_data_it, rgbd_pin_data_it, radius= search_radius)"
   ]
  },
  {
   "cell_type": "code",
   "execution_count": 44,
   "metadata": {},
   "outputs": [],
   "source": [
    "rgbd_nbr_cross_pcd, rgbd_uv_id = get_nbr_cross(\n",
    "    rgbd_nbr_data_it['nbr_pcd'], \n",
    "    rgbd_pin_data_it['circle_center_3d'],\n",
    "    rgbd_pin_data_it['vector'],\n",
    "    buffer=0.001\n",
    ")"
   ]
  },
  {
   "cell_type": "code",
   "execution_count": 45,
   "metadata": {},
   "outputs": [],
   "source": [
    "o3d.visualization.draw_geometries([sfm_nbr_cross_pcd, rgbd_nbr_cross_pcd])"
   ]
  },
  {
   "cell_type": "markdown",
   "metadata": {},
   "source": [
    "DO ICP?"
   ]
  },
  {
   "cell_type": "code",
   "execution_count": 64,
   "metadata": {},
   "outputs": [],
   "source": [
    "def shape_based_icp(\n",
    "        source_binary_pcd, target_binary_pcd, initial_matrix=np.eye(4), \n",
    "        voxel_size=0.001, threshold=0.002, max_iter=2000\n",
    "    ):\n",
    "    \"\"\"_summary_\n",
    "\n",
    "    Parameters\n",
    "    ----------\n",
    "    source_binary_pcd : o3d.PointCloud\n",
    "        rgbd point cloud\n",
    "    target_binary_pcd : o3d.PointCloud\n",
    "        sfm point cloud\n",
    "    voxel_size : float, optional\n",
    "        the size for voxel downsampling, by default 0.001\n",
    "    color_weight : float, optional\n",
    "        the weight of color vs geometry, from 0 to 1, by default 0.7\n",
    "    threshold: float, optional\n",
    "        the distance? threshold to stop ICP align iterations, by default 0.002 (2mm)\n",
    "\n",
    "\n",
    "    Note\n",
    "    ----\n",
    "    By passing initial_matrix to `registration_colored_icp` gives a different (worse) results \n",
    "    than transforming first and then icp, and finally multiple two matrix together\n",
    "    \"\"\"\n",
    "    source_binary_pcd_t = copy.deepcopy(source_binary_pcd).transform(initial_matrix)\n",
    "\n",
    "    source_pcd_down = source_binary_pcd_t.voxel_down_sample(voxel_size)\n",
    "    target_pcd_down = target_binary_pcd.voxel_down_sample(voxel_size)\n",
    "\n",
    "    source_pcd_down.estimate_normals(\n",
    "        o3d.geometry.KDTreeSearchParamHybrid(radius=voxel_size * 2, max_nn=30))\n",
    "    target_pcd_down.estimate_normals(\n",
    "        o3d.geometry.KDTreeSearchParamHybrid(radius=voxel_size * 2, max_nn=30))\n",
    "    \n",
    "    result_icp = o3d.pipelines.registration.registration_icp(\n",
    "        source_pcd_down, target_pcd_down, threshold, initial_matrix,\n",
    "    o3d.pipelines.registration.TransformationEstimationPointToPoint())\n",
    "    \n",
    "    return result_icp"
   ]
  },
  {
   "cell_type": "code",
   "execution_count": 65,
   "metadata": {},
   "outputs": [
    {
     "name": "stdout",
     "output_type": "stream",
     "text": [
      "0.6590038314176245 0.0010250523844085064 [[ 9.89819712e-01  1.42324730e-01 -7.80646665e-04 -3.68209436e-03]\n",
      " [-1.41838869e-01  9.86864855e-01  7.73271865e-02 -8.63406366e-03]\n",
      " [ 1.17759637e-02 -7.64292474e-02  9.97005465e-01  2.42869892e-03]\n",
      " [ 0.00000000e+00  0.00000000e+00  0.00000000e+00  1.00000000e+00]]\n"
     ]
    }
   ],
   "source": [
    "result_icp = shape_based_icp(rgbd_nbr_cross_pcd, sfm_nbr_cross_pcd, )\n",
    "\n",
    "print(result_icp.fitness, result_icp.inlier_rmse, result_icp.transformation)"
   ]
  },
  {
   "cell_type": "code",
   "execution_count": 50,
   "metadata": {},
   "outputs": [],
   "source": [
    "from icp_align import draw_registration_result"
   ]
  },
  {
   "cell_type": "code",
   "execution_count": 66,
   "metadata": {},
   "outputs": [],
   "source": [
    "draw_registration_result(rgbd_nbr_cross_pcd, sfm_nbr_cross_pcd, result_icp.transformation, show=True)"
   ]
  },
  {
   "cell_type": "markdown",
   "metadata": {},
   "source": [
    "Rotate the rgbd_pin by x degrees"
   ]
  },
  {
   "cell_type": "code",
   "execution_count": 104,
   "metadata": {},
   "outputs": [
    {
     "name": "stdout",
     "output_type": "stream",
     "text": [
      "- Rotate 10 | RMSE=0.0009641531671149884\n",
      "- Rotate 20 | RMSE=0.0009339566691478299\n",
      "- Rotate 30 | RMSE=0.0009793902784339904\n",
      "- Rotate 40 | RMSE=0.0009262592182669283\n",
      "- Rotate 50 | RMSE=0.0010974628749871457\n",
      "- Rotate 60 | RMSE=0.0009524177526895619\n",
      "- Rotate 70 | RMSE=0.000849496977301255\n",
      "- Rotate 80 | RMSE=0.0008519435061266378\n",
      "- Rotate 90 | RMSE=0.0009204830922290697\n",
      "- Rotate 100 | RMSE=0.001045573535726833\n",
      "- Rotate 110 | RMSE=0.0011096187338223516\n",
      "- Rotate 120 | RMSE=0.0010703923111362822\n",
      "- Rotate 130 | RMSE=0.0010267566420141942\n",
      "- Rotate 140 | RMSE=0.0011244488665634325\n",
      "- Rotate 150 | RMSE=0.001010245501644322\n",
      "- Rotate 160 | RMSE=0.0010969555557217906\n",
      "- Rotate 170 | RMSE=0.0009555370266250391\n",
      "- Rotate 180 | RMSE=0.0009272736825653074\n",
      "- Rotate 190 | RMSE=0.0009054446384633061\n",
      "- Rotate 200 | RMSE=0.0009171453007197165\n",
      "- Rotate 210 | RMSE=0.0010178285211603732\n",
      "- Rotate 220 | RMSE=0.0008302129371823055\n",
      "- Rotate 230 | RMSE=0.0008861597236813509\n",
      "- Rotate 240 | RMSE=0.000885183996859965\n",
      "- Rotate 250 | RMSE=0.0009451776747253159\n",
      "- Rotate 260 | RMSE=0.0010485059720492028\n",
      "- Rotate 270 | RMSE=0.001148645152899635\n",
      "- Rotate 280 | RMSE=0.000994822308215825\n",
      "- Rotate 290 | RMSE=0.0009616197046943927\n",
      "- Rotate 300 | RMSE=0.000959516791092721\n",
      "- Rotate 310 | RMSE=0.0010037373844685223\n",
      "- Rotate 320 | RMSE=0.0011136383855766048\n",
      "- Rotate 330 | RMSE=0.0010173238021165085\n",
      "- Rotate 340 | RMSE=0.001029803512535816\n",
      "- Rotate 350 | RMSE=0.0010253743293531052\n"
     ]
    }
   ],
   "source": [
    "rotate_point, rotate_axis = rgbd_pin_data_it['circle_center_3d'], rgbd_pin_data_it['vector']\n",
    "source_pcd = rgbd_nbr_data_it['nbr_pcd']\n",
    "\n",
    "rmses = []\n",
    "angles = []\n",
    "matrix = []\n",
    "\n",
    "for angle in range(1, 36):\n",
    "\n",
    "    rot_matrix = util_la.rotation_matrix_around_vector(rotate_axis, rotate_point, angle*10)\n",
    "    # rgbd -> to rotate\n",
    "    source_rot_vector_pcd = copy.deepcopy(source_pcd).transform(rot_matrix)\n",
    "    # source_rot_vector_pcd.paint_uniform_color([1,0,0])\n",
    "\n",
    "    rgbd_nbr_cross_pcd, rgbd_uv_id = get_nbr_cross(\n",
    "        source_rot_vector_pcd, \n",
    "        rgbd_pin_data_it['circle_center_3d'],\n",
    "        rgbd_pin_data_it['vector'],\n",
    "        buffer=0.001\n",
    "    )\n",
    "\n",
    "    result_icp = shape_based_icp(rgbd_nbr_cross_pcd, sfm_nbr_cross_pcd)\n",
    "\n",
    "    rmses.append(result_icp.inlier_rmse)\n",
    "    matrix.append(result_icp.transformation)\n",
    "    angles.append(angle * 10)\n",
    "\n",
    "    print(f\"- Rotate {angle * 10} | RMSE={result_icp.inlier_rmse}\")\n",
    "\n",
    "    # draw_registration_result(rgbd_nbr_cross_pcd, sfm_nbr_cross_pcd, result_icp.transformation, show=True)"
   ]
  },
  {
   "cell_type": "code",
   "execution_count": 94,
   "metadata": {},
   "outputs": [],
   "source": [
    "angles = np.asarray(angles)\n",
    "rmses = np.asarray(rmses)\n",
    "\n",
    "# find the minimum values\n",
    "best_angle = angles[np.argmin(rmses)]\n",
    "best_rot_matrix = matrix[np.argmin(rmses)]"
   ]
  },
  {
   "cell_type": "code",
   "execution_count": 73,
   "metadata": {},
   "outputs": [],
   "source": [
    "import matplotlib.pyplot as plt"
   ]
  },
  {
   "cell_type": "code",
   "execution_count": 95,
   "metadata": {},
   "outputs": [
    {
     "data": {
      "text/plain": [
       "220"
      ]
     },
     "execution_count": 95,
     "metadata": {},
     "output_type": "execute_result"
    },
    {
     "data": {
      "image/png": "[encoded data removed]",
      "text/plain": [
       "<Figure size 640x480 with 1 Axes>"
      ]
     },
     "metadata": {},
     "output_type": "display_data"
    }
   ],
   "source": [
    "plt.plot(angles, rmses)\n",
    "best_angle"
   ]
  },
  {
   "cell_type": "code",
   "execution_count": 99,
   "metadata": {},
   "outputs": [
    {
     "data": {
      "text/plain": [
       "(70, 0.0008494969773012541)"
      ]
     },
     "execution_count": 99,
     "metadata": {},
     "output_type": "execute_result"
    }
   ],
   "source": [
    "best_angle = angles[6]\n",
    "best_rot_matrix = matrix[6]\n",
    "rmse = rmses[6]\n",
    "\n",
    "best_angle, rmse"
   ]
  },
  {
   "cell_type": "code",
   "execution_count": 102,
   "metadata": {},
   "outputs": [],
   "source": [
    "rot_matrix = util_la.rotation_matrix_around_vector(rotate_axis, rotate_point, best_angle)\n",
    "# rgbd -> to rotate\n",
    "# source_rot_vector_pcd = copy.deepcopy(source_pcd).transform(best_rot_matrix @ rot_matrix)\n",
    "# source_rot_vector_pcd = copy.deepcopy(source_pcd).transform(best_rot_matrix)\n",
    "source_rot_vector_pcd = copy.deepcopy(source_pcd).transform(rot_matrix)"
   ]
  },
  {
   "cell_type": "code",
   "execution_count": 103,
   "metadata": {},
   "outputs": [],
   "source": [
    "o3d.visualization.draw_geometries([sfm_data['pcd'], source_rot_vector_pcd])"
   ]
  },
  {
   "cell_type": "code",
   "execution_count": null,
   "metadata": {},
   "outputs": [],
   "source": []
  }
 ],
 "metadata": {
  "kernelspec": {
   "display_name": "potatoscan",
   "language": "python",
   "name": "python3"
  },
  "language_info": {
   "codemirror_mode": {
    "name": "ipython",
    "version": 3
   },
   "file_extension": ".py",
   "mimetype": "text/x-python",
   "name": "python",
   "nbconvert_exporter": "python",
   "pygments_lexer": "ipython3",
   "version": "3.9.18"
  }
 },
 "nbformat": 4,
 "nbformat_minor": 2
}
