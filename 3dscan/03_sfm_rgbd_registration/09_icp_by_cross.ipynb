{
 "cells": [
  {
   "cell_type": "code",
   "execution_count": 1,
   "metadata": {},
   "outputs": [
    {
     "name": "stdout",
     "output_type": "stream",
     "text": [
      "Jupyter environment detected. Enabling Open3D WebVisualizer.\n",
      "[Open3D INFO] WebRTC GUI backend enabled.\n",
      "[Open3D INFO] WebRTCWindowSystem: HTTP handshake server disabled.\n"
     ]
    }
   ],
   "source": [
    "import pathlib\n",
    "\n",
    "import open3d as o3d\n",
    "import copy\n",
    "\n",
    "from pin_segment import RgbdPinFetcher, SfMPinFetcher\n",
    "import linear_algebra as util_la\n",
    "from pin_center import find_pin_center\n",
    "from icp_align import (\n",
    "    paint_pcd_binary, \n",
    "    find_pin_nbr, iter_rotation_angle,\n",
    "    color_based_icp, draw_registration_result,\n",
    ")"
   ]
  },
  {
   "cell_type": "code",
   "execution_count": 2,
   "metadata": {},
   "outputs": [
    {
     "name": "stdout",
     "output_type": "stream",
     "text": [
      "loading annotations into memory...\n",
      "Done (t=0.21s)\n",
      "creating index...\n",
      "index created!\n"
     ]
    }
   ],
   "source": [
    "dataset_root = pathlib.Path(r'/home/crest/w/hwang_Pro/datasets/3DPotatoTwin')\n",
    "pin_ref_folder = pathlib.Path(r'/home/crest/Documents/Github/PotatoScan/3dscan/03_sfm_rgbd_registration/pin_ref')\n",
    "\n",
    "rgbd_fetcher = RgbdPinFetcher(dataset_root)\n",
    "sfm_fetcher = SfMPinFetcher(dataset_root, pin_ref_folder)"
   ]
  },
  {
   "cell_type": "code",
   "execution_count": 3,
   "metadata": {},
   "outputs": [],
   "source": [
    "pid = \"R3-6\"   # the most challenging one"
   ]
  },
  {
   "cell_type": "code",
   "execution_count": 4,
   "metadata": {},
   "outputs": [
    {
     "name": "stdout",
     "output_type": "stream",
     "text": [
      ":: iterative pin segmentation of SfM point clouds\n",
      "    Stop at thresh=0.35 with hull volume = 57.188190396365265\n"
     ]
    }
   ],
   "source": [
    "rgbd_data = rgbd_fetcher.get(pid, visualize=True, show=False)\n",
    "sfm_data = sfm_fetcher.get(pid, visualize=True, show=False)"
   ]
  },
  {
   "cell_type": "code",
   "execution_count": 5,
   "metadata": {},
   "outputs": [
    {
     "name": "stdout",
     "output_type": "stream",
     "text": [
      ":: Correct pin vector direction\n",
      "   st = 0.024901174005667586 | ed = 0.014901174005667582 | min = 1.2415446172748049e-07 | max = 0.029283734496958865\n",
      "   pin vector from [ 0.61102944 -0.79132896  0.02101178] to [-0.61102944  0.79132896 -0.02101178]\n",
      ":: Correct pin vector direction\n",
      "   st = 0.25770188048842807 | ed = 0.2677018804884281 | min = 0.2548788070821822 | max = 0.29218905216898905\n",
      "   pin vector from [0.22409537 0.37634412 0.89896961] to [-0.22409537 -0.37634412 -0.89896961]\n"
     ]
    }
   ],
   "source": [
    "sfm_pin_data = find_pin_center(\n",
    "    sfm_data['pin_pcd'], sfm_data['pcd'], \n",
    "    circle_color=[0,0,0], visualize=True, show=False\n",
    ")\n",
    "rgbd_pin_data = find_pin_center(\n",
    "    rgbd_data['pin_pcd'], rgbd_data['pcd'], \n",
    "    circle_color=[0,0,0], visualize=True, show=False\n",
    ")"
   ]
  },
  {
   "cell_type": "code",
   "execution_count": 6,
   "metadata": {},
   "outputs": [
    {
     "name": "stdout",
     "output_type": "stream",
     "text": [
      "   st = 0.020949592372143482 | ed = 0.010949592372143482 | min = 4.704072875498511e-07 | max = 0.033225845158599554\n",
      "   st = 0.29863164844752965 | ed = 0.30863164844752966 | min = 0.2953650603446097 | max = 0.32104259005896396\n"
     ]
    }
   ],
   "source": [
    "search_radius = 0.03\n",
    "# find the pin neighbour of sfm\n",
    "sfm_nbr_data = find_pin_nbr(sfm_data, sfm_pin_data, search_radius, visualize=True)\n",
    "rgbd_nbr_data = find_pin_nbr(rgbd_data, rgbd_pin_data, search_radius, visualize=True)\n"
   ]
  },
  {
   "cell_type": "code",
   "execution_count": 8,
   "metadata": {},
   "outputs": [
    {
     "data": {
      "text/plain": [
       "dict_keys(['nbr_pcd', 'nbr_idx', 'nbr_radius', 'nbr_vector', 'vector_arrow'])"
      ]
     },
     "execution_count": 8,
     "metadata": {},
     "output_type": "execute_result"
    }
   ],
   "source": [
    "sfm_nbr_data.keys()"
   ]
  },
  {
   "cell_type": "code",
   "execution_count": 7,
   "metadata": {},
   "outputs": [],
   "source": [
    "o3d.visualization.draw_geometries([sfm_nbr_data['nbr_pcd']])"
   ]
  },
  {
   "cell_type": "markdown",
   "metadata": {},
   "source": [
    "Get vertex and uv"
   ]
  },
  {
   "cell_type": "code",
   "execution_count": 10,
   "metadata": {},
   "outputs": [
    {
     "data": {
      "text/plain": [
       "(array([ 0.        , -0.02654317, -0.99964767]),\n",
       " array([-0.79160787, -0.61081415,  0.01621866]))"
      ]
     },
     "execution_count": 10,
     "metadata": {},
     "output_type": "execute_result"
    }
   ],
   "source": [
    "u,v = util_la.calculate_normal_uv(sfm_pin_data['vector'])\n",
    "\n",
    "u,v"
   ]
  },
  {
   "cell_type": "markdown",
   "metadata": {},
   "source": [
    "Obtain the cross section\n",
    "\n",
    ":: input ::\n",
    "\n",
    "pcd, pin_center, pin_vector, pin_u, pin_v, buffer\n",
    "\n",
    ":: Step ::\n",
    "\n",
    "1. Calculate distance from pcd to (pin_u, pin_center) plane\n",
    "2. filter the distance by buffer threshold\n",
    "3. Get the above u_id\n",
    "4. Repeat to get the v_id\n",
    "5. Merge u_id and v_id to get the cross id -> uv_id  -> cross_pcd\n",
    "\n",
    "Redo for the rgbd -> uv_id  -> cross_pcd\n",
    "\n",
    "Then do the ICP for the cross_pcd pairs"
   ]
  },
  {
   "cell_type": "code",
   "execution_count": 11,
   "metadata": {},
   "outputs": [],
   "source": [
    "import numpy as np"
   ]
  },
  {
   "cell_type": "code",
   "execution_count": 15,
   "metadata": {},
   "outputs": [],
   "source": [
    "def point_to_plane_distance(points, plane_point, plane_normal):\n",
    "    # 计算向量点乘以及法向量的长度\n",
    "    # dot_product = np.dot(plane_normal, (points - plane_point))\n",
    "    # norm = np.linalg.norm(plane_normal)\n",
    "    # 计算距离并返回\n",
    "    #  distance = abs(dot_product) / norm\n",
    "    # 计算每个点到平面的距离\n",
    "    distances = np.abs(np.dot(points - plane_point, plane_normal)) / np.linalg.norm(plane_normal)\n",
    "    return distances"
   ]
  },
  {
   "cell_type": "code",
   "execution_count": 17,
   "metadata": {},
   "outputs": [
    {
     "data": {
      "text/plain": [
       "array([0.0004157 , 0.02178582, 0.01554094, ..., 0.00431118, 0.02203924,\n",
       "       0.01305756])"
      ]
     },
     "execution_count": 17,
     "metadata": {},
     "output_type": "execute_result"
    }
   ],
   "source": [
    "dist = point_to_plane_distance(np.asarray(sfm_nbr_data['nbr_pcd'].points), sfm_pin_data['circle_center_3d'], u)\n",
    "dist"
   ]
  },
  {
   "cell_type": "code",
   "execution_count": 18,
   "metadata": {},
   "outputs": [],
   "source": [
    "buffer = 0.0025 # 5mm buffer"
   ]
  },
  {
   "cell_type": "code",
   "execution_count": 21,
   "metadata": {},
   "outputs": [],
   "source": [
    "u_id = np.where(dist < buffer)[0]"
   ]
  },
  {
   "cell_type": "code",
   "execution_count": 22,
   "metadata": {},
   "outputs": [],
   "source": [
    "u_pcd = sfm_nbr_data['nbr_pcd'].select_by_index(u_id)"
   ]
  },
  {
   "cell_type": "code",
   "execution_count": 23,
   "metadata": {},
   "outputs": [],
   "source": [
    "o3d.visualization.draw_geometries([u_pcd])"
   ]
  },
  {
   "cell_type": "markdown",
   "metadata": {},
   "source": [
    "repeat for v_id"
   ]
  },
  {
   "cell_type": "code",
   "execution_count": 26,
   "metadata": {},
   "outputs": [],
   "source": [
    "dist_u = point_to_plane_distance(np.asarray(sfm_nbr_data['nbr_pcd'].points), sfm_pin_data['circle_center_3d'], u)\n",
    "u_id = np.where(dist_u < buffer)[0]\n",
    "dist_v = point_to_plane_distance(np.asarray(sfm_nbr_data['nbr_pcd'].points), sfm_pin_data['circle_center_3d'], v)\n",
    "v_id = np.where(dist_v < buffer)[0]\n",
    "\n",
    "uv_id = np.unique(np.concatenate((u_id, v_id),0))\n",
    "uv_pcd = sfm_nbr_data['nbr_pcd'].select_by_index(uv_id)"
   ]
  },
  {
   "cell_type": "code",
   "execution_count": 27,
   "metadata": {},
   "outputs": [],
   "source": [
    "o3d.visualization.draw_geometries([uv_pcd])"
   ]
  },
  {
   "cell_type": "code",
   "execution_count": 33,
   "metadata": {},
   "outputs": [],
   "source": [
    "def get_nbr_cross(pcd, plane_point, plane_normal, buffer):\n",
    "    points = np.asarray(pcd.points)\n",
    "    u,v = util_la.calculate_normal_uv(plane_normal)\n",
    "\n",
    "    dist_u = point_to_plane_distance(points, plane_point, u)\n",
    "    u_id = np.where(dist_u < buffer)[0]\n",
    "    dist_v = point_to_plane_distance(points, plane_point, v)\n",
    "    v_id = np.where(dist_v < buffer)[0]\n",
    "\n",
    "    uv_id = np.unique(np.concatenate((u_id, v_id),0))\n",
    "    uv_pcd = pcd.select_by_index(uv_id)\n",
    "    return uv_pcd, uv_id"
   ]
  },
  {
   "cell_type": "code",
   "execution_count": 37,
   "metadata": {},
   "outputs": [],
   "source": [
    "sfm_nbr_cross_pcd, sfm_uv_id = get_nbr_cross(\n",
    "    sfm_nbr_data['nbr_pcd'], \n",
    "    sfm_pin_data['circle_center_3d'],\n",
    "    sfm_pin_data['vector'],\n",
    "    buffer=0.001\n",
    ")"
   ]
  },
  {
   "cell_type": "code",
   "execution_count": 35,
   "metadata": {},
   "outputs": [],
   "source": [
    "o3d.visualization.draw_geometries([sfm_nbr_cross_pcd])"
   ]
  },
  {
   "cell_type": "markdown",
   "metadata": {},
   "source": [
    "repeat for rgbd_pcd"
   ]
  },
  {
   "cell_type": "code",
   "execution_count": 38,
   "metadata": {},
   "outputs": [],
   "source": [
    "rgbd_nbr_cross_pcd, rgbd_uv_id = get_nbr_cross(\n",
    "    rgbd_nbr_data['nbr_pcd'], \n",
    "    rgbd_pin_data['circle_center_3d'],\n",
    "    rgbd_pin_data['vector'],\n",
    "    buffer=0.001\n",
    ")"
   ]
  },
  {
   "cell_type": "code",
   "execution_count": 41,
   "metadata": {},
   "outputs": [],
   "source": [
    "o3d.visualization.draw_geometries([sfm_nbr_cross_pcd, rgbd_nbr_cross_pcd])"
   ]
  },
  {
   "cell_type": "markdown",
   "metadata": {},
   "source": [
    "Redo for the pin_matched pcd"
   ]
  },
  {
   "cell_type": "code",
   "execution_count": 42,
   "metadata": {},
   "outputs": [],
   "source": [
    "imatrix =  util_la.create_rotational_transform_matrix(\n",
    "    rgbd_pin_data['circle_center_3d'], rgbd_pin_data['vector'],\n",
    "    sfm_pin_data['circle_center_3d'], sfm_pin_data['vector'],\n",
    ")"
   ]
  },
  {
   "cell_type": "code",
   "execution_count": 43,
   "metadata": {},
   "outputs": [
    {
     "name": "stdout",
     "output_type": "stream",
     "text": [
      ":: Correct pin vector direction\n",
      "   st = 0.02490117400566914 | ed = 0.014901174005669137 | min = 1.5968594014028825e-06 | max = 0.027724247411914746\n",
      "   pin vector from [ 0.61102944 -0.79132896  0.02101178] to [-0.61102944  0.79132896 -0.02101178]\n",
      "   st = 0.02124887758114945 | ed = 0.03124887758114945 | min = 2.8272586289875354e-07 | max = 0.024529412427149757\n"
     ]
    }
   ],
   "source": [
    "rgbd_data_it = {}\n",
    "rgbd_data_it['pcd'] = copy.deepcopy(rgbd_data['pcd']).transform(imatrix)\n",
    "rgbd_data_it['pin_idx'] = rgbd_data['pin_idx']\n",
    "rgbd_data_it['pin_pcd'] = rgbd_data_it['pcd'].select_by_index(rgbd_data['pin_idx'])\n",
    "\n",
    "rgbd_pin_data_it = find_pin_center(\n",
    "    rgbd_data_it['pin_pcd'], rgbd_data_it['pcd'], \n",
    "    circle_color=[0,0,0], visualize=True, show=False\n",
    ")\n",
    "# find the pin neighbor of rgbd\n",
    "rgbd_nbr_data_it = find_pin_nbr(rgbd_data_it, rgbd_pin_data_it, radius= search_radius)"
   ]
  },
  {
   "cell_type": "code",
   "execution_count": 44,
   "metadata": {},
   "outputs": [],
   "source": [
    "rgbd_nbr_cross_pcd, rgbd_uv_id = get_nbr_cross(\n",
    "    rgbd_nbr_data_it['nbr_pcd'], \n",
    "    rgbd_pin_data_it['circle_center_3d'],\n",
    "    rgbd_pin_data_it['vector'],\n",
    "    buffer=0.001\n",
    ")"
   ]
  },
  {
   "cell_type": "code",
   "execution_count": 45,
   "metadata": {},
   "outputs": [],
   "source": [
    "o3d.visualization.draw_geometries([sfm_nbr_cross_pcd, rgbd_nbr_cross_pcd])"
   ]
  },
  {
   "cell_type": "markdown",
   "metadata": {},
   "source": [
    "DO ICP?"
   ]
  },
  {
   "cell_type": "code",
   "execution_count": 53,
   "metadata": {},
   "outputs": [],
   "source": [
    "def shape_based_icp(\n",
    "        source_binary_pcd, target_binary_pcd, initial_matrix=np.eye(4), \n",
    "        voxel_size=0.001, threshold=0.002, max_iter=2000\n",
    "    ):\n",
    "    \"\"\"_summary_\n",
    "\n",
    "    Parameters\n",
    "    ----------\n",
    "    source_binary_pcd : o3d.PointCloud\n",
    "        rgbd point cloud\n",
    "    target_binary_pcd : o3d.PointCloud\n",
    "        sfm point cloud\n",
    "    voxel_size : float, optional\n",
    "        the size for voxel downsampling, by default 0.001\n",
    "    color_weight : float, optional\n",
    "        the weight of color vs geometry, from 0 to 1, by default 0.7\n",
    "    threshold: float, optional\n",
    "        the distance? threshold to stop ICP align iterations, by default 0.002 (2mm)\n",
    "\n",
    "\n",
    "    Note\n",
    "    ----\n",
    "    By passing initial_matrix to `registration_colored_icp` gives a different (worse) results \n",
    "    than transforming first and then icp, and finally multiple two matrix together\n",
    "    \"\"\"\n",
    "    source_binary_pcd_t = copy.deepcopy(source_binary_pcd).transform(initial_matrix)\n",
    "\n",
    "    source_pcd_down = source_binary_pcd_t.voxel_down_sample(voxel_size)\n",
    "    target_pcd_down = target_binary_pcd.voxel_down_sample(voxel_size)\n",
    "\n",
    "    source_pcd_down.estimate_normals(\n",
    "        o3d.geometry.KDTreeSearchParamHybrid(radius=voxel_size * 2, max_nn=30))\n",
    "    target_pcd_down.estimate_normals(\n",
    "        o3d.geometry.KDTreeSearchParamHybrid(radius=voxel_size * 2, max_nn=30))\n",
    "    \n",
    "    result_icp = o3d.pipelines.registration.registration_icp(\n",
    "        source_pcd_down, target_pcd_down, threshold, initial_matrix,\n",
    "    o3d.pipelines.registration.TransformationEstimationPointToPoint())\n",
    "\n",
    "    print(result_icp.fitness, result_icp.inlier_rmse)\n",
    "    \n",
    "    return result_icp.transformation @ initial_matrix"
   ]
  },
  {
   "cell_type": "code",
   "execution_count": 54,
   "metadata": {},
   "outputs": [
    {
     "name": "stdout",
     "output_type": "stream",
     "text": [
      "0.658703071672355 0.0009501949761739882\n"
     ]
    }
   ],
   "source": [
    "o_matrix = shape_based_icp(rgbd_nbr_cross_pcd, sfm_nbr_cross_pcd, )"
   ]
  },
  {
   "cell_type": "code",
   "execution_count": 49,
   "metadata": {},
   "outputs": [
    {
     "data": {
      "text/plain": [
       "array([[ 9.98848982e-01,  4.78834088e-02, -2.80882440e-03,\n",
       "        -4.64208457e-04],\n",
       "       [-4.76727664e-02,  9.97507011e-01,  5.20295082e-02,\n",
       "        -6.77498119e-03],\n",
       "       [ 5.29317224e-03, -5.18357169e-02,  9.98641598e-01,\n",
       "         1.45583650e-03],\n",
       "       [ 0.00000000e+00,  0.00000000e+00,  0.00000000e+00,\n",
       "         1.00000000e+00]])"
      ]
     },
     "execution_count": 49,
     "metadata": {},
     "output_type": "execute_result"
    }
   ],
   "source": [
    "o_matrix"
   ]
  },
  {
   "cell_type": "code",
   "execution_count": 50,
   "metadata": {},
   "outputs": [],
   "source": [
    "from icp_align import draw_registration_result"
   ]
  },
  {
   "cell_type": "code",
   "execution_count": 52,
   "metadata": {},
   "outputs": [],
   "source": [
    "draw_registration_result(rgbd_nbr_cross_pcd, sfm_nbr_cross_pcd, o_matrix, show=True)"
   ]
  },
  {
   "cell_type": "code",
   "execution_count": null,
   "metadata": {},
   "outputs": [],
   "source": []
  }
 ],
 "metadata": {
  "kernelspec": {
   "display_name": "potatoscan",
   "language": "python",
   "name": "python3"
  },
  "language_info": {
   "codemirror_mode": {
    "name": "ipython",
    "version": 3
   },
   "file_extension": ".py",
   "mimetype": "text/x-python",
   "name": "python",
   "nbconvert_exporter": "python",
   "pygments_lexer": "ipython3",
   "version": "3.9.18"
  }
 },
 "nbformat": 4,
 "nbformat_minor": 2
}
