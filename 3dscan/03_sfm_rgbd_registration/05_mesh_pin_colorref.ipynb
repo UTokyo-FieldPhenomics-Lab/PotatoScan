{
 "cells": [
  {
   "cell_type": "code",
   "execution_count": 1,
   "metadata": {},
   "outputs": [],
   "source": [
    "import pathlib\n",
    "import numpy as np\n",
    "import skimage\n",
    "import plotly.graph_objects as go\n",
    "\n",
    "from scipy.spatial import ConvexHull\n",
    "\n",
    "import matplotlib.pyplot as plt\n",
    "from matplotlib.path import Path as pltpath\n",
    "from matplotlib.gridspec import GridSpec"
   ]
  },
  {
   "cell_type": "code",
   "execution_count": 2,
   "metadata": {},
   "outputs": [
    {
     "name": "stdout",
     "output_type": "stream",
     "text": [
      "Jupyter environment detected. Enabling Open3D WebVisualizer.\n",
      "[Open3D INFO] WebRTC GUI backend enabled.\n",
      "[Open3D INFO] WebRTCWindowSystem: HTTP handshake server disabled.\n"
     ]
    }
   ],
   "source": [
    "import open3d as o3d\n",
    "from copy import deepcopy"
   ]
  },
  {
   "cell_type": "markdown",
   "metadata": {},
   "source": [
    "# `def get_ref_color()`"
   ]
  },
  {
   "cell_type": "code",
   "execution_count": 3,
   "metadata": {},
   "outputs": [],
   "source": [
    "from matplotlib.colors import ListedColormap"
   ]
  },
  {
   "cell_type": "code",
   "execution_count": 7,
   "metadata": {},
   "outputs": [],
   "source": [
    "def get_ref_color():\n",
    "\n",
    "    ref_color_folder = pathlib.Path('./pin_ref/')\n",
    "\n",
    "    ref_color_rgb = []\n",
    "    ref_color_hsv = {}\n",
    "\n",
    "    for i in range(1,11):\n",
    "\n",
    "        ref_img_path = ref_color_folder / f\"{i}.png\"\n",
    "\n",
    "        ref_color_imarray = plt.imread( str(ref_img_path) )\n",
    "\n",
    "        mask = ref_color_imarray[:,:,3] == 1\n",
    "\n",
    "        ref_color_masked = ref_color_imarray[mask]\n",
    "\n",
    "        ref_color_rgb.append(np.median(ref_color_masked[:,0:3], axis=0))\n",
    "        ref_color_hsv[str(i)] = np.median(skimage.color.rgb2hsv(ref_color_masked[:,0:3]), axis=0)\n",
    "\n",
    "    custom_colormap = ListedColormap(np.asarray(ref_color_rgb))\n",
    "\n",
    "    return ref_color_hsv, custom_colormap"
   ]
  },
  {
   "cell_type": "code",
   "execution_count": 154,
   "metadata": {},
   "outputs": [
    {
     "data": {
      "text/plain": [
       "{'1': array([0.6111111 , 0.08333333, 0.11372549], dtype=float32),\n",
       " '2': array([0.62073493, 0.8206897 , 0.57254905], dtype=float32),\n",
       " '3': array([0.00803213, 0.8629442 , 0.7647059 ], dtype=float32),\n",
       " '4': array([0.15277779, 0.7258064 , 0.96862745], dtype=float32),\n",
       " '5': array([0.4732143 , 0.25112107, 0.8666667 ], dtype=float32),\n",
       " '6': array([0.6041667 , 0.03153153, 0.8745098 ], dtype=float32),\n",
       " '7': array([0.01010101, 0.14229248, 0.99607843], dtype=float32),\n",
       " '8': array([0.9032258 , 0.60392153, 0.99607843], dtype=float32),\n",
       " '9': array([0.42919388, 0.6547085 , 0.9254902 ], dtype=float32),\n",
       " '10': array([0.7558139 , 0.19591835, 0.9647059 ], dtype=float32)}"
      ]
     },
     "execution_count": 154,
     "metadata": {},
     "output_type": "execute_result"
    }
   ],
   "source": [
    "ref_color_hsv"
   ]
  },
  {
   "cell_type": "code",
   "execution_count": 8,
   "metadata": {},
   "outputs": [
    {
     "data": {
      "image/png": "[encoded data removed]",
      "text/html": [
       "<div style=\"vertical-align: middle;\"><strong>from_list</strong> </div><div class=\"cmap\"><img alt=\"from_list colormap\" title=\"from_list\" style=\"border: 1px solid #555;\" src=\"data:image/png;base64,iVBORw0KGgoAAAANSUhEUgAAAgAAAABACAYAAABsv8+/AAAAGHRFWHRUaXRsZQBmcm9tX2xpc3QgY29sb3JtYXBDL89FAAAAHnRFWHREZXNjcmlwdGlvbgBmcm9tX2xpc3QgY29sb3JtYXABtCnOAAAAMHRFWHRBdXRob3IATWF0cGxvdGxpYiB2My44LjAsIGh0dHBzOi8vbWF0cGxvdGxpYi5vcmefc/hPAAAAMnRFWHRTb2Z0d2FyZQBNYXRwbG90bGliIHYzLjguMCwgaHR0cHM6Ly9tYXRwbG90bGliLm9yZ7HVZ2gAAAF3SURBVHic7dahTQNgGABRWskKQHBN0DAGjlnYoRjSNTCMwQ7oGgwOCSlL/OFLuPcmOHmbi8ur09k/crp+nE5Y5uXjaTphmbu3m+mEZV6/DtMJy9z+nE8nLLPbfk8nrLM/Thcs87D/nE5Y5vn9fjphqe10AADw9wwAAAQZAAAIMgAAEGQAACDIAABAkAEAgCADAABBBgAAggwAAAQZAAAIMgAAEGQAACDIAABAkAEAgCADAABBBgAAggwAAAQZAAAIMgAAEGQAACDIAABAkAEAgCADAABBBgAAggwAAAQZAAAIMgAAEGQAACDIAABAkAEAgCADAABBBgAAggwAAAQZAAAIMgAAEGQAACDIAABAkAEAgCADAABBBgAAggwAAAQZAAAIMgAAEGQAACDIAABAkAEAgCADAABBBgAAggwAAAQZAAAIMgAAEGQAACDIAABAkAEAgCADAABBBgAAggwAAAQZAAAIMgAAEGQAACDIAABAkAEAgKBfVzgQGYzqZi4AAAAASUVORK5CYII=\"></div><div style=\"vertical-align: middle; max-width: 514px; display: flex; justify-content: space-between;\"><div style=\"float: left;\"><div title=\"#1b1c1dff\" style=\"display: inline-block; width: 1em; height: 1em; margin: 0; vertical-align: middle; border: 1px solid #555; background-color: #1b1c1dff;\"></div> under</div><div style=\"margin: 0 auto; display: inline-block;\">bad <div title=\"#00000000\" style=\"display: inline-block; width: 1em; height: 1em; margin: 0; vertical-align: middle; border: 1px solid #555; background-color: #00000000;\"></div></div><div style=\"float: right;\">over <div title=\"#dfc5f6ff\" style=\"display: inline-block; width: 1em; height: 1em; margin: 0; vertical-align: middle; border: 1px solid #555; background-color: #dfc5f6ff;\"></div></div>"
      ],
      "text/plain": [
       "<matplotlib.colors.ListedColormap at 0x7f65c6ef8f10>"
      ]
     },
     "execution_count": 8,
     "metadata": {},
     "output_type": "execute_result"
    }
   ],
   "source": [
    "ref_color_hsv, custom_colormap = get_ref_color()\n",
    "custom_colormap"
   ]
  },
  {
   "cell_type": "markdown",
   "metadata": {},
   "source": [
    "Get color and classify by distance threshold"
   ]
  },
  {
   "cell_type": "code",
   "execution_count": 12,
   "metadata": {},
   "outputs": [
    {
     "data": {
      "text/plain": [
       "array([1.2801202 , 1.50413943, 1.0348079 , ..., 1.4678141 , 1.32857991,\n",
       "       0.75496323])"
      ]
     },
     "execution_count": 12,
     "metadata": {},
     "output_type": "execute_result"
    }
   ],
   "source": [
    "sfm_pcd_folder = pathlib.Path(r'/home/crest/w/hwang_Pro/datasets/3DPotatoTwin/2_SfM/2_pcd')\n",
    "\n",
    "potato_id = '2R1-1'\n",
    "\n",
    "# def xxx\n",
    "sfm_pcd_path = sfm_pcd_folder / f\"{potato_id}_30000.ply\"\n",
    "sfm_pcd = o3d.io.read_point_cloud( str(sfm_pcd_path) )\n",
    "\n",
    "colors = np.asarray(sfm_pcd.colors)\n",
    "\n",
    "colors_hsv = skimage.color.rgb2hsv(colors)\n",
    "\n",
    "color_distance = abs(colors_hsv - ref_color_hsv[ potato_id.split('-')[-1] ]).sum(axis=1)\n",
    "\n",
    "color_distance"
   ]
  },
  {
   "cell_type": "code",
   "execution_count": 13,
   "metadata": {},
   "outputs": [
    {
     "data": {
      "text/plain": [
       "0.023262043003340546"
      ]
     },
     "execution_count": 13,
     "metadata": {},
     "output_type": "execute_result"
    }
   ],
   "source": [
    "color_distance.min()"
   ]
  },
  {
   "cell_type": "code",
   "execution_count": 14,
   "metadata": {},
   "outputs": [],
   "source": [
    "import matplotlib.colors as mcolors\n",
    "import matplotlib.cm as mcm"
   ]
  },
  {
   "cell_type": "code",
   "execution_count": 15,
   "metadata": {},
   "outputs": [
    {
     "data": {
      "text/plain": [
       "array([[0.344074, 0.780029, 0.397381, 1.      ],\n",
       "       [0.668054, 0.861999, 0.196293, 1.      ],\n",
       "       [0.132268, 0.655014, 0.519661, 1.      ],\n",
       "       ...,\n",
       "       [0.606045, 0.850733, 0.236712, 1.      ],\n",
       "       [0.404001, 0.800275, 0.362552, 1.      ],\n",
       "       [0.151918, 0.500685, 0.557587, 1.      ]])"
      ]
     },
     "execution_count": 15,
     "metadata": {},
     "output_type": "execute_result"
    }
   ],
   "source": [
    "# 定义一个Normalize对象，用于将数据值归一化到[0, 1]的范围\n",
    "norm = mcolors.Normalize(vmin=np.min(color_distance), vmax=np.max(color_distance))\n",
    "\n",
    "# 选择一个colormap\n",
    "colormap = plt.cm.viridis\n",
    "\n",
    "# 使用colormap和Normalize对象将数据值映射到颜色\n",
    "color_array = colormap(norm(color_distance))\n",
    "\n",
    "color_array"
   ]
  },
  {
   "cell_type": "code",
   "execution_count": 23,
   "metadata": {},
   "outputs": [
    {
     "data": {
      "image/png": "[encoded data removed]",
      "text/html": [
       "<div style=\"vertical-align: middle;\"><strong>viridis</strong> </div><div class=\"cmap\"><img alt=\"viridis colormap\" title=\"viridis\" style=\"border: 1px solid #555;\" src=\"data:image/png;base64,iVBORw0KGgoAAAANSUhEUgAAAgAAAABACAYAAABsv8+/AAAAFnRFWHRUaXRsZQB2aXJpZGlzIGNvbG9ybWFwrE0mCwAAABx0RVh0RGVzY3JpcHRpb24AdmlyaWRpcyBjb2xvcm1hcAtjl3IAAAAwdEVYdEF1dGhvcgBNYXRwbG90bGliIHYzLjguMCwgaHR0cHM6Ly9tYXRwbG90bGliLm9yZ59z+E8AAAAydEVYdFNvZnR3YXJlAE1hdHBsb3RsaWIgdjMuOC4wLCBodHRwczovL21hdHBsb3RsaWIub3JnsdVnaAAAAiJJREFUeJzt1kGSmzAURdEv2FqWkP0vJfQgMhQCGceV2Ttn4pL0EVQPum771X5vVVXVWv39XfrPeV193V5zS98f1sf5/fPjey73zu6/3Hv/uz2cz57f9vP68rxO9+/zre7nhvvG+et6vH92bw3PDfcsD+eX59+/53n96f3362/f87/vf5yr93Of72/fPV9P89tX3zGeH3OT8/07Zs+/32+TuXZZD8/VODf8W5uuH/b7vctlfuv7NazH8/t7ZnP7bz2cD3NL+/Ph3Hl+/efz83vWun/vuL++nquH9eu9w/uu6/vvOO49f/8xf77vOj+8b7Y/fMfse9ca/y7nv+d62a++X+f1vt+G/b7u+/u6TxzzS//tc2053QMABBEAABBIAABAIAEAAIEEAAAEEgAAEEgAAEAgAQAAgQQAAAQSAAAQSAAAQCABAACBBAAABBIAABBIAABAIAEAAIEEAAAEEgAAEEgAAEAgAQAAgQQAAAQSAAAQSAAAQCABAACBBAAABBIAABBIAABAIAEAAIEEAAAEEgAAEEgAAEAgAQAAgQQAAAQSAAAQSAAAQCABAACBBAAABBIAABBIAABAIAEAAIEEAAAEEgAAEEgAAEAgAQAAgQQAAAQSAAAQSAAAQCABAACBBAAABBIAABBIAABAIAEAAIEEAAAEEgAAEEgAAEAgAQAAgQQAAAQSAAAQSAAAQCABAACBBAAABBIAABBIAABAoB9ucImHxcKZtAAAAABJRU5ErkJggg==\"></div><div style=\"vertical-align: middle; max-width: 514px; display: flex; justify-content: space-between;\"><div style=\"float: left;\"><div title=\"#440154ff\" style=\"display: inline-block; width: 1em; height: 1em; margin: 0; vertical-align: middle; border: 1px solid #555; background-color: #440154ff;\"></div> under</div><div style=\"margin: 0 auto; display: inline-block;\">bad <div title=\"#00000000\" style=\"display: inline-block; width: 1em; height: 1em; margin: 0; vertical-align: middle; border: 1px solid #555; background-color: #00000000;\"></div></div><div style=\"float: right;\">over <div title=\"#fde725ff\" style=\"display: inline-block; width: 1em; height: 1em; margin: 0; vertical-align: middle; border: 1px solid #555; background-color: #fde725ff;\"></div></div>"
      ],
      "text/plain": [
       "<matplotlib.colors.ListedColormap at 0x7f657be93c40>"
      ]
     },
     "execution_count": 23,
     "metadata": {},
     "output_type": "execute_result"
    }
   ],
   "source": [
    "colormap"
   ]
  },
  {
   "cell_type": "code",
   "execution_count": 26,
   "metadata": {},
   "outputs": [],
   "source": [
    "sfm_pcd_cm = deepcopy(sfm_pcd)\n",
    "\n",
    "sfm_pcd_cm.colors = o3d.utility.Vector3dVector(color_array[:,0:3])\n",
    "\n",
    "pin_idx = np.where(color_distance < 0.25)[0]\n",
    "\n",
    "pin_pcd = sfm_pcd_cm.select_by_index(pin_idx)\n",
    "pin_pcd.paint_uniform_color([1,0,0])\n",
    "\n",
    "o3d.visualization.draw_geometries([sfm_pcd_cm, pin_pcd])\n",
    "# o3d.visualization.draw_geometries([sfm_pcd_cm])"
   ]
  },
  {
   "cell_type": "code",
   "execution_count": 25,
   "metadata": {},
   "outputs": [],
   "source": [
    "o3d.visualization.draw_geometries([sfm_pcd])"
   ]
  },
  {
   "cell_type": "code",
   "execution_count": 18,
   "metadata": {},
   "outputs": [],
   "source": [
    "import seaborn as sns"
   ]
  },
  {
   "cell_type": "code",
   "execution_count": 19,
   "metadata": {},
   "outputs": [
    {
     "name": "stderr",
     "output_type": "stream",
     "text": [
      "/tmp/ipykernel_1400734/1917430192.py:1: FutureWarning: \n",
      "\n",
      "`shade` is now deprecated in favor of `fill`; setting `fill=True`.\n",
      "This will become an error in seaborn v0.14.0; please update your code.\n",
      "\n",
      "  sns.kdeplot(color_distance, shade=True, color='green')\n",
      "/home/crest/Applications/miniconda3/envs/potatoscan/lib/python3.9/site-packages/seaborn/_oldcore.py:1498: FutureWarning: is_categorical_dtype is deprecated and will be removed in a future version. Use isinstance(dtype, CategoricalDtype) instead\n",
      "  if pd.api.types.is_categorical_dtype(vector):\n",
      "/home/crest/Applications/miniconda3/envs/potatoscan/lib/python3.9/site-packages/seaborn/_oldcore.py:1119: FutureWarning: use_inf_as_na option is deprecated and will be removed in a future version. Convert inf values to NaN before operating instead.\n",
      "  with pd.option_context('mode.use_inf_as_na', True):\n"
     ]
    },
    {
     "data": {
      "image/png": "[encoded data removed]",
      "text/plain": [
       "<Figure size 640x480 with 1 Axes>"
      ]
     },
     "metadata": {},
     "output_type": "display_data"
    }
   ],
   "source": [
    "sns.kdeplot(color_distance, shade=True, color='green')\n",
    "plt.title('Kernel Density Estimate of Data Values')\n",
    "plt.xlabel('Value')\n",
    "plt.ylabel('Density')\n",
    "plt.grid(True)\n",
    "plt.show()"
   ]
  },
  {
   "cell_type": "markdown",
   "metadata": {},
   "source": [
    "Warp to funtions, try others"
   ]
  },
  {
   "cell_type": "code",
   "execution_count": 189,
   "metadata": {},
   "outputs": [],
   "source": [
    "def get_hull_volume(o3d_pcd):\n",
    "    pin_hull = o3d_pcd.compute_convex_hull()[0]\n",
    "    hull_volume = pin_hull.get_volume() * 1000 ** 3 # mm3\n",
    "\n",
    "    return hull_volume\n",
    "\n",
    "def iter_hull_volume_by_thresh(sfm_pcd, color_distance_norm, thresh):\n",
    "\n",
    "    pin_idx = np.where(color_distance_norm < thresh)[0]\n",
    "\n",
    "    # calculate volume, if too large needs denoise\n",
    "    pin_pcd = sfm_pcd.select_by_index(pin_idx)\n",
    "    hull_volume = get_hull_volume(pin_pcd) # mm3\n",
    "\n",
    "    return hull_volume, pin_idx\n",
    "\n",
    "def hsv_ref_pin(sfm_pcd_folder, potato_id, ref_color_hsv, thresh=None, visualize=False):\n",
    "    # get the sfm pcd\n",
    "    sfm_pcd_path = sfm_pcd_folder / f\"{potato_id}_30000.ply\"\n",
    "    sfm_pcd = o3d.io.read_point_cloud( str(sfm_pcd_path) )\n",
    "\n",
    "    colors = np.asarray(sfm_pcd.colors)\n",
    "\n",
    "    colors_hsv = skimage.color.rgb2hsv(colors)\n",
    "\n",
    "    \n",
    "    # color_distance = abs(colors_hsv - ref_color_hsv[ potato_id.split('-')[-1] ]).sum(axis=1)\n",
    "    color_distance_diff = abs(colors_hsv - ref_color_hsv[ potato_id.split('-')[-1] ])\n",
    "    # hue -> circular distances\n",
    "    need_hue_reverse = color_distance_diff[:,0] > 0.5\n",
    "    color_distance_diff[need_hue_reverse, 0] = 1 - color_distance_diff[need_hue_reverse, 0]\n",
    "\n",
    "    color_distance_weight = color_distance_diff * np.array([0.5,0.1,0.3])  # hsv weight\n",
    "    color_distance = color_distance_weight.sum(axis=1)\n",
    "\n",
    "    # 定义一个Normalize对象，用于将数据值归一化到[0, 1]的范围\n",
    "    norm = mcolors.Normalize(vmin=np.min(color_distance), vmax=np.max(color_distance))\n",
    "\n",
    "    color_distance_norm = norm(color_distance)\n",
    "\n",
    "    # manually set the threshold\n",
    "    if thresh is not None:\n",
    "        hull_volume, pin_idx = iter_hull_volume_by_thresh(sfm_pcd, color_distance_norm, thresh)\n",
    "    \n",
    "    # looping the thresh to denoise\n",
    "    else:\n",
    "        thresh = 0.35\n",
    "        hull_volume, pin_idx = iter_hull_volume_by_thresh(sfm_pcd, color_distance_norm, thresh)\n",
    "\n",
    "        while hull_volume > 60:\n",
    "            print(f\"Thresh={thresh} get pin convex hull volumn {hull_volume} > 60, denoise first\")\n",
    "            pin_pcd = sfm_pcd.select_by_index(pin_idx)\n",
    "            keeped, keeped_idx = pin_pcd.remove_radius_outlier(nb_points=40, radius=0.005)\n",
    "\n",
    "            denoised_volume = get_hull_volume(keeped)\n",
    "\n",
    "            if denoised_volume > 60:  # still > 50 after denoising\n",
    "                thresh -= 0.05\n",
    "\n",
    "                if thresh <0:\n",
    "                    raise ValueError(\"Threshold can not below 0\")\n",
    "\n",
    "                hull_volume, pin_idx = iter_hull_volume_by_thresh(sfm_pcd, color_distance_norm, thresh)\n",
    "            else:\n",
    "                hull_volume = denoised_volume\n",
    "                pin_idx = pin_idx[keeped_idx]\n",
    "                print(f\"Stop at thresh={thresh} with hull volume = {hull_volume} after denoising\")\n",
    "                break\n",
    "        else:\n",
    "            print(f\"Stop at thresh={thresh} with hull volume = {hull_volume}\")\n",
    "\n",
    "    # print(f\"pin volume = {hull_volume}\")\n",
    "    # if hull_volume > 60: # larger than pin, must have noise\n",
    "    #     keeped, keeped_idx = pin_pcd.remove_radius_outlier(nb_points=50, radius=0.005)\n",
    "\n",
    "    #     pin_idx = pin_idx[keeped_idx]\n",
    "\n",
    "    #     removed_pcd = pin_pcd.select_by_index(keeped_idx, invert=True)\n",
    "    #     removed_pcd.paint_uniform_color([0,1,1])\n",
    "\n",
    "    #     denoised_volume = sfm_pcd.select_by_index(pin_idx).compute_convex_hull()[0].get_volume()  * 1000 ** 3 \n",
    "    #     print(f\"pin convexhull volume denoised from {hull_volume} to {denoised_volume}\")\n",
    "\n",
    "    if visualize:\n",
    "        # 选择一个colormap\n",
    "        colormap = plt.cm.viridis\n",
    "\n",
    "        # 使用colormap和Normalize对象将数据值映射到颜色\n",
    "        color_array = colormap(norm(color_distance))\n",
    "        sfm_pcd_cm = deepcopy(sfm_pcd)\n",
    "        sfm_pcd_cm.colors = o3d.utility.Vector3dVector(color_array[:,0:3])\n",
    "\n",
    "        # add offsets\n",
    "        xyz = np.asarray(sfm_pcd_cm.points) + np.array([0.1, 0, 0])\n",
    "        sfm_pcd_cm.points = o3d.utility.Vector3dVector(xyz)\n",
    "\n",
    "        pin_pcd = sfm_pcd.select_by_index(pin_idx)\n",
    "        if potato_id.split('-')[-1] == '3': # red pin\n",
    "            pin_pcd.paint_uniform_color([0,1,0])\n",
    "        else:\n",
    "            pin_pcd.paint_uniform_color([1,0,0])\n",
    "        \n",
    "\n",
    "        o3d.visualization.draw_geometries([sfm_pcd, sfm_pcd_cm, pin_pcd], window_name=f\"{potato_id} | thresh={thresh}\")\n",
    "\n",
    "    return pin_idx, sfm_pcd\n",
    "        "
   ]
  },
  {
   "cell_type": "code",
   "execution_count": 184,
   "metadata": {},
   "outputs": [
    {
     "name": "stdout",
     "output_type": "stream",
     "text": [
      "Stop at thresh=0.35 with hull volume = 56.46652278364675\n"
     ]
    }
   ],
   "source": [
    "pin_idx, sfm_pcd = hsv_ref_pin(sfm_pcd_folder, 'R3-9', ref_color_hsv, visualize=True)"
   ]
  },
  {
   "cell_type": "code",
   "execution_count": 185,
   "metadata": {},
   "outputs": [
    {
     "name": "stdout",
     "output_type": "stream",
     "text": [
      "Stop at thresh=0.35 with hull volume = 23.672678227514094\n"
     ]
    }
   ],
   "source": [
    "pin_idx, sfm_pcd = hsv_ref_pin(sfm_pcd_folder, 'R3-1', ref_color_hsv, visualize=True)"
   ]
  },
  {
   "cell_type": "code",
   "execution_count": 190,
   "metadata": {},
   "outputs": [
    {
     "name": "stdout",
     "output_type": "stream",
     "text": [
      "Thresh=0.35 get pin convex hull volumn 96018.77215018909 > 60, denoise first\n",
      "Thresh=0.3 get pin convex hull volumn 92337.8503708364 > 60, denoise first\n",
      "Thresh=0.25 get pin convex hull volumn 66611.87525249117 > 60, denoise first\n",
      "Thresh=0.2 get pin convex hull volumn 3900.371686427296 > 60, denoise first\n",
      "Stop at thresh=0.2 with hull volume = 57.30333822858871 after denoising\n"
     ]
    }
   ],
   "source": [
    "pin_idx, sfm_pcd = hsv_ref_pin(sfm_pcd_folder, 'R3-3', ref_color_hsv, visualize=True)"
   ]
  },
  {
   "cell_type": "code",
   "execution_count": 187,
   "metadata": {},
   "outputs": [
    {
     "name": "stdout",
     "output_type": "stream",
     "text": [
      "Stop at thresh=0.35 with hull volume = 17.391274828099036\n"
     ]
    }
   ],
   "source": [
    "pin_idx, sfm_pcd = hsv_ref_pin(sfm_pcd_folder, '2R1-1', ref_color_hsv, visualize=True)"
   ]
  },
  {
   "cell_type": "code",
   "execution_count": 172,
   "metadata": {},
   "outputs": [
    {
     "name": "stdout",
     "output_type": "stream",
     "text": [
      "Stop at thresh=0.35 with hull volume = 23.67267822751408\n",
      "Stop at thresh=0.35 with hull volume = 52.90881284086653\n",
      "Thresh=0.35 get pin convex hull volumn 96018.77215018909 > 60, decrease thresh to denoise\n",
      "Thresh=0.3 get pin convex hull volumn 92337.85037083642 > 60, decrease thresh to denoise\n",
      "Thresh=0.25 get pin convex hull volumn 66611.87525249118 > 60, decrease thresh to denoise\n",
      "Thresh=0.2 get pin convex hull volumn 3900.371686427297 > 60, decrease thresh to denoise\n",
      "Stop at thresh=0.15000000000000002 with hull volume = 39.94922563771741\n",
      "Thresh=0.35 get pin convex hull volumn 109192.85301987654 > 60, decrease thresh to denoise\n",
      "Thresh=0.3 get pin convex hull volumn 63049.352429809034 > 60, decrease thresh to denoise\n",
      "Thresh=0.25 get pin convex hull volumn 48557.098499598935 > 60, decrease thresh to denoise\n",
      "Thresh=0.2 get pin convex hull volumn 14095.329313550943 > 60, decrease thresh to denoise\n",
      "Stop at thresh=0.15000000000000002 with hull volume = 47.46596506283321\n",
      "Thresh=0.35 get pin convex hull volumn 493.0525424419968 > 60, decrease thresh to denoise\n",
      "Stop at thresh=0.3 with hull volume = 46.498956965497506\n",
      "Stop at thresh=0.35 with hull volume = 56.33326379288443\n",
      "Thresh=0.35 get pin convex hull volumn 65178.021854977414 > 60, decrease thresh to denoise\n",
      "Thresh=0.3 get pin convex hull volumn 42682.86042730584 > 60, decrease thresh to denoise\n",
      "Thresh=0.25 get pin convex hull volumn 21170.302218841778 > 60, decrease thresh to denoise\n",
      "Thresh=0.2 get pin convex hull volumn 11262.852422883905 > 60, decrease thresh to denoise\n",
      "Stop at thresh=0.15000000000000002 with hull volume = 51.893853673190705\n",
      "Thresh=0.35 get pin convex hull volumn 19314.9174017422 > 60, decrease thresh to denoise\n",
      "Thresh=0.3 get pin convex hull volumn 60.82642955143413 > 60, decrease thresh to denoise\n",
      "Stop at thresh=0.25 with hull volume = 56.841245703884105\n",
      "Stop at thresh=0.35 with hull volume = 56.466522783646774\n",
      "Stop at thresh=0.35 with hull volume = 44.53745439425229\n"
     ]
    }
   ],
   "source": [
    "for i in range(1, 11):\n",
    "    pin_idx, sfm_pcd = hsv_ref_pin(sfm_pcd_folder, f'R3-{i}', ref_color_hsv, visualize=True)"
   ]
  },
  {
   "cell_type": "code",
   "execution_count": 192,
   "metadata": {},
   "outputs": [
    {
     "name": "stdout",
     "output_type": "stream",
     "text": [
      "Stop at thresh=0.35 with hull volume = 17.391274828098997\n",
      "Stop at thresh=0.35 with hull volume = 38.303704575832406\n",
      "Thresh=0.35 get pin convex hull volumn 70623.95291679646 > 60, denoise first\n",
      "Thresh=0.3 get pin convex hull volumn 46642.469341586904 > 60, denoise first\n",
      "Stop at thresh=0.25 with hull volume = 45.684075484683774\n",
      "Thresh=0.35 get pin convex hull volumn 127269.12240034944 > 60, denoise first\n",
      "Thresh=0.3 get pin convex hull volumn 84256.18204774515 > 60, denoise first\n",
      "Thresh=0.25 get pin convex hull volumn 14512.264995643869 > 60, denoise first\n",
      "Thresh=0.2 get pin convex hull volumn 882.9019884719562 > 60, denoise first\n",
      "Stop at thresh=0.2 with hull volume = 55.46160449633374 after denoising\n",
      "Stop at thresh=0.35 with hull volume = 31.587939667873695\n",
      "Stop at thresh=0.35 with hull volume = 39.165746554216675\n",
      "Thresh=0.35 get pin convex hull volumn 62210.62812811455 > 60, denoise first\n",
      "Thresh=0.3 get pin convex hull volumn 12284.732459672145 > 60, denoise first\n",
      "Thresh=0.25 get pin convex hull volumn 721.4383584635293 > 60, denoise first\n",
      "Stop at thresh=0.25 with hull volume = 49.18583915021819 after denoising\n",
      "Stop at thresh=0.35 with hull volume = 35.35576907304931\n",
      "Stop at thresh=0.35 with hull volume = 37.58381835907871\n",
      "Stop at thresh=0.35 with hull volume = 27.68352238601943\n"
     ]
    }
   ],
   "source": [
    "for i in range(1, 11):\n",
    "    pin_idx, sfm_pcd = hsv_ref_pin(sfm_pcd_folder, f'2R1-{i}', ref_color_hsv, visualize=True)"
   ]
  },
  {
   "cell_type": "code",
   "execution_count": 178,
   "metadata": {},
   "outputs": [
    {
     "name": "stdout",
     "output_type": "stream",
     "text": [
      "Thresh=0.35 get pin convex hull volumn 3906.2182390689845 > 60, decrease thresh to denoise\n",
      "Thresh=0.3 get pin convex hull volumn 3785.7649448090665 > 60, decrease thresh to denoise\n",
      "Thresh=0.25 get pin convex hull volumn 1018.9776620090993 > 60, decrease thresh to denoise\n",
      "Thresh=0.2 get pin convex hull volumn 998.7098012570738 > 60, decrease thresh to denoise\n",
      "Thresh=0.15000000000000002 get pin convex hull volumn 980.9376099067904 > 60, decrease thresh to denoise\n",
      "Thresh=0.10000000000000002 get pin convex hull volumn 718.3396602852837 > 60, decrease thresh to denoise\n",
      "Stop at thresh=0.05000000000000002 with hull volume = 19.96522392326387\n",
      "Stop at thresh=0.35 with hull volume = 52.44878984106247\n",
      "Thresh=0.35 get pin convex hull volumn 98349.09779929844 > 60, decrease thresh to denoise\n",
      "Thresh=0.3 get pin convex hull volumn 69809.7480554459 > 60, decrease thresh to denoise\n",
      "Thresh=0.25 get pin convex hull volumn 23760.572657633344 > 60, decrease thresh to denoise\n",
      "Thresh=0.2 get pin convex hull volumn 70.2404809499316 > 60, decrease thresh to denoise\n",
      "Thresh=0.15000000000000002 get pin convex hull volumn 68.49859326257683 > 60, decrease thresh to denoise\n",
      "Stop at thresh=0.10000000000000002 with hull volume = 59.393312127765284\n",
      "Thresh=0.35 get pin convex hull volumn 143257.68550377473 > 60, decrease thresh to denoise\n",
      "Thresh=0.3 get pin convex hull volumn 114959.44469746426 > 60, decrease thresh to denoise\n",
      "Thresh=0.25 get pin convex hull volumn 71662.72533286136 > 60, decrease thresh to denoise\n",
      "Thresh=0.2 get pin convex hull volumn 13738.999436625852 > 60, decrease thresh to denoise\n",
      "Stop at thresh=0.15000000000000002 with hull volume = 45.20184350708208\n",
      "Thresh=0.35 get pin convex hull volumn 22146.823086536082 > 60, decrease thresh to denoise\n",
      "Stop at thresh=0.3 with hull volume = 46.02184896969718\n",
      "Thresh=0.35 get pin convex hull volumn 66.55393722440725 > 60, decrease thresh to denoise\n",
      "Thresh=0.3 get pin convex hull volumn 66.55393722440745 > 60, decrease thresh to denoise\n",
      "Thresh=0.25 get pin convex hull volumn 65.22875856619424 > 60, decrease thresh to denoise\n",
      "Thresh=0.2 get pin convex hull volumn 65.19480022665988 > 60, decrease thresh to denoise\n",
      "Thresh=0.15000000000000002 get pin convex hull volumn 64.09452572625507 > 60, decrease thresh to denoise\n",
      "Thresh=0.10000000000000002 get pin convex hull volumn 60.84556493095023 > 60, decrease thresh to denoise\n",
      "Stop at thresh=0.05000000000000002 with hull volume = 48.64343189757102\n",
      "Thresh=0.35 get pin convex hull volumn 55940.0796673052 > 60, decrease thresh to denoise\n",
      "Thresh=0.3 get pin convex hull volumn 34794.57365819926 > 60, decrease thresh to denoise\n",
      "Thresh=0.25 get pin convex hull volumn 314.0134096424139 > 60, decrease thresh to denoise\n",
      "Thresh=0.2 get pin convex hull volumn 62.8565163461542 > 60, decrease thresh to denoise\n",
      "Stop at thresh=0.15000000000000002 with hull volume = 58.54170826332742\n",
      "Thresh=0.35 get pin convex hull volumn 67.2062891893026 > 60, decrease thresh to denoise\n",
      "Thresh=0.3 get pin convex hull volumn 66.78242426379545 > 60, decrease thresh to denoise\n",
      "Thresh=0.25 get pin convex hull volumn 65.4029040871312 > 60, decrease thresh to denoise\n",
      "Stop at thresh=0.2 with hull volume = 58.74620995916058\n",
      "Stop at thresh=0.35 with hull volume = 38.32512787750287\n",
      "Thresh=0.35 get pin convex hull volumn 64.31859932596505 > 60, decrease thresh to denoise\n",
      "Thresh=0.3 get pin convex hull volumn 63.568704007874416 > 60, decrease thresh to denoise\n",
      "Thresh=0.25 get pin convex hull volumn 63.568704007874395 > 60, decrease thresh to denoise\n",
      "Thresh=0.2 get pin convex hull volumn 63.48768385103295 > 60, decrease thresh to denoise\n",
      "Stop at thresh=0.15000000000000002 with hull volume = 59.75112927334135\n"
     ]
    }
   ],
   "source": [
    "for i in range(1, 11):\n",
    "    pin_idx, sfm_pcd = hsv_ref_pin(sfm_pcd_folder, f'4R3-{i}', ref_color_hsv, visualize=True)"
   ]
  },
  {
   "cell_type": "code",
   "execution_count": 191,
   "metadata": {},
   "outputs": [
    {
     "name": "stdout",
     "output_type": "stream",
     "text": [
      "Thresh=0.35 get pin convex hull volumn 3906.218239068983 > 60, denoise first\n",
      "Thresh=0.3 get pin convex hull volumn 3785.7649448090665 > 60, denoise first\n",
      "Thresh=0.25 get pin convex hull volumn 1018.977662009099 > 60, denoise first\n",
      "Thresh=0.2 get pin convex hull volumn 998.7098012570738 > 60, denoise first\n",
      "Thresh=0.15000000000000002 get pin convex hull volumn 980.9376099067904 > 60, denoise first\n",
      "Thresh=0.10000000000000002 get pin convex hull volumn 718.3396602852836 > 60, denoise first\n",
      "Stop at thresh=0.10000000000000002 with hull volume = 46.04120213020337 after denoising\n"
     ]
    }
   ],
   "source": [
    "pin_idx, sfm_pcd = hsv_ref_pin(sfm_pcd_folder, '4R3-1', ref_color_hsv, visualize=True)"
   ]
  },
  {
   "cell_type": "code",
   "execution_count": null,
   "metadata": {},
   "outputs": [],
   "source": []
  }
 ],
 "metadata": {
  "kernelspec": {
   "display_name": "potatoscan",
   "language": "python",
   "name": "python3"
  },
  "language_info": {
   "codemirror_mode": {
    "name": "ipython",
    "version": 3
   },
   "file_extension": ".py",
   "mimetype": "text/x-python",
   "name": "python",
   "nbconvert_exporter": "python",
   "pygments_lexer": "ipython3",
   "version": "3.9.18"
  }
 },
 "nbformat": 4,
 "nbformat_minor": 2
}
