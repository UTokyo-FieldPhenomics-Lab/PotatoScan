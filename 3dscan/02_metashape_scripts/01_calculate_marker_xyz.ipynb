{
 "cells": [
  {
   "cell_type": "code",
   "execution_count": 1,
   "metadata": {},
   "outputs": [],
   "source": [
    "import Metashape\n",
    "import numpy as np"
   ]
  },
  {
   "cell_type": "code",
   "execution_count": 2,
   "metadata": {},
   "outputs": [],
   "source": [
    "demo_ms = '/home/crest/z/hwang_Pro/data/2023_hokkaido_potato/projects.psx/test_1R_Group0.psx'"
   ]
  },
  {
   "cell_type": "code",
   "execution_count": 3,
   "metadata": {},
   "outputs": [
    {
     "name": "stdout",
     "output_type": "stream",
     "text": [
      "LoadProject: path = /home/crest/z/hwang_Pro/data/2023_hokkaido_potato/projects.psx/test_1R_Group0.psx\n",
      "loaded project in 0.003128 sec\n"
     ]
    },
    {
     "name": "stderr",
     "output_type": "stream",
     "text": [
      "Document.open(): The document is opened in read-only mode because it is already in use.\n"
     ]
    }
   ],
   "source": [
    "doc = Metashape.Document()\n",
    "doc.open(demo_ms)"
   ]
  },
  {
   "cell_type": "code",
   "execution_count": 4,
   "metadata": {},
   "outputs": [],
   "source": [
    "chunk = doc.chunk"
   ]
  },
  {
   "cell_type": "code",
   "execution_count": 9,
   "metadata": {},
   "outputs": [
    {
     "data": {
      "text/plain": [
       "{'51': Vector([1.3957983868862447, -0.6077544841731778, -4.323084803424499]),\n",
       " '52': Vector([1.2302009794025937, -0.5915432884245656, -4.046297350523651]),\n",
       " '54': Vector([1.6608510036856543, -0.6181216692615654, -4.15107212651686])}"
      ]
     },
     "execution_count": 9,
     "metadata": {},
     "output_type": "execute_result"
    }
   ],
   "source": [
    "marker_xyz_dict = {}\n",
    "total_points = []\n",
    "for m in chunk.markers:\n",
    "    if m.label in ['51', '52', '54']:\n",
    "        marker_xyz_dict[m.label] = m.position\n",
    "        total_points.append(m.position)\n",
    "\n",
    "marker_xyz_dict"
   ]
  },
  {
   "cell_type": "code",
   "execution_count": 13,
   "metadata": {},
   "outputs": [
    {
     "data": {
      "text/plain": [
       "array([[ 1.39579839, -0.60775448, -4.3230848 ],\n",
       "       [ 1.23020098, -0.59154329, -4.04629735],\n",
       "       [ 1.660851  , -0.61812167, -4.15107213]])"
      ]
     },
     "execution_count": 13,
     "metadata": {},
     "output_type": "execute_result"
    }
   ],
   "source": [
    "marker_xyz = np.asarray(total_points).astype(np.float64)\n",
    "marker_xyz"
   ]
  },
  {
   "cell_type": "markdown",
   "metadata": {},
   "source": [
    "Not use '53' because its position changed since 2R1-10"
   ]
  },
  {
   "cell_type": "code",
   "execution_count": 8,
   "metadata": {},
   "outputs": [],
   "source": [
    "def points2plane(points):\n",
    "    # ref: https://math.stackexchange.com/questions/99299/best-fitting-plane-given-a-set-of-points\n",
    "    A = np.matrix(np.insert(points[:,0:2], obj=2, values=1, axis=1))\n",
    "    b = np.matrix(points[:,2]).T\n",
    "  \n",
    "    fit = (A.T * A).I * A.T * b\n",
    "    #errors = b - A * fit\n",
    "    #residual = np.linalg.norm(errors)\n",
    "  \n",
    "    return float(fit[0]), float(fit[1]), -1.0, float(fit[2])  # Ax+By+Cz+D=0\n",
    "\n",
    "def point_on_plane(points, plane_param):\n",
    "    # ref: https://blog.csdn.net/soaryy/article/details/82884691\n",
    "    # Plane_params = (A, B, C ,D) -> Ax + By + Cz + D =0\n",
    "    A, B, C, D = plane_param\n",
    "    demomin = A**2 + B**2 + C**2\n",
    "    x0, y0, z0 = points[:,0], points[:,1], points[:,2]\n",
    "  \n",
    "    xp = ((B**2+C**2)*x0 - A*(B*y0+C*z0+D)) / demomin\n",
    "    yp = ((A**2+C**2)*y0 - B*(A*x0+C*z0+D)) / demomin\n",
    "    zp = ((A**2+B**2)*z0 - C*(A*x0+B*y0+D)) / demomin\n",
    "  \n",
    "    return np.vstack([xp, yp, zp]).T\n"
   ]
  },
  {
   "cell_type": "code",
   "execution_count": 14,
   "metadata": {},
   "outputs": [
    {
     "name": "stdout",
     "output_type": "stream",
     "text": [
      "2.193003208750035x+39.47537916368634y+-1.0z+16.60726355653857=0\n"
     ]
    },
    {
     "name": "stderr",
     "output_type": "stream",
     "text": [
      "/tmp/ipykernel_1270400/180089087.py:10: DeprecationWarning: Conversion of an array with ndim > 0 to a scalar is deprecated, and will error in future. Ensure you extract a single element from your array before performing this operation. (Deprecated NumPy 1.25.)\n",
      "  return float(fit[0]), float(fit[1]), -1.0, float(fit[2])  # Ax+By+Cz+D=0\n"
     ]
    }
   ],
   "source": [
    "params = points2plane(marker_xyz)\n",
    "print(f\"{params[0]}x+{params[1]}y+{params[2]}z+{params[3]}=0\")"
   ]
  },
  {
   "cell_type": "code",
   "execution_count": 15,
   "metadata": {},
   "outputs": [
    {
     "data": {
      "text/plain": [
       "array([[ 1.39579839, -0.60775448, -4.3230848 ],\n",
       "       [ 1.23020098, -0.59154329, -4.04629735],\n",
       "       [ 1.660851  , -0.61812167, -4.15107213]])"
      ]
     },
     "execution_count": 15,
     "metadata": {},
     "output_type": "execute_result"
    }
   ],
   "source": [
    "# project plots boundary to point plane\n",
    "plane_points = point_on_plane(marker_xyz, params)\n",
    "plane_points"
   ]
  },
  {
   "cell_type": "code",
   "execution_count": 24,
   "metadata": {},
   "outputs": [],
   "source": [
    "def vector_mod(Ax, By, Cz):\n",
    "    return np.sqrt(np.sum(np.square([Ax, By, Cz])))\n",
    "\n",
    "def find_unit_orthogonal_set(gcp3, params):\n",
    "    v1 = marker_xyz_dict['51'] - marker_xyz_dict['52']\n",
    "    v3 = np.asarray(params[0:3])\n",
    "    uv1 = v1 / vector_mod(*v1)\n",
    "    uv3 = v3 / vector_mod(*v3)\n",
    "    uv2 = np.cross(uv1, uv3)\n",
    "  \n",
    "    # 这边要看z向量的方向是否一致，修改uv3前面的正负号\n",
    "    return np.vstack([uv1, uv2, uv3]).T   # [v1, v2, v3] -> x, y, z coordinate\n",
    "\n",
    "def trans_coord(cvtmat, points):\n",
    "    return np.linalg.inv(cvtmat).dot(points.T).T\n"
   ]
  },
  {
   "cell_type": "code",
   "execution_count": 25,
   "metadata": {},
   "outputs": [
    {
     "data": {
      "text/plain": [
       "array([[ 0.5127651 ,  0.85673636,  0.05545043],\n",
       "       [-0.05019726, -0.03455901,  0.99814123],\n",
       "       [-0.8570602 ,  0.51459545, -0.02528516]])"
      ]
     },
     "execution_count": 25,
     "metadata": {},
     "output_type": "execute_result"
    }
   ],
   "source": [
    "cvtmat = find_unit_orthogonal_set(plane_points, params)\n",
    "cvtmat"
   ]
  },
  {
   "cell_type": "code",
   "execution_count": 26,
   "metadata": {},
   "outputs": [
    {
     "data": {
      "text/plain": [
       "array([[ 4.45136823, -1.00780514, -0.41991729],\n",
       "       [ 4.12841839, -1.00780514, -0.41991729],\n",
       "       [ 4.44037315, -0.6918497 , -0.41991729]])"
      ]
     },
     "execution_count": 26,
     "metadata": {},
     "output_type": "execute_result"
    }
   ],
   "source": [
    "plot_trans = trans_coord(cvtmat, plane_points)\n",
    "plot_trans"
   ]
  },
  {
   "cell_type": "code",
   "execution_count": 27,
   "metadata": {},
   "outputs": [
    {
     "data": {
      "text/plain": [
       "array([[ 0.11131497, -0.10531848,  0.        ],\n",
       "       [-0.21163487, -0.10531848, -0.        ],\n",
       "       [ 0.10031989,  0.21063696,  0.        ]])"
      ]
     },
     "execution_count": 27,
     "metadata": {},
     "output_type": "execute_result"
    }
   ],
   "source": [
    "plot_trans - plot_trans.mean(axis=0)"
   ]
  },
  {
   "cell_type": "code",
   "execution_count": 28,
   "metadata": {},
   "outputs": [],
   "source": [
    "np.set_printoptions(suppress=True)"
   ]
  },
  {
   "cell_type": "code",
   "execution_count": 29,
   "metadata": {},
   "outputs": [
    {
     "data": {
      "text/plain": [
       "array([[ 0.11131497, -0.10531848, -0.1       ],\n",
       "       [-0.21163487, -0.10531848, -0.1       ],\n",
       "       [ 0.10031989,  0.21063696, -0.1       ]])"
      ]
     },
     "execution_count": 29,
     "metadata": {},
     "output_type": "execute_result"
    }
   ],
   "source": [
    "plot_trans_ctr = plot_trans - plot_trans.mean(axis=0) - np.array([0,0, 0.1])\n",
    "plot_trans_ctr"
   ]
  },
  {
   "cell_type": "code",
   "execution_count": 33,
   "metadata": {},
   "outputs": [
    {
     "data": {
      "text/plain": [
       "array([[51],\n",
       "       [52],\n",
       "       [54]])"
      ]
     },
     "execution_count": 33,
     "metadata": {},
     "output_type": "execute_result"
    }
   ],
   "source": [
    "np.array([51,52,54]).reshape(3,1)"
   ]
  },
  {
   "cell_type": "code",
   "execution_count": 41,
   "metadata": {},
   "outputs": [
    {
     "data": {
      "text/plain": [
       "array([[51.        ,  0.11131497, -0.10531848, -0.1       ],\n",
       "       [52.        , -0.21163487, -0.10531848, -0.1       ],\n",
       "       [54.        ,  0.10031989,  0.21063696, -0.1       ]])"
      ]
     },
     "execution_count": 41,
     "metadata": {},
     "output_type": "execute_result"
    }
   ],
   "source": [
    "plot_trans_csv = np.hstack([np.array([51,52,54]).reshape(3,1), plot_trans_ctr])\n",
    "plot_trans_csv"
   ]
  },
  {
   "cell_type": "code",
   "execution_count": 42,
   "metadata": {},
   "outputs": [],
   "source": [
    "np.savetxt('gcp.csv', plot_trans_csv, delimiter= ',', fmt='%i%f%f%f')"
   ]
  },
  {
   "cell_type": "markdown",
   "metadata": {},
   "source": [
    "manually remove 51.0 -> 51"
   ]
  },
  {
   "cell_type": "code",
   "execution_count": null,
   "metadata": {},
   "outputs": [],
   "source": []
  }
 ],
 "metadata": {
  "kernelspec": {
   "display_name": "potatoscan",
   "language": "python",
   "name": "python3"
  },
  "language_info": {
   "codemirror_mode": {
    "name": "ipython",
    "version": 3
   },
   "file_extension": ".py",
   "mimetype": "text/x-python",
   "name": "python",
   "nbconvert_exporter": "python",
   "pygments_lexer": "ipython3",
   "version": "3.9.18"
  },
  "orig_nbformat": 4
 },
 "nbformat": 4,
 "nbformat_minor": 2
}
